{
 "cells": [
  {
   "cell_type": "code",
   "execution_count": 15,
   "id": "ff13684a",
   "metadata": {},
   "outputs": [],
   "source": [
    "import pandas as pd"
   ]
  },
  {
   "cell_type": "code",
   "execution_count": 16,
   "id": "d83425a0",
   "metadata": {},
   "outputs": [],
   "source": [
    "df = pd.read_csv(\"insurance.csv\")\n",
    "df.dropna(axis=0, inplace=True)"
   ]
  },
  {
   "cell_type": "code",
   "execution_count": 17,
   "id": "f2612314",
   "metadata": {},
   "outputs": [
    {
     "data": {
      "text/html": [
       "<div>\n",
       "<style scoped>\n",
       "    .dataframe tbody tr th:only-of-type {\n",
       "        vertical-align: middle;\n",
       "    }\n",
       "\n",
       "    .dataframe tbody tr th {\n",
       "        vertical-align: top;\n",
       "    }\n",
       "\n",
       "    .dataframe thead th {\n",
       "        text-align: right;\n",
       "    }\n",
       "</style>\n",
       "<table border=\"1\" class=\"dataframe\">\n",
       "  <thead>\n",
       "    <tr style=\"text-align: right;\">\n",
       "      <th></th>\n",
       "      <th>age</th>\n",
       "      <th>sex</th>\n",
       "      <th>bmi</th>\n",
       "      <th>children</th>\n",
       "      <th>smoker</th>\n",
       "      <th>region</th>\n",
       "      <th>charges</th>\n",
       "    </tr>\n",
       "  </thead>\n",
       "  <tbody>\n",
       "    <tr>\n",
       "      <th>0</th>\n",
       "      <td>19</td>\n",
       "      <td>female</td>\n",
       "      <td>27.900</td>\n",
       "      <td>0</td>\n",
       "      <td>yes</td>\n",
       "      <td>southwest</td>\n",
       "      <td>16884.92400</td>\n",
       "    </tr>\n",
       "    <tr>\n",
       "      <th>1</th>\n",
       "      <td>18</td>\n",
       "      <td>male</td>\n",
       "      <td>33.770</td>\n",
       "      <td>1</td>\n",
       "      <td>no</td>\n",
       "      <td>southeast</td>\n",
       "      <td>1725.55230</td>\n",
       "    </tr>\n",
       "    <tr>\n",
       "      <th>2</th>\n",
       "      <td>28</td>\n",
       "      <td>male</td>\n",
       "      <td>33.000</td>\n",
       "      <td>3</td>\n",
       "      <td>no</td>\n",
       "      <td>southeast</td>\n",
       "      <td>4449.46200</td>\n",
       "    </tr>\n",
       "    <tr>\n",
       "      <th>3</th>\n",
       "      <td>33</td>\n",
       "      <td>male</td>\n",
       "      <td>22.705</td>\n",
       "      <td>0</td>\n",
       "      <td>no</td>\n",
       "      <td>northwest</td>\n",
       "      <td>21984.47061</td>\n",
       "    </tr>\n",
       "    <tr>\n",
       "      <th>4</th>\n",
       "      <td>32</td>\n",
       "      <td>male</td>\n",
       "      <td>28.880</td>\n",
       "      <td>0</td>\n",
       "      <td>no</td>\n",
       "      <td>northwest</td>\n",
       "      <td>3866.85520</td>\n",
       "    </tr>\n",
       "    <tr>\n",
       "      <th>...</th>\n",
       "      <td>...</td>\n",
       "      <td>...</td>\n",
       "      <td>...</td>\n",
       "      <td>...</td>\n",
       "      <td>...</td>\n",
       "      <td>...</td>\n",
       "      <td>...</td>\n",
       "    </tr>\n",
       "    <tr>\n",
       "      <th>1333</th>\n",
       "      <td>50</td>\n",
       "      <td>male</td>\n",
       "      <td>30.970</td>\n",
       "      <td>3</td>\n",
       "      <td>no</td>\n",
       "      <td>northwest</td>\n",
       "      <td>10600.54830</td>\n",
       "    </tr>\n",
       "    <tr>\n",
       "      <th>1334</th>\n",
       "      <td>18</td>\n",
       "      <td>female</td>\n",
       "      <td>31.920</td>\n",
       "      <td>0</td>\n",
       "      <td>no</td>\n",
       "      <td>northeast</td>\n",
       "      <td>2205.98080</td>\n",
       "    </tr>\n",
       "    <tr>\n",
       "      <th>1335</th>\n",
       "      <td>18</td>\n",
       "      <td>female</td>\n",
       "      <td>36.850</td>\n",
       "      <td>0</td>\n",
       "      <td>no</td>\n",
       "      <td>southeast</td>\n",
       "      <td>1629.83350</td>\n",
       "    </tr>\n",
       "    <tr>\n",
       "      <th>1336</th>\n",
       "      <td>21</td>\n",
       "      <td>female</td>\n",
       "      <td>25.800</td>\n",
       "      <td>0</td>\n",
       "      <td>no</td>\n",
       "      <td>southwest</td>\n",
       "      <td>2007.94500</td>\n",
       "    </tr>\n",
       "    <tr>\n",
       "      <th>1337</th>\n",
       "      <td>61</td>\n",
       "      <td>female</td>\n",
       "      <td>29.070</td>\n",
       "      <td>0</td>\n",
       "      <td>yes</td>\n",
       "      <td>northwest</td>\n",
       "      <td>29141.36030</td>\n",
       "    </tr>\n",
       "  </tbody>\n",
       "</table>\n",
       "<p>1338 rows × 7 columns</p>\n",
       "</div>"
      ],
      "text/plain": [
       "      age     sex     bmi  children smoker     region      charges\n",
       "0      19  female  27.900         0    yes  southwest  16884.92400\n",
       "1      18    male  33.770         1     no  southeast   1725.55230\n",
       "2      28    male  33.000         3     no  southeast   4449.46200\n",
       "3      33    male  22.705         0     no  northwest  21984.47061\n",
       "4      32    male  28.880         0     no  northwest   3866.85520\n",
       "...   ...     ...     ...       ...    ...        ...          ...\n",
       "1333   50    male  30.970         3     no  northwest  10600.54830\n",
       "1334   18  female  31.920         0     no  northeast   2205.98080\n",
       "1335   18  female  36.850         0     no  southeast   1629.83350\n",
       "1336   21  female  25.800         0     no  southwest   2007.94500\n",
       "1337   61  female  29.070         0    yes  northwest  29141.36030\n",
       "\n",
       "[1338 rows x 7 columns]"
      ]
     },
     "execution_count": 17,
     "metadata": {},
     "output_type": "execute_result"
    }
   ],
   "source": [
    "df"
   ]
  },
  {
   "cell_type": "code",
   "execution_count": 18,
   "id": "f1783bb6",
   "metadata": {},
   "outputs": [
    {
     "data": {
      "text/plain": [
       "age         0\n",
       "sex         0\n",
       "bmi         0\n",
       "children    0\n",
       "smoker      0\n",
       "region      0\n",
       "charges     0\n",
       "dtype: int64"
      ]
     },
     "execution_count": 18,
     "metadata": {},
     "output_type": "execute_result"
    }
   ],
   "source": [
    "df.isna().sum()"
   ]
  },
  {
   "cell_type": "code",
   "execution_count": 19,
   "id": "a8b553c0",
   "metadata": {},
   "outputs": [
    {
     "data": {
      "text/html": [
       "<div>\n",
       "<style scoped>\n",
       "    .dataframe tbody tr th:only-of-type {\n",
       "        vertical-align: middle;\n",
       "    }\n",
       "\n",
       "    .dataframe tbody tr th {\n",
       "        vertical-align: top;\n",
       "    }\n",
       "\n",
       "    .dataframe thead th {\n",
       "        text-align: right;\n",
       "    }\n",
       "</style>\n",
       "<table border=\"1\" class=\"dataframe\">\n",
       "  <thead>\n",
       "    <tr style=\"text-align: right;\">\n",
       "      <th></th>\n",
       "      <th>age</th>\n",
       "      <th>bmi</th>\n",
       "      <th>children</th>\n",
       "      <th>charges</th>\n",
       "    </tr>\n",
       "  </thead>\n",
       "  <tbody>\n",
       "    <tr>\n",
       "      <th>count</th>\n",
       "      <td>1338.000000</td>\n",
       "      <td>1338.000000</td>\n",
       "      <td>1338.000000</td>\n",
       "      <td>1338.000000</td>\n",
       "    </tr>\n",
       "    <tr>\n",
       "      <th>mean</th>\n",
       "      <td>39.207025</td>\n",
       "      <td>30.663397</td>\n",
       "      <td>1.094918</td>\n",
       "      <td>13270.422265</td>\n",
       "    </tr>\n",
       "    <tr>\n",
       "      <th>std</th>\n",
       "      <td>14.049960</td>\n",
       "      <td>6.098187</td>\n",
       "      <td>1.205493</td>\n",
       "      <td>12110.011237</td>\n",
       "    </tr>\n",
       "    <tr>\n",
       "      <th>min</th>\n",
       "      <td>18.000000</td>\n",
       "      <td>15.960000</td>\n",
       "      <td>0.000000</td>\n",
       "      <td>1121.873900</td>\n",
       "    </tr>\n",
       "    <tr>\n",
       "      <th>25%</th>\n",
       "      <td>27.000000</td>\n",
       "      <td>26.296250</td>\n",
       "      <td>0.000000</td>\n",
       "      <td>4740.287150</td>\n",
       "    </tr>\n",
       "    <tr>\n",
       "      <th>50%</th>\n",
       "      <td>39.000000</td>\n",
       "      <td>30.400000</td>\n",
       "      <td>1.000000</td>\n",
       "      <td>9382.033000</td>\n",
       "    </tr>\n",
       "    <tr>\n",
       "      <th>75%</th>\n",
       "      <td>51.000000</td>\n",
       "      <td>34.693750</td>\n",
       "      <td>2.000000</td>\n",
       "      <td>16639.912515</td>\n",
       "    </tr>\n",
       "    <tr>\n",
       "      <th>max</th>\n",
       "      <td>64.000000</td>\n",
       "      <td>53.130000</td>\n",
       "      <td>5.000000</td>\n",
       "      <td>63770.428010</td>\n",
       "    </tr>\n",
       "  </tbody>\n",
       "</table>\n",
       "</div>"
      ],
      "text/plain": [
       "               age          bmi     children       charges\n",
       "count  1338.000000  1338.000000  1338.000000   1338.000000\n",
       "mean     39.207025    30.663397     1.094918  13270.422265\n",
       "std      14.049960     6.098187     1.205493  12110.011237\n",
       "min      18.000000    15.960000     0.000000   1121.873900\n",
       "25%      27.000000    26.296250     0.000000   4740.287150\n",
       "50%      39.000000    30.400000     1.000000   9382.033000\n",
       "75%      51.000000    34.693750     2.000000  16639.912515\n",
       "max      64.000000    53.130000     5.000000  63770.428010"
      ]
     },
     "execution_count": 19,
     "metadata": {},
     "output_type": "execute_result"
    }
   ],
   "source": [
    "df.describe()"
   ]
  },
  {
   "cell_type": "code",
   "execution_count": 20,
   "id": "8139f923",
   "metadata": {},
   "outputs": [
    {
     "name": "stdout",
     "output_type": "stream",
     "text": [
      "<class 'pandas.core.frame.DataFrame'>\n",
      "RangeIndex: 1338 entries, 0 to 1337\n",
      "Data columns (total 7 columns):\n",
      " #   Column    Non-Null Count  Dtype  \n",
      "---  ------    --------------  -----  \n",
      " 0   age       1338 non-null   int64  \n",
      " 1   sex       1338 non-null   object \n",
      " 2   bmi       1338 non-null   float64\n",
      " 3   children  1338 non-null   int64  \n",
      " 4   smoker    1338 non-null   object \n",
      " 5   region    1338 non-null   object \n",
      " 6   charges   1338 non-null   float64\n",
      "dtypes: float64(2), int64(2), object(3)\n",
      "memory usage: 73.3+ KB\n"
     ]
    }
   ],
   "source": [
    "df.info()"
   ]
  },
  {
   "cell_type": "markdown",
   "id": "443d02fe",
   "metadata": {},
   "source": [
    "# Split Testing"
   ]
  },
  {
   "cell_type": "code",
   "execution_count": 21,
   "id": "b83cbd01",
   "metadata": {},
   "outputs": [],
   "source": [
    "from sklearn.model_selection import train_test_split"
   ]
  },
  {
   "cell_type": "code",
   "execution_count": 22,
   "id": "de026e41",
   "metadata": {},
   "outputs": [],
   "source": [
    "x_train, x_test, y_train, y_test = train_test_split(\n",
    "    df.drop(columns=[\"charges\"]),\n",
    "    df[\"charges\"],\n",
    "    test_size=0.2,\n",
    "    random_state=42,\n",
    ")"
   ]
  },
  {
   "cell_type": "code",
   "execution_count": 23,
   "id": "2b394c72",
   "metadata": {},
   "outputs": [
    {
     "data": {
      "text/plain": [
       "(      age     sex     bmi  children smoker     region\n",
       " 560    46  female  19.950         2     no  northwest\n",
       " 1285   47  female  24.320         0     no  northeast\n",
       " 1142   52  female  24.860         0     no  southeast\n",
       " 969    39  female  34.320         5     no  southeast\n",
       " 486    54  female  21.470         3     no  northwest\n",
       " ...   ...     ...     ...       ...    ...        ...\n",
       " 1095   18  female  31.350         4     no  northeast\n",
       " 1130   39  female  23.870         5     no  southeast\n",
       " 1294   58    male  25.175         0     no  northeast\n",
       " 860    37  female  47.600         2    yes  southwest\n",
       " 1126   55    male  29.900         0     no  southwest\n",
       " \n",
       " [1070 rows x 6 columns],\n",
       "       age     sex     bmi  children smoker     region\n",
       " 764    45  female  25.175         2     no  northeast\n",
       " 887    36  female  30.020         0     no  northwest\n",
       " 890    64  female  26.885         0    yes  northwest\n",
       " 1293   46    male  25.745         3     no  northwest\n",
       " 259    19    male  31.920         0    yes  northwest\n",
       " ...   ...     ...     ...       ...    ...        ...\n",
       " 109    63    male  35.090         0    yes  southeast\n",
       " 575    58  female  27.170         0     no  northwest\n",
       " 535    38    male  28.025         1     no  northeast\n",
       " 543    54  female  47.410         0    yes  southeast\n",
       " 846    51  female  34.200         1     no  southwest\n",
       " \n",
       " [268 rows x 6 columns])"
      ]
     },
     "execution_count": 23,
     "metadata": {},
     "output_type": "execute_result"
    }
   ],
   "source": [
    "x_train, x_test"
   ]
  },
  {
   "cell_type": "code",
   "execution_count": 24,
   "id": "cc747b11",
   "metadata": {},
   "outputs": [
    {
     "data": {
      "text/plain": [
       "(560      9193.83850\n",
       " 1285     8534.67180\n",
       " 1142    27117.99378\n",
       " 969      8596.82780\n",
       " 486     12475.35130\n",
       "            ...     \n",
       " 1095     4561.18850\n",
       " 1130     8582.30230\n",
       " 1294    11931.12525\n",
       " 860     46113.51100\n",
       " 1126    10214.63600\n",
       " Name: charges, Length: 1070, dtype: float64,\n",
       " 764      9095.06825\n",
       " 887      5272.17580\n",
       " 890     29330.98315\n",
       " 1293     9301.89355\n",
       " 259     33750.29180\n",
       "            ...     \n",
       " 109     47055.53210\n",
       " 575     12222.89830\n",
       " 535      6067.12675\n",
       " 543     63770.42801\n",
       " 846      9872.70100\n",
       " Name: charges, Length: 268, dtype: float64)"
      ]
     },
     "execution_count": 24,
     "metadata": {},
     "output_type": "execute_result"
    }
   ],
   "source": [
    "y_train, y_test"
   ]
  },
  {
   "cell_type": "code",
   "execution_count": 25,
   "id": "547540ba",
   "metadata": {},
   "outputs": [],
   "source": [
    "df_train, df_test = train_test_split(\n",
    "    df,\n",
    "    test_size=0.2,\n",
    "    random_state=42,\n",
    ")"
   ]
  },
  {
   "cell_type": "code",
   "execution_count": 26,
   "id": "7f3fa7ce",
   "metadata": {},
   "outputs": [
    {
     "data": {
      "text/plain": [
       "(1070, 268)"
      ]
     },
     "execution_count": 26,
     "metadata": {},
     "output_type": "execute_result"
    }
   ],
   "source": [
    "len(df_train), len(df_test)"
   ]
  },
  {
   "cell_type": "markdown",
   "id": "1e05e9e2",
   "metadata": {},
   "source": [
    "# Encoder"
   ]
  },
  {
   "cell_type": "code",
   "execution_count": 27,
   "id": "48fba4cf",
   "metadata": {},
   "outputs": [],
   "source": [
    "from sklearn.model_selection import train_test_split, GridSearchCV, RandomizedSearchCV, KFold, cross_validate\n",
    "from sklearn.pipeline import Pipeline\n",
    "from sklearn.compose import ColumnTransformer\n",
    "from sklearn.preprocessing import OneHotEncoder, OrdinalEncoder, StandardScaler\n",
    "from sklearn.metrics import median_absolute_error, mean_absolute_error, mean_absolute_percentage_error, make_scorer\n",
    "from sklearn.ensemble import RandomForestRegressor\n",
    "import sklearn\n",
    "import optuna"
   ]
  },
  {
   "cell_type": "code",
   "execution_count": 28,
   "id": "0909e009",
   "metadata": {},
   "outputs": [],
   "source": [
    "encoder = ColumnTransformer(\n",
    "    [\n",
    "        ('onehot', OneHotEncoder(sparse_output=False, min_frequency=5, handle_unknown='infrequent_if_exist'), [\"sex\", \"smoker\", \"region\"])\n",
    "    ],\n",
    "    remainder=\"passthrough\",\n",
    "    verbose_feature_names_out=False,\n",
    "    force_int_remainder_cols=False\n",
    ")"
   ]
  },
  {
   "cell_type": "code",
   "execution_count": 29,
   "id": "1a0f7a78",
   "metadata": {},
   "outputs": [],
   "source": [
    "regressor = RandomForestRegressor(\n",
    "    n_estimators=100,\n",
    "    max_depth=10,\n",
    "    random_state=42,\n",
    "    n_jobs=-1\n",
    ")"
   ]
  },
  {
   "cell_type": "code",
   "execution_count": 30,
   "id": "e27b486f",
   "metadata": {},
   "outputs": [],
   "source": [
    "pipe = Pipeline([\n",
    "    (\"encoder\", encoder),\n",
    "    (\"standardization\", StandardScaler()),\n",
    "    (\"regressor\", regressor)\n",
    "])"
   ]
  },
  {
   "cell_type": "code",
   "execution_count": 31,
   "id": "2c509cf2",
   "metadata": {},
   "outputs": [
    {
     "data": {
      "text/html": [
       "<style>#sk-container-id-1 {\n",
       "  /* Definition of color scheme common for light and dark mode */\n",
       "  --sklearn-color-text: #000;\n",
       "  --sklearn-color-text-muted: #666;\n",
       "  --sklearn-color-line: gray;\n",
       "  /* Definition of color scheme for unfitted estimators */\n",
       "  --sklearn-color-unfitted-level-0: #fff5e6;\n",
       "  --sklearn-color-unfitted-level-1: #f6e4d2;\n",
       "  --sklearn-color-unfitted-level-2: #ffe0b3;\n",
       "  --sklearn-color-unfitted-level-3: chocolate;\n",
       "  /* Definition of color scheme for fitted estimators */\n",
       "  --sklearn-color-fitted-level-0: #f0f8ff;\n",
       "  --sklearn-color-fitted-level-1: #d4ebff;\n",
       "  --sklearn-color-fitted-level-2: #b3dbfd;\n",
       "  --sklearn-color-fitted-level-3: cornflowerblue;\n",
       "\n",
       "  /* Specific color for light theme */\n",
       "  --sklearn-color-text-on-default-background: var(--sg-text-color, var(--theme-code-foreground, var(--jp-content-font-color1, black)));\n",
       "  --sklearn-color-background: var(--sg-background-color, var(--theme-background, var(--jp-layout-color0, white)));\n",
       "  --sklearn-color-border-box: var(--sg-text-color, var(--theme-code-foreground, var(--jp-content-font-color1, black)));\n",
       "  --sklearn-color-icon: #696969;\n",
       "\n",
       "  @media (prefers-color-scheme: dark) {\n",
       "    /* Redefinition of color scheme for dark theme */\n",
       "    --sklearn-color-text-on-default-background: var(--sg-text-color, var(--theme-code-foreground, var(--jp-content-font-color1, white)));\n",
       "    --sklearn-color-background: var(--sg-background-color, var(--theme-background, var(--jp-layout-color0, #111)));\n",
       "    --sklearn-color-border-box: var(--sg-text-color, var(--theme-code-foreground, var(--jp-content-font-color1, white)));\n",
       "    --sklearn-color-icon: #878787;\n",
       "  }\n",
       "}\n",
       "\n",
       "#sk-container-id-1 {\n",
       "  color: var(--sklearn-color-text);\n",
       "}\n",
       "\n",
       "#sk-container-id-1 pre {\n",
       "  padding: 0;\n",
       "}\n",
       "\n",
       "#sk-container-id-1 input.sk-hidden--visually {\n",
       "  border: 0;\n",
       "  clip: rect(1px 1px 1px 1px);\n",
       "  clip: rect(1px, 1px, 1px, 1px);\n",
       "  height: 1px;\n",
       "  margin: -1px;\n",
       "  overflow: hidden;\n",
       "  padding: 0;\n",
       "  position: absolute;\n",
       "  width: 1px;\n",
       "}\n",
       "\n",
       "#sk-container-id-1 div.sk-dashed-wrapped {\n",
       "  border: 1px dashed var(--sklearn-color-line);\n",
       "  margin: 0 0.4em 0.5em 0.4em;\n",
       "  box-sizing: border-box;\n",
       "  padding-bottom: 0.4em;\n",
       "  background-color: var(--sklearn-color-background);\n",
       "}\n",
       "\n",
       "#sk-container-id-1 div.sk-container {\n",
       "  /* jupyter's `normalize.less` sets `[hidden] { display: none; }`\n",
       "     but bootstrap.min.css set `[hidden] { display: none !important; }`\n",
       "     so we also need the `!important` here to be able to override the\n",
       "     default hidden behavior on the sphinx rendered scikit-learn.org.\n",
       "     See: https://github.com/scikit-learn/scikit-learn/issues/21755 */\n",
       "  display: inline-block !important;\n",
       "  position: relative;\n",
       "}\n",
       "\n",
       "#sk-container-id-1 div.sk-text-repr-fallback {\n",
       "  display: none;\n",
       "}\n",
       "\n",
       "div.sk-parallel-item,\n",
       "div.sk-serial,\n",
       "div.sk-item {\n",
       "  /* draw centered vertical line to link estimators */\n",
       "  background-image: linear-gradient(var(--sklearn-color-text-on-default-background), var(--sklearn-color-text-on-default-background));\n",
       "  background-size: 2px 100%;\n",
       "  background-repeat: no-repeat;\n",
       "  background-position: center center;\n",
       "}\n",
       "\n",
       "/* Parallel-specific style estimator block */\n",
       "\n",
       "#sk-container-id-1 div.sk-parallel-item::after {\n",
       "  content: \"\";\n",
       "  width: 100%;\n",
       "  border-bottom: 2px solid var(--sklearn-color-text-on-default-background);\n",
       "  flex-grow: 1;\n",
       "}\n",
       "\n",
       "#sk-container-id-1 div.sk-parallel {\n",
       "  display: flex;\n",
       "  align-items: stretch;\n",
       "  justify-content: center;\n",
       "  background-color: var(--sklearn-color-background);\n",
       "  position: relative;\n",
       "}\n",
       "\n",
       "#sk-container-id-1 div.sk-parallel-item {\n",
       "  display: flex;\n",
       "  flex-direction: column;\n",
       "}\n",
       "\n",
       "#sk-container-id-1 div.sk-parallel-item:first-child::after {\n",
       "  align-self: flex-end;\n",
       "  width: 50%;\n",
       "}\n",
       "\n",
       "#sk-container-id-1 div.sk-parallel-item:last-child::after {\n",
       "  align-self: flex-start;\n",
       "  width: 50%;\n",
       "}\n",
       "\n",
       "#sk-container-id-1 div.sk-parallel-item:only-child::after {\n",
       "  width: 0;\n",
       "}\n",
       "\n",
       "/* Serial-specific style estimator block */\n",
       "\n",
       "#sk-container-id-1 div.sk-serial {\n",
       "  display: flex;\n",
       "  flex-direction: column;\n",
       "  align-items: center;\n",
       "  background-color: var(--sklearn-color-background);\n",
       "  padding-right: 1em;\n",
       "  padding-left: 1em;\n",
       "}\n",
       "\n",
       "\n",
       "/* Toggleable style: style used for estimator/Pipeline/ColumnTransformer box that is\n",
       "clickable and can be expanded/collapsed.\n",
       "- Pipeline and ColumnTransformer use this feature and define the default style\n",
       "- Estimators will overwrite some part of the style using the `sk-estimator` class\n",
       "*/\n",
       "\n",
       "/* Pipeline and ColumnTransformer style (default) */\n",
       "\n",
       "#sk-container-id-1 div.sk-toggleable {\n",
       "  /* Default theme specific background. It is overwritten whether we have a\n",
       "  specific estimator or a Pipeline/ColumnTransformer */\n",
       "  background-color: var(--sklearn-color-background);\n",
       "}\n",
       "\n",
       "/* Toggleable label */\n",
       "#sk-container-id-1 label.sk-toggleable__label {\n",
       "  cursor: pointer;\n",
       "  display: flex;\n",
       "  width: 100%;\n",
       "  margin-bottom: 0;\n",
       "  padding: 0.5em;\n",
       "  box-sizing: border-box;\n",
       "  text-align: center;\n",
       "  align-items: start;\n",
       "  justify-content: space-between;\n",
       "  gap: 0.5em;\n",
       "}\n",
       "\n",
       "#sk-container-id-1 label.sk-toggleable__label .caption {\n",
       "  font-size: 0.6rem;\n",
       "  font-weight: lighter;\n",
       "  color: var(--sklearn-color-text-muted);\n",
       "}\n",
       "\n",
       "#sk-container-id-1 label.sk-toggleable__label-arrow:before {\n",
       "  /* Arrow on the left of the label */\n",
       "  content: \"▸\";\n",
       "  float: left;\n",
       "  margin-right: 0.25em;\n",
       "  color: var(--sklearn-color-icon);\n",
       "}\n",
       "\n",
       "#sk-container-id-1 label.sk-toggleable__label-arrow:hover:before {\n",
       "  color: var(--sklearn-color-text);\n",
       "}\n",
       "\n",
       "/* Toggleable content - dropdown */\n",
       "\n",
       "#sk-container-id-1 div.sk-toggleable__content {\n",
       "  max-height: 0;\n",
       "  max-width: 0;\n",
       "  overflow: hidden;\n",
       "  text-align: left;\n",
       "  /* unfitted */\n",
       "  background-color: var(--sklearn-color-unfitted-level-0);\n",
       "}\n",
       "\n",
       "#sk-container-id-1 div.sk-toggleable__content.fitted {\n",
       "  /* fitted */\n",
       "  background-color: var(--sklearn-color-fitted-level-0);\n",
       "}\n",
       "\n",
       "#sk-container-id-1 div.sk-toggleable__content pre {\n",
       "  margin: 0.2em;\n",
       "  border-radius: 0.25em;\n",
       "  color: var(--sklearn-color-text);\n",
       "  /* unfitted */\n",
       "  background-color: var(--sklearn-color-unfitted-level-0);\n",
       "}\n",
       "\n",
       "#sk-container-id-1 div.sk-toggleable__content.fitted pre {\n",
       "  /* unfitted */\n",
       "  background-color: var(--sklearn-color-fitted-level-0);\n",
       "}\n",
       "\n",
       "#sk-container-id-1 input.sk-toggleable__control:checked~div.sk-toggleable__content {\n",
       "  /* Expand drop-down */\n",
       "  max-height: 200px;\n",
       "  max-width: 100%;\n",
       "  overflow: auto;\n",
       "}\n",
       "\n",
       "#sk-container-id-1 input.sk-toggleable__control:checked~label.sk-toggleable__label-arrow:before {\n",
       "  content: \"▾\";\n",
       "}\n",
       "\n",
       "/* Pipeline/ColumnTransformer-specific style */\n",
       "\n",
       "#sk-container-id-1 div.sk-label input.sk-toggleable__control:checked~label.sk-toggleable__label {\n",
       "  color: var(--sklearn-color-text);\n",
       "  background-color: var(--sklearn-color-unfitted-level-2);\n",
       "}\n",
       "\n",
       "#sk-container-id-1 div.sk-label.fitted input.sk-toggleable__control:checked~label.sk-toggleable__label {\n",
       "  background-color: var(--sklearn-color-fitted-level-2);\n",
       "}\n",
       "\n",
       "/* Estimator-specific style */\n",
       "\n",
       "/* Colorize estimator box */\n",
       "#sk-container-id-1 div.sk-estimator input.sk-toggleable__control:checked~label.sk-toggleable__label {\n",
       "  /* unfitted */\n",
       "  background-color: var(--sklearn-color-unfitted-level-2);\n",
       "}\n",
       "\n",
       "#sk-container-id-1 div.sk-estimator.fitted input.sk-toggleable__control:checked~label.sk-toggleable__label {\n",
       "  /* fitted */\n",
       "  background-color: var(--sklearn-color-fitted-level-2);\n",
       "}\n",
       "\n",
       "#sk-container-id-1 div.sk-label label.sk-toggleable__label,\n",
       "#sk-container-id-1 div.sk-label label {\n",
       "  /* The background is the default theme color */\n",
       "  color: var(--sklearn-color-text-on-default-background);\n",
       "}\n",
       "\n",
       "/* On hover, darken the color of the background */\n",
       "#sk-container-id-1 div.sk-label:hover label.sk-toggleable__label {\n",
       "  color: var(--sklearn-color-text);\n",
       "  background-color: var(--sklearn-color-unfitted-level-2);\n",
       "}\n",
       "\n",
       "/* Label box, darken color on hover, fitted */\n",
       "#sk-container-id-1 div.sk-label.fitted:hover label.sk-toggleable__label.fitted {\n",
       "  color: var(--sklearn-color-text);\n",
       "  background-color: var(--sklearn-color-fitted-level-2);\n",
       "}\n",
       "\n",
       "/* Estimator label */\n",
       "\n",
       "#sk-container-id-1 div.sk-label label {\n",
       "  font-family: monospace;\n",
       "  font-weight: bold;\n",
       "  display: inline-block;\n",
       "  line-height: 1.2em;\n",
       "}\n",
       "\n",
       "#sk-container-id-1 div.sk-label-container {\n",
       "  text-align: center;\n",
       "}\n",
       "\n",
       "/* Estimator-specific */\n",
       "#sk-container-id-1 div.sk-estimator {\n",
       "  font-family: monospace;\n",
       "  border: 1px dotted var(--sklearn-color-border-box);\n",
       "  border-radius: 0.25em;\n",
       "  box-sizing: border-box;\n",
       "  margin-bottom: 0.5em;\n",
       "  /* unfitted */\n",
       "  background-color: var(--sklearn-color-unfitted-level-0);\n",
       "}\n",
       "\n",
       "#sk-container-id-1 div.sk-estimator.fitted {\n",
       "  /* fitted */\n",
       "  background-color: var(--sklearn-color-fitted-level-0);\n",
       "}\n",
       "\n",
       "/* on hover */\n",
       "#sk-container-id-1 div.sk-estimator:hover {\n",
       "  /* unfitted */\n",
       "  background-color: var(--sklearn-color-unfitted-level-2);\n",
       "}\n",
       "\n",
       "#sk-container-id-1 div.sk-estimator.fitted:hover {\n",
       "  /* fitted */\n",
       "  background-color: var(--sklearn-color-fitted-level-2);\n",
       "}\n",
       "\n",
       "/* Specification for estimator info (e.g. \"i\" and \"?\") */\n",
       "\n",
       "/* Common style for \"i\" and \"?\" */\n",
       "\n",
       ".sk-estimator-doc-link,\n",
       "a:link.sk-estimator-doc-link,\n",
       "a:visited.sk-estimator-doc-link {\n",
       "  float: right;\n",
       "  font-size: smaller;\n",
       "  line-height: 1em;\n",
       "  font-family: monospace;\n",
       "  background-color: var(--sklearn-color-background);\n",
       "  border-radius: 1em;\n",
       "  height: 1em;\n",
       "  width: 1em;\n",
       "  text-decoration: none !important;\n",
       "  margin-left: 0.5em;\n",
       "  text-align: center;\n",
       "  /* unfitted */\n",
       "  border: var(--sklearn-color-unfitted-level-1) 1pt solid;\n",
       "  color: var(--sklearn-color-unfitted-level-1);\n",
       "}\n",
       "\n",
       ".sk-estimator-doc-link.fitted,\n",
       "a:link.sk-estimator-doc-link.fitted,\n",
       "a:visited.sk-estimator-doc-link.fitted {\n",
       "  /* fitted */\n",
       "  border: var(--sklearn-color-fitted-level-1) 1pt solid;\n",
       "  color: var(--sklearn-color-fitted-level-1);\n",
       "}\n",
       "\n",
       "/* On hover */\n",
       "div.sk-estimator:hover .sk-estimator-doc-link:hover,\n",
       ".sk-estimator-doc-link:hover,\n",
       "div.sk-label-container:hover .sk-estimator-doc-link:hover,\n",
       ".sk-estimator-doc-link:hover {\n",
       "  /* unfitted */\n",
       "  background-color: var(--sklearn-color-unfitted-level-3);\n",
       "  color: var(--sklearn-color-background);\n",
       "  text-decoration: none;\n",
       "}\n",
       "\n",
       "div.sk-estimator.fitted:hover .sk-estimator-doc-link.fitted:hover,\n",
       ".sk-estimator-doc-link.fitted:hover,\n",
       "div.sk-label-container:hover .sk-estimator-doc-link.fitted:hover,\n",
       ".sk-estimator-doc-link.fitted:hover {\n",
       "  /* fitted */\n",
       "  background-color: var(--sklearn-color-fitted-level-3);\n",
       "  color: var(--sklearn-color-background);\n",
       "  text-decoration: none;\n",
       "}\n",
       "\n",
       "/* Span, style for the box shown on hovering the info icon */\n",
       ".sk-estimator-doc-link span {\n",
       "  display: none;\n",
       "  z-index: 9999;\n",
       "  position: relative;\n",
       "  font-weight: normal;\n",
       "  right: .2ex;\n",
       "  padding: .5ex;\n",
       "  margin: .5ex;\n",
       "  width: min-content;\n",
       "  min-width: 20ex;\n",
       "  max-width: 50ex;\n",
       "  color: var(--sklearn-color-text);\n",
       "  box-shadow: 2pt 2pt 4pt #999;\n",
       "  /* unfitted */\n",
       "  background: var(--sklearn-color-unfitted-level-0);\n",
       "  border: .5pt solid var(--sklearn-color-unfitted-level-3);\n",
       "}\n",
       "\n",
       ".sk-estimator-doc-link.fitted span {\n",
       "  /* fitted */\n",
       "  background: var(--sklearn-color-fitted-level-0);\n",
       "  border: var(--sklearn-color-fitted-level-3);\n",
       "}\n",
       "\n",
       ".sk-estimator-doc-link:hover span {\n",
       "  display: block;\n",
       "}\n",
       "\n",
       "/* \"?\"-specific style due to the `<a>` HTML tag */\n",
       "\n",
       "#sk-container-id-1 a.estimator_doc_link {\n",
       "  float: right;\n",
       "  font-size: 1rem;\n",
       "  line-height: 1em;\n",
       "  font-family: monospace;\n",
       "  background-color: var(--sklearn-color-background);\n",
       "  border-radius: 1rem;\n",
       "  height: 1rem;\n",
       "  width: 1rem;\n",
       "  text-decoration: none;\n",
       "  /* unfitted */\n",
       "  color: var(--sklearn-color-unfitted-level-1);\n",
       "  border: var(--sklearn-color-unfitted-level-1) 1pt solid;\n",
       "}\n",
       "\n",
       "#sk-container-id-1 a.estimator_doc_link.fitted {\n",
       "  /* fitted */\n",
       "  border: var(--sklearn-color-fitted-level-1) 1pt solid;\n",
       "  color: var(--sklearn-color-fitted-level-1);\n",
       "}\n",
       "\n",
       "/* On hover */\n",
       "#sk-container-id-1 a.estimator_doc_link:hover {\n",
       "  /* unfitted */\n",
       "  background-color: var(--sklearn-color-unfitted-level-3);\n",
       "  color: var(--sklearn-color-background);\n",
       "  text-decoration: none;\n",
       "}\n",
       "\n",
       "#sk-container-id-1 a.estimator_doc_link.fitted:hover {\n",
       "  /* fitted */\n",
       "  background-color: var(--sklearn-color-fitted-level-3);\n",
       "}\n",
       "</style><div id=\"sk-container-id-1\" class=\"sk-top-container\"><div class=\"sk-text-repr-fallback\"><pre>Pipeline(steps=[(&#x27;encoder&#x27;,\n",
       "                 ColumnTransformer(force_int_remainder_cols=False,\n",
       "                                   remainder=&#x27;passthrough&#x27;,\n",
       "                                   transformers=[(&#x27;onehot&#x27;,\n",
       "                                                  OneHotEncoder(handle_unknown=&#x27;infrequent_if_exist&#x27;,\n",
       "                                                                min_frequency=5,\n",
       "                                                                sparse_output=False),\n",
       "                                                  [&#x27;sex&#x27;, &#x27;smoker&#x27;, &#x27;region&#x27;])],\n",
       "                                   verbose_feature_names_out=False)),\n",
       "                (&#x27;standardization&#x27;, StandardScaler()),\n",
       "                (&#x27;regressor&#x27;,\n",
       "                 RandomForestRegressor(max_depth=10, n_jobs=-1,\n",
       "                                       random_state=42))])</pre><b>In a Jupyter environment, please rerun this cell to show the HTML representation or trust the notebook. <br />On GitHub, the HTML representation is unable to render, please try loading this page with nbviewer.org.</b></div><div class=\"sk-container\" hidden><div class=\"sk-item sk-dashed-wrapped\"><div class=\"sk-label-container\"><div class=\"sk-label fitted sk-toggleable\"><input class=\"sk-toggleable__control sk-hidden--visually\" id=\"sk-estimator-id-1\" type=\"checkbox\" ><label for=\"sk-estimator-id-1\" class=\"sk-toggleable__label fitted sk-toggleable__label-arrow\"><div><div>Pipeline</div></div><div><a class=\"sk-estimator-doc-link fitted\" rel=\"noreferrer\" target=\"_blank\" href=\"https://scikit-learn.org/1.6/modules/generated/sklearn.pipeline.Pipeline.html\">?<span>Documentation for Pipeline</span></a><span class=\"sk-estimator-doc-link fitted\">i<span>Fitted</span></span></div></label><div class=\"sk-toggleable__content fitted\"><pre>Pipeline(steps=[(&#x27;encoder&#x27;,\n",
       "                 ColumnTransformer(force_int_remainder_cols=False,\n",
       "                                   remainder=&#x27;passthrough&#x27;,\n",
       "                                   transformers=[(&#x27;onehot&#x27;,\n",
       "                                                  OneHotEncoder(handle_unknown=&#x27;infrequent_if_exist&#x27;,\n",
       "                                                                min_frequency=5,\n",
       "                                                                sparse_output=False),\n",
       "                                                  [&#x27;sex&#x27;, &#x27;smoker&#x27;, &#x27;region&#x27;])],\n",
       "                                   verbose_feature_names_out=False)),\n",
       "                (&#x27;standardization&#x27;, StandardScaler()),\n",
       "                (&#x27;regressor&#x27;,\n",
       "                 RandomForestRegressor(max_depth=10, n_jobs=-1,\n",
       "                                       random_state=42))])</pre></div> </div></div><div class=\"sk-serial\"><div class=\"sk-item sk-dashed-wrapped\"><div class=\"sk-label-container\"><div class=\"sk-label fitted sk-toggleable\"><input class=\"sk-toggleable__control sk-hidden--visually\" id=\"sk-estimator-id-2\" type=\"checkbox\" ><label for=\"sk-estimator-id-2\" class=\"sk-toggleable__label fitted sk-toggleable__label-arrow\"><div><div>encoder: ColumnTransformer</div></div><div><a class=\"sk-estimator-doc-link fitted\" rel=\"noreferrer\" target=\"_blank\" href=\"https://scikit-learn.org/1.6/modules/generated/sklearn.compose.ColumnTransformer.html\">?<span>Documentation for encoder: ColumnTransformer</span></a></div></label><div class=\"sk-toggleable__content fitted\"><pre>ColumnTransformer(force_int_remainder_cols=False, remainder=&#x27;passthrough&#x27;,\n",
       "                  transformers=[(&#x27;onehot&#x27;,\n",
       "                                 OneHotEncoder(handle_unknown=&#x27;infrequent_if_exist&#x27;,\n",
       "                                               min_frequency=5,\n",
       "                                               sparse_output=False),\n",
       "                                 [&#x27;sex&#x27;, &#x27;smoker&#x27;, &#x27;region&#x27;])],\n",
       "                  verbose_feature_names_out=False)</pre></div> </div></div><div class=\"sk-parallel\"><div class=\"sk-parallel-item\"><div class=\"sk-item\"><div class=\"sk-label-container\"><div class=\"sk-label fitted sk-toggleable\"><input class=\"sk-toggleable__control sk-hidden--visually\" id=\"sk-estimator-id-3\" type=\"checkbox\" ><label for=\"sk-estimator-id-3\" class=\"sk-toggleable__label fitted sk-toggleable__label-arrow\"><div><div>onehot</div></div></label><div class=\"sk-toggleable__content fitted\"><pre>[&#x27;sex&#x27;, &#x27;smoker&#x27;, &#x27;region&#x27;]</pre></div> </div></div><div class=\"sk-serial\"><div class=\"sk-item\"><div class=\"sk-estimator fitted sk-toggleable\"><input class=\"sk-toggleable__control sk-hidden--visually\" id=\"sk-estimator-id-4\" type=\"checkbox\" ><label for=\"sk-estimator-id-4\" class=\"sk-toggleable__label fitted sk-toggleable__label-arrow\"><div><div>OneHotEncoder</div></div><div><a class=\"sk-estimator-doc-link fitted\" rel=\"noreferrer\" target=\"_blank\" href=\"https://scikit-learn.org/1.6/modules/generated/sklearn.preprocessing.OneHotEncoder.html\">?<span>Documentation for OneHotEncoder</span></a></div></label><div class=\"sk-toggleable__content fitted\"><pre>OneHotEncoder(handle_unknown=&#x27;infrequent_if_exist&#x27;, min_frequency=5,\n",
       "              sparse_output=False)</pre></div> </div></div></div></div></div><div class=\"sk-parallel-item\"><div class=\"sk-item\"><div class=\"sk-label-container\"><div class=\"sk-label fitted sk-toggleable\"><input class=\"sk-toggleable__control sk-hidden--visually\" id=\"sk-estimator-id-5\" type=\"checkbox\" ><label for=\"sk-estimator-id-5\" class=\"sk-toggleable__label fitted sk-toggleable__label-arrow\"><div><div>remainder</div></div></label><div class=\"sk-toggleable__content fitted\"><pre>[&#x27;age&#x27;, &#x27;bmi&#x27;, &#x27;children&#x27;]</pre></div> </div></div><div class=\"sk-serial\"><div class=\"sk-item\"><div class=\"sk-estimator fitted sk-toggleable\"><input class=\"sk-toggleable__control sk-hidden--visually\" id=\"sk-estimator-id-6\" type=\"checkbox\" ><label for=\"sk-estimator-id-6\" class=\"sk-toggleable__label fitted sk-toggleable__label-arrow\"><div><div>passthrough</div></div></label><div class=\"sk-toggleable__content fitted\"><pre>passthrough</pre></div> </div></div></div></div></div></div></div><div class=\"sk-item\"><div class=\"sk-estimator fitted sk-toggleable\"><input class=\"sk-toggleable__control sk-hidden--visually\" id=\"sk-estimator-id-7\" type=\"checkbox\" ><label for=\"sk-estimator-id-7\" class=\"sk-toggleable__label fitted sk-toggleable__label-arrow\"><div><div>StandardScaler</div></div><div><a class=\"sk-estimator-doc-link fitted\" rel=\"noreferrer\" target=\"_blank\" href=\"https://scikit-learn.org/1.6/modules/generated/sklearn.preprocessing.StandardScaler.html\">?<span>Documentation for StandardScaler</span></a></div></label><div class=\"sk-toggleable__content fitted\"><pre>StandardScaler()</pre></div> </div></div><div class=\"sk-item\"><div class=\"sk-estimator fitted sk-toggleable\"><input class=\"sk-toggleable__control sk-hidden--visually\" id=\"sk-estimator-id-8\" type=\"checkbox\" ><label for=\"sk-estimator-id-8\" class=\"sk-toggleable__label fitted sk-toggleable__label-arrow\"><div><div>RandomForestRegressor</div></div><div><a class=\"sk-estimator-doc-link fitted\" rel=\"noreferrer\" target=\"_blank\" href=\"https://scikit-learn.org/1.6/modules/generated/sklearn.ensemble.RandomForestRegressor.html\">?<span>Documentation for RandomForestRegressor</span></a></div></label><div class=\"sk-toggleable__content fitted\"><pre>RandomForestRegressor(max_depth=10, n_jobs=-1, random_state=42)</pre></div> </div></div></div></div></div></div>"
      ],
      "text/plain": [
       "Pipeline(steps=[('encoder',\n",
       "                 ColumnTransformer(force_int_remainder_cols=False,\n",
       "                                   remainder='passthrough',\n",
       "                                   transformers=[('onehot',\n",
       "                                                  OneHotEncoder(handle_unknown='infrequent_if_exist',\n",
       "                                                                min_frequency=5,\n",
       "                                                                sparse_output=False),\n",
       "                                                  ['sex', 'smoker', 'region'])],\n",
       "                                   verbose_feature_names_out=False)),\n",
       "                ('standardization', StandardScaler()),\n",
       "                ('regressor',\n",
       "                 RandomForestRegressor(max_depth=10, n_jobs=-1,\n",
       "                                       random_state=42))])"
      ]
     },
     "execution_count": 31,
     "metadata": {},
     "output_type": "execute_result"
    }
   ],
   "source": [
    "pipe.get_params()\n",
    "pipe.fit(x_train, y_train)"
   ]
  },
  {
   "cell_type": "code",
   "execution_count": 32,
   "id": "5a59ce57",
   "metadata": {},
   "outputs": [],
   "source": [
    "y_test_pred = pipe.predict(x_test)"
   ]
  },
  {
   "cell_type": "code",
   "execution_count": 33,
   "id": "f4422be2",
   "metadata": {},
   "outputs": [
    {
     "data": {
      "text/plain": [
       "2536.3051130123727"
      ]
     },
     "execution_count": 33,
     "metadata": {},
     "output_type": "execute_result"
    }
   ],
   "source": [
    "mean_absolute_error(y_test, y_test_pred)"
   ]
  },
  {
   "cell_type": "code",
   "execution_count": 34,
   "id": "4479823c",
   "metadata": {},
   "outputs": [
    {
     "data": {
      "text/plain": [
       "0.3037062973809438"
      ]
     },
     "execution_count": 34,
     "metadata": {},
     "output_type": "execute_result"
    }
   ],
   "source": [
    "mean_absolute_percentage_error(y_test, y_test_pred)"
   ]
  },
  {
   "cell_type": "markdown",
   "id": "1a8a3ab4",
   "metadata": {},
   "source": [
    "# Test Optuna"
   ]
  },
  {
   "cell_type": "code",
   "execution_count": 35,
   "id": "b4d88ebf",
   "metadata": {},
   "outputs": [
    {
     "name": "stderr",
     "output_type": "stream",
     "text": [
      "[I 2025-06-07 15:16:38,443] A new study created in RDB with name: Exodia\n"
     ]
    }
   ],
   "source": [
    "study = optuna.create_study(storage=\"sqlite:///model_selection.db\", study_name=\"Exodia\", direction=\"minimize\")"
   ]
  },
  {
   "cell_type": "code",
   "execution_count": 36,
   "id": "bbb40e7f",
   "metadata": {},
   "outputs": [],
   "source": [
    "def objective_func(trial):\n",
    "    params = {\n",
    "        'regressor__n_estimators': trial.suggest_int(\"regressor__n_estimators\", low= 10, high=100),\n",
    "        'regressor__criterion': trial.suggest_categorical(\"regressor__criterion\", ['squared_error', 'absolute_error']),\n",
    "        'encoder__onehot__min_frequency': trial.suggest_int(\"encoder__onehot__min_frequency\", 1, 10),\n",
    "        'regressor__max_depth': trial.suggest_int(\"regressor__max_depth\", 3, 20)\n",
    "    }\n",
    "\n",
    "    pipe.set_params(**params)\n",
    "    \n",
    "    scores = cross_validate(\n",
    "        pipe,\n",
    "        x_train,\n",
    "        y_train,\n",
    "        scoring=make_scorer(mean_absolute_error, greater_is_better=False),\n",
    "        cv=KFold(shuffle=True, random_state=42)\n",
    "    )\n",
    "\n",
    "    return abs(scores[\"test_score\"].mean())\n"
   ]
  },
  {
   "cell_type": "code",
   "execution_count": 37,
   "id": "5eae950e",
   "metadata": {},
   "outputs": [
    {
     "name": "stderr",
     "output_type": "stream",
     "text": [
      "[I 2025-06-07 15:16:41,334] Trial 4 finished with value: 2521.8762745511112 and parameters: {'regressor__n_estimators': 23, 'regressor__criterion': 'absolute_error', 'encoder__onehot__min_frequency': 6, 'regressor__max_depth': 11}. Best is trial 4 with value: 2521.8762745511112.\n",
      "[I 2025-06-07 15:16:43,345] Trial 0 finished with value: 2471.8301677098925 and parameters: {'regressor__n_estimators': 21, 'regressor__criterion': 'absolute_error', 'encoder__onehot__min_frequency': 1, 'regressor__max_depth': 10}. Best is trial 0 with value: 2471.8301677098925.\n",
      "[I 2025-06-07 15:16:43,646] Trial 3 finished with value: 2573.683261525547 and parameters: {'regressor__n_estimators': 62, 'regressor__criterion': 'absolute_error', 'encoder__onehot__min_frequency': 2, 'regressor__max_depth': 5}. Best is trial 0 with value: 2471.8301677098925.\n",
      "[I 2025-06-07 15:16:43,667] Trial 5 finished with value: 2689.9128243082314 and parameters: {'regressor__n_estimators': 29, 'regressor__criterion': 'squared_error', 'encoder__onehot__min_frequency': 2, 'regressor__max_depth': 10}. Best is trial 0 with value: 2471.8301677098925.\n",
      "[I 2025-06-07 15:16:43,803] Trial 11 finished with value: 2655.381017411147 and parameters: {'regressor__n_estimators': 38, 'regressor__criterion': 'squared_error', 'encoder__onehot__min_frequency': 3, 'regressor__max_depth': 8}. Best is trial 0 with value: 2471.8301677098925.\n",
      "[I 2025-06-07 15:16:43,893] Trial 1 finished with value: 2717.5739556335984 and parameters: {'regressor__n_estimators': 67, 'regressor__criterion': 'squared_error', 'encoder__onehot__min_frequency': 1, 'regressor__max_depth': 8}. Best is trial 0 with value: 2471.8301677098925.\n",
      "[I 2025-06-07 15:16:44,744] Trial 2 finished with value: 2617.2273288827705 and parameters: {'regressor__n_estimators': 60, 'regressor__criterion': 'absolute_error', 'encoder__onehot__min_frequency': 9, 'regressor__max_depth': 11}. Best is trial 0 with value: 2471.8301677098925.\n",
      "[I 2025-06-07 15:16:44,920] Trial 9 finished with value: 2612.516299827293 and parameters: {'regressor__n_estimators': 78, 'regressor__criterion': 'absolute_error', 'encoder__onehot__min_frequency': 5, 'regressor__max_depth': 9}. Best is trial 0 with value: 2471.8301677098925.\n",
      "[I 2025-06-07 15:16:44,933] Trial 10 finished with value: 2639.275235397792 and parameters: {'regressor__n_estimators': 35, 'regressor__criterion': 'absolute_error', 'encoder__onehot__min_frequency': 2, 'regressor__max_depth': 15}. Best is trial 0 with value: 2471.8301677098925.\n",
      "[I 2025-06-07 15:16:45,202] Trial 7 finished with value: 2623.932802838513 and parameters: {'regressor__n_estimators': 49, 'regressor__criterion': 'absolute_error', 'encoder__onehot__min_frequency': 4, 'regressor__max_depth': 11}. Best is trial 0 with value: 2471.8301677098925.\n",
      "[I 2025-06-07 15:16:45,265] Trial 6 finished with value: 2671.348483507888 and parameters: {'regressor__n_estimators': 30, 'regressor__criterion': 'squared_error', 'encoder__onehot__min_frequency': 10, 'regressor__max_depth': 8}. Best is trial 0 with value: 2471.8301677098925.\n",
      "[I 2025-06-07 15:16:45,444] Trial 8 finished with value: 2679.034067163758 and parameters: {'regressor__n_estimators': 38, 'regressor__criterion': 'squared_error', 'encoder__onehot__min_frequency': 3, 'regressor__max_depth': 8}. Best is trial 0 with value: 2471.8301677098925.\n",
      "[I 2025-06-07 15:16:45,865] Trial 12 finished with value: 2610.8368373953226 and parameters: {'regressor__n_estimators': 52, 'regressor__criterion': 'absolute_error', 'encoder__onehot__min_frequency': 6, 'regressor__max_depth': 12}. Best is trial 0 with value: 2471.8301677098925.\n",
      "[I 2025-06-07 15:16:45,983] Trial 13 finished with value: 2608.1532919192946 and parameters: {'regressor__n_estimators': 40, 'regressor__criterion': 'squared_error', 'encoder__onehot__min_frequency': 5, 'regressor__max_depth': 7}. Best is trial 0 with value: 2471.8301677098925.\n",
      "[I 2025-06-07 15:16:46,226] Trial 15 finished with value: 2866.499966798131 and parameters: {'regressor__n_estimators': 10, 'regressor__criterion': 'absolute_error', 'encoder__onehot__min_frequency': 7, 'regressor__max_depth': 17}. Best is trial 0 with value: 2471.8301677098925.\n",
      "[I 2025-06-07 15:16:46,881] Trial 14 finished with value: 2855.2061052510426 and parameters: {'regressor__n_estimators': 13, 'regressor__criterion': 'absolute_error', 'encoder__onehot__min_frequency': 7, 'regressor__max_depth': 16}. Best is trial 0 with value: 2471.8301677098925.\n",
      "[I 2025-06-07 15:16:47,275] Trial 16 finished with value: 2828.0090428929907 and parameters: {'regressor__n_estimators': 10, 'regressor__criterion': 'absolute_error', 'encoder__onehot__min_frequency': 7, 'regressor__max_depth': 15}. Best is trial 0 with value: 2471.8301677098925.\n",
      "[I 2025-06-07 15:16:47,620] Trial 17 finished with value: 2815.2128144188237 and parameters: {'regressor__n_estimators': 12, 'regressor__criterion': 'absolute_error', 'encoder__onehot__min_frequency': 7, 'regressor__max_depth': 16}. Best is trial 0 with value: 2471.8301677098925.\n",
      "[I 2025-06-07 15:16:49,098] Trial 19 finished with value: 2801.8576627359444 and parameters: {'regressor__n_estimators': 13, 'regressor__criterion': 'absolute_error', 'encoder__onehot__min_frequency': 7, 'regressor__max_depth': 17}. Best is trial 0 with value: 2471.8301677098925.\n",
      "[I 2025-06-07 15:16:49,853] Trial 22 finished with value: 2817.9211431612343 and parameters: {'regressor__n_estimators': 12, 'regressor__criterion': 'absolute_error', 'encoder__onehot__min_frequency': 7, 'regressor__max_depth': 19}. Best is trial 0 with value: 2471.8301677098925.\n",
      "[I 2025-06-07 15:16:50,556] Trial 21 finished with value: 2806.796582671701 and parameters: {'regressor__n_estimators': 10, 'regressor__criterion': 'absolute_error', 'encoder__onehot__min_frequency': 7, 'regressor__max_depth': 20}. Best is trial 0 with value: 2471.8301677098925.\n",
      "[I 2025-06-07 15:16:50,727] Trial 18 finished with value: 2786.7922260157125 and parameters: {'regressor__n_estimators': 16, 'regressor__criterion': 'absolute_error', 'encoder__onehot__min_frequency': 7, 'regressor__max_depth': 20}. Best is trial 0 with value: 2471.8301677098925.\n",
      "[I 2025-06-07 15:16:50,807] Trial 20 finished with value: 2803.2500072090843 and parameters: {'regressor__n_estimators': 10, 'regressor__criterion': 'absolute_error', 'encoder__onehot__min_frequency': 7, 'regressor__max_depth': 16}. Best is trial 0 with value: 2471.8301677098925.\n",
      "[I 2025-06-07 15:16:55,050] Trial 23 finished with value: 2656.3282611493814 and parameters: {'regressor__n_estimators': 20, 'regressor__criterion': 'absolute_error', 'encoder__onehot__min_frequency': 8, 'regressor__max_depth': 20}. Best is trial 0 with value: 2471.8301677098925.\n",
      "[I 2025-06-07 15:16:56,662] Trial 26 finished with value: 2595.208413626359 and parameters: {'regressor__n_estimators': 23, 'regressor__criterion': 'absolute_error', 'encoder__onehot__min_frequency': 9, 'regressor__max_depth': 20}. Best is trial 0 with value: 2471.8301677098925.\n",
      "[I 2025-06-07 15:16:56,842] Trial 25 finished with value: 2667.3955503334887 and parameters: {'regressor__n_estimators': 99, 'regressor__criterion': 'absolute_error', 'encoder__onehot__min_frequency': 8, 'regressor__max_depth': 20}. Best is trial 0 with value: 2471.8301677098925.\n",
      "[I 2025-06-07 15:16:57,014] Trial 24 finished with value: 2479.1766923050104 and parameters: {'regressor__n_estimators': 98, 'regressor__criterion': 'absolute_error', 'encoder__onehot__min_frequency': 8, 'regressor__max_depth': 13}. Best is trial 0 with value: 2471.8301677098925.\n",
      "[I 2025-06-07 15:16:59,647] Trial 28 finished with value: 2415.5167103458384 and parameters: {'regressor__n_estimators': 100, 'regressor__criterion': 'absolute_error', 'encoder__onehot__min_frequency': 9, 'regressor__max_depth': 20}. Best is trial 31 with value: 2332.6071521783338.\n",
      "[I 2025-06-07 15:16:59,733] Trial 32 finished with value: 2332.940911460577 and parameters: {'regressor__n_estimators': 94, 'regressor__criterion': 'absolute_error', 'encoder__onehot__min_frequency': 1, 'regressor__max_depth': 3}. Best is trial 31 with value: 2332.6071521783338.\n",
      "[I 2025-06-07 15:16:59,741] Trial 31 finished with value: 2332.6071521783338 and parameters: {'regressor__n_estimators': 94, 'regressor__criterion': 'absolute_error', 'encoder__onehot__min_frequency': 1, 'regressor__max_depth': 3}. Best is trial 31 with value: 2332.6071521783338.\n",
      "[I 2025-06-07 15:16:59,742] Trial 33 finished with value: 2332.8500687782794 and parameters: {'regressor__n_estimators': 96, 'regressor__criterion': 'absolute_error', 'encoder__onehot__min_frequency': 1, 'regressor__max_depth': 3}. Best is trial 31 with value: 2332.6071521783338.\n",
      "[I 2025-06-07 15:16:59,799] Trial 27 finished with value: 2391.40468121168 and parameters: {'regressor__n_estimators': 87, 'regressor__criterion': 'absolute_error', 'encoder__onehot__min_frequency': 9, 'regressor__max_depth': 3}. Best is trial 31 with value: 2332.6071521783338.\n",
      "[I 2025-06-07 15:16:59,851] Trial 30 finished with value: 2333.154718835646 and parameters: {'regressor__n_estimators': 78, 'regressor__criterion': 'absolute_error', 'encoder__onehot__min_frequency': 1, 'regressor__max_depth': 3}. Best is trial 31 with value: 2332.6071521783338.\n",
      "[I 2025-06-07 15:16:59,863] Trial 29 finished with value: 2351.1667644144245 and parameters: {'regressor__n_estimators': 97, 'regressor__criterion': 'absolute_error', 'encoder__onehot__min_frequency': 9, 'regressor__max_depth': 13}. Best is trial 31 with value: 2332.6071521783338.\n",
      "[I 2025-06-07 15:17:00,692] Trial 34 finished with value: 2333.1974448103465 and parameters: {'regressor__n_estimators': 99, 'regressor__criterion': 'absolute_error', 'encoder__onehot__min_frequency': 1, 'regressor__max_depth': 3}. Best is trial 31 with value: 2332.6071521783338.\n",
      "[I 2025-06-07 15:17:04,720] Trial 35 finished with value: 2085.6568980909797 and parameters: {'regressor__n_estimators': 100, 'regressor__criterion': 'absolute_error', 'encoder__onehot__min_frequency': 4, 'regressor__max_depth': 13}. Best is trial 36 with value: 2070.918983354157.\n",
      "[I 2025-06-07 15:17:05,091] Trial 36 finished with value: 2070.918983354157 and parameters: {'regressor__n_estimators': 97, 'regressor__criterion': 'absolute_error', 'encoder__onehot__min_frequency': 4, 'regressor__max_depth': 13}. Best is trial 38 with value: 1995.0910774872882.\n",
      "[I 2025-06-07 15:17:05,343] Trial 38 finished with value: 1995.0910774872882 and parameters: {'regressor__n_estimators': 89, 'regressor__criterion': 'absolute_error', 'encoder__onehot__min_frequency': 10, 'regressor__max_depth': 4}. Best is trial 37 with value: 1995.0910774872882.\n",
      "[I 2025-06-07 15:17:06,216] Trial 37 finished with value: 1995.0910774872882 and parameters: {'regressor__n_estimators': 89, 'regressor__criterion': 'absolute_error', 'encoder__onehot__min_frequency': 10, 'regressor__max_depth': 4}. Best is trial 37 with value: 1995.0910774872882.\n",
      "[I 2025-06-07 15:17:09,519] Trial 39 finished with value: 1924.6045217911662 and parameters: {'regressor__n_estimators': 86, 'regressor__criterion': 'absolute_error', 'encoder__onehot__min_frequency': 1, 'regressor__max_depth': 5}. Best is trial 39 with value: 1924.6045217911662.\n",
      "[I 2025-06-07 15:17:11,933] Trial 44 finished with value: 2052.8592748303004 and parameters: {'regressor__n_estimators': 87, 'regressor__criterion': 'absolute_error', 'encoder__onehot__min_frequency': 1, 'regressor__max_depth': 5}. Best is trial 39 with value: 1924.6045217911662.\n",
      "[I 2025-06-07 15:17:11,949] Trial 41 finished with value: 2057.888793975824 and parameters: {'regressor__n_estimators': 90, 'regressor__criterion': 'absolute_error', 'encoder__onehot__min_frequency': 1, 'regressor__max_depth': 5}. Best is trial 39 with value: 1924.6045217911662.\n",
      "[I 2025-06-07 15:17:11,950] Trial 42 finished with value: 2052.828945526493 and parameters: {'regressor__n_estimators': 88, 'regressor__criterion': 'absolute_error', 'encoder__onehot__min_frequency': 1, 'regressor__max_depth': 5}. Best is trial 39 with value: 1924.6045217911662.\n",
      "[I 2025-06-07 15:17:11,950] Trial 45 finished with value: 2052.828945526493 and parameters: {'regressor__n_estimators': 88, 'regressor__criterion': 'absolute_error', 'encoder__onehot__min_frequency': 1, 'regressor__max_depth': 5}. Best is trial 39 with value: 1924.6045217911662.\n",
      "[I 2025-06-07 15:17:12,157] Trial 40 finished with value: 2052.8592748302995 and parameters: {'regressor__n_estimators': 89, 'regressor__criterion': 'absolute_error', 'encoder__onehot__min_frequency': 1, 'regressor__max_depth': 5}. Best is trial 39 with value: 1924.6045217911662.\n",
      "[I 2025-06-07 15:17:12,204] Trial 46 finished with value: 2052.8592748303004 and parameters: {'regressor__n_estimators': 89, 'regressor__criterion': 'absolute_error', 'encoder__onehot__min_frequency': 1, 'regressor__max_depth': 5}. Best is trial 39 with value: 1924.6045217911662.\n",
      "[I 2025-06-07 15:17:12,563] Trial 43 finished with value: 2052.8592748303004 and parameters: {'regressor__n_estimators': 89, 'regressor__criterion': 'absolute_error', 'encoder__onehot__min_frequency': 1, 'regressor__max_depth': 5}. Best is trial 39 with value: 1924.6045217911662.\n",
      "[I 2025-06-07 15:17:14,040] Trial 49 finished with value: 2562.0422084134902 and parameters: {'regressor__n_estimators': 87, 'regressor__criterion': 'squared_error', 'encoder__onehot__min_frequency': 10, 'regressor__max_depth': 5}. Best is trial 39 with value: 1924.6045217911662.\n",
      "[I 2025-06-07 15:17:14,049] Trial 50 finished with value: 2562.0422084134893 and parameters: {'regressor__n_estimators': 87, 'regressor__criterion': 'squared_error', 'encoder__onehot__min_frequency': 10, 'regressor__max_depth': 5}. Best is trial 39 with value: 1924.6045217911662.\n",
      "[I 2025-06-07 15:17:14,121] Trial 47 finished with value: 2562.938038756153 and parameters: {'regressor__n_estimators': 86, 'regressor__criterion': 'squared_error', 'encoder__onehot__min_frequency': 10, 'regressor__max_depth': 5}. Best is trial 39 with value: 1924.6045217911662.\n",
      "[I 2025-06-07 15:17:14,137] Trial 48 finished with value: 2569.959761641111 and parameters: {'regressor__n_estimators': 87, 'regressor__criterion': 'squared_error', 'encoder__onehot__min_frequency': 10, 'regressor__max_depth': 6}. Best is trial 39 with value: 1924.6045217911662.\n",
      "[I 2025-06-07 15:17:14,674] Trial 51 finished with value: 2561.1155823453446 and parameters: {'regressor__n_estimators': 84, 'regressor__criterion': 'squared_error', 'encoder__onehot__min_frequency': 10, 'regressor__max_depth': 5}. Best is trial 39 with value: 1924.6045217911662.\n",
      "[I 2025-06-07 15:17:17,721] Trial 54 finished with value: 2230.797391814583 and parameters: {'regressor__n_estimators': 77, 'regressor__criterion': 'squared_error', 'encoder__onehot__min_frequency': 10, 'regressor__max_depth': 6}. Best is trial 39 with value: 1924.6045217911662.\n",
      "[I 2025-06-07 15:17:19,404] Trial 53 finished with value: 2131.21462646497 and parameters: {'regressor__n_estimators': 80, 'regressor__criterion': 'absolute_error', 'encoder__onehot__min_frequency': 2, 'regressor__max_depth': 4}. Best is trial 39 with value: 1924.6045217911662.\n",
      "[I 2025-06-07 15:17:21,362] Trial 52 finished with value: 2128.052275235881 and parameters: {'regressor__n_estimators': 80, 'regressor__criterion': 'absolute_error', 'encoder__onehot__min_frequency': 2, 'regressor__max_depth': 7}. Best is trial 39 with value: 1924.6045217911662.\n",
      "[I 2025-06-07 15:17:23,282] Trial 56 finished with value: 2128.6985340669125 and parameters: {'regressor__n_estimators': 70, 'regressor__criterion': 'absolute_error', 'encoder__onehot__min_frequency': 2, 'regressor__max_depth': 7}. Best is trial 39 with value: 1924.6045217911662.\n",
      "[I 2025-06-07 15:17:23,998] Trial 55 finished with value: 2106.710548084452 and parameters: {'regressor__n_estimators': 80, 'regressor__criterion': 'absolute_error', 'encoder__onehot__min_frequency': 2, 'regressor__max_depth': 7}. Best is trial 39 with value: 1924.6045217911662.\n",
      "[I 2025-06-07 15:17:24,446] Trial 58 finished with value: 2107.388571323176 and parameters: {'regressor__n_estimators': 79, 'regressor__criterion': 'absolute_error', 'encoder__onehot__min_frequency': 2, 'regressor__max_depth': 7}. Best is trial 39 with value: 1924.6045217911662.\n",
      "[I 2025-06-07 15:17:24,831] Trial 57 finished with value: 2107.817645359178 and parameters: {'regressor__n_estimators': 79, 'regressor__criterion': 'absolute_error', 'encoder__onehot__min_frequency': 2, 'regressor__max_depth': 7}. Best is trial 39 with value: 1924.6045217911662.\n",
      "[I 2025-06-07 15:17:25,049] Trial 60 finished with value: 2114.8478786153287 and parameters: {'regressor__n_estimators': 70, 'regressor__criterion': 'absolute_error', 'encoder__onehot__min_frequency': 2, 'regressor__max_depth': 6}. Best is trial 39 with value: 1924.6045217911662.\n",
      "[I 2025-06-07 15:17:25,726] Trial 59 finished with value: 2131.0955145006346 and parameters: {'regressor__n_estimators': 70, 'regressor__criterion': 'absolute_error', 'encoder__onehot__min_frequency': 2, 'regressor__max_depth': 7}. Best is trial 39 with value: 1924.6045217911662.\n",
      "[I 2025-06-07 15:17:25,984] Trial 62 finished with value: 2131.0955145006346 and parameters: {'regressor__n_estimators': 70, 'regressor__criterion': 'absolute_error', 'encoder__onehot__min_frequency': 2, 'regressor__max_depth': 7}. Best is trial 39 with value: 1924.6045217911662.\n",
      "[I 2025-06-07 15:17:25,985] Trial 63 finished with value: 2136.2299163761863 and parameters: {'regressor__n_estimators': 71, 'regressor__criterion': 'absolute_error', 'encoder__onehot__min_frequency': 2, 'regressor__max_depth': 4}. Best is trial 39 with value: 1924.6045217911662.\n",
      "[I 2025-06-07 15:17:26,176] Trial 61 finished with value: 2124.04533644603 and parameters: {'regressor__n_estimators': 80, 'regressor__criterion': 'absolute_error', 'encoder__onehot__min_frequency': 2, 'regressor__max_depth': 7}. Best is trial 39 with value: 1924.6045217911662.\n",
      "[I 2025-06-07 15:17:26,403] Trial 64 finished with value: 2098.4746620786304 and parameters: {'regressor__n_estimators': 71, 'regressor__criterion': 'absolute_error', 'encoder__onehot__min_frequency': 2, 'regressor__max_depth': 7}. Best is trial 39 with value: 1924.6045217911662.\n",
      "[I 2025-06-07 15:17:27,123] Trial 65 finished with value: 2046.7250145624027 and parameters: {'regressor__n_estimators': 73, 'regressor__criterion': 'absolute_error', 'encoder__onehot__min_frequency': 2, 'regressor__max_depth': 7}. Best is trial 39 with value: 1924.6045217911662.\n",
      "[I 2025-06-07 15:17:28,138] Trial 66 finished with value: 2041.0823851855907 and parameters: {'regressor__n_estimators': 71, 'regressor__criterion': 'absolute_error', 'encoder__onehot__min_frequency': 2, 'regressor__max_depth': 4}. Best is trial 39 with value: 1924.6045217911662.\n",
      "[I 2025-06-07 15:17:30,109] Trial 67 finished with value: 2037.7068614486052 and parameters: {'regressor__n_estimators': 59, 'regressor__criterion': 'absolute_error', 'encoder__onehot__min_frequency': 3, 'regressor__max_depth': 4}. Best is trial 39 with value: 1924.6045217911662.\n",
      "[I 2025-06-07 15:17:30,287] Trial 68 finished with value: 2038.0207672101837 and parameters: {'regressor__n_estimators': 62, 'regressor__criterion': 'absolute_error', 'encoder__onehot__min_frequency': 3, 'regressor__max_depth': 4}. Best is trial 39 with value: 1924.6045217911662.\n",
      "[I 2025-06-07 15:17:30,644] Trial 70 finished with value: 2040.367260999281 and parameters: {'regressor__n_estimators': 91, 'regressor__criterion': 'absolute_error', 'encoder__onehot__min_frequency': 3, 'regressor__max_depth': 4}. Best is trial 39 with value: 1924.6045217911662.\n",
      "[I 2025-06-07 15:17:32,063] Trial 69 finished with value: 2039.4333688480347 and parameters: {'regressor__n_estimators': 61, 'regressor__criterion': 'absolute_error', 'encoder__onehot__min_frequency': 5, 'regressor__max_depth': 4}. Best is trial 39 with value: 1924.6045217911662.\n",
      "[I 2025-06-07 15:17:32,071] Trial 71 finished with value: 2039.4704684708613 and parameters: {'regressor__n_estimators': 63, 'regressor__criterion': 'absolute_error', 'encoder__onehot__min_frequency': 3, 'regressor__max_depth': 4}. Best is trial 39 with value: 1924.6045217911662.\n",
      "[I 2025-06-07 15:17:33,592] Trial 72 finished with value: 2040.8989538519552 and parameters: {'regressor__n_estimators': 63, 'regressor__criterion': 'absolute_error', 'encoder__onehot__min_frequency': 3, 'regressor__max_depth': 4}. Best is trial 39 with value: 1924.6045217911662.\n",
      "[I 2025-06-07 15:17:33,651] Trial 73 finished with value: 2040.8687167446394 and parameters: {'regressor__n_estimators': 63, 'regressor__criterion': 'absolute_error', 'encoder__onehot__min_frequency': 3, 'regressor__max_depth': 4}. Best is trial 39 with value: 1924.6045217911662.\n",
      "[I 2025-06-07 15:17:33,943] Trial 75 finished with value: 2041.009634495588 and parameters: {'regressor__n_estimators': 62, 'regressor__criterion': 'absolute_error', 'encoder__onehot__min_frequency': 6, 'regressor__max_depth': 4}. Best is trial 39 with value: 1924.6045217911662.\n",
      "[I 2025-06-07 15:17:34,222] Trial 74 finished with value: 2041.5232298523492 and parameters: {'regressor__n_estimators': 61, 'regressor__criterion': 'absolute_error', 'encoder__onehot__min_frequency': 3, 'regressor__max_depth': 4}. Best is trial 39 with value: 1924.6045217911662.\n",
      "[I 2025-06-07 15:17:34,382] Trial 76 finished with value: 2041.0588812819435 and parameters: {'regressor__n_estimators': 59, 'regressor__criterion': 'absolute_error', 'encoder__onehot__min_frequency': 3, 'regressor__max_depth': 4}. Best is trial 39 with value: 1924.6045217911662.\n",
      "[I 2025-06-07 15:17:34,671] Trial 77 finished with value: 2041.1913157859278 and parameters: {'regressor__n_estimators': 58, 'regressor__criterion': 'absolute_error', 'encoder__onehot__min_frequency': 3, 'regressor__max_depth': 4}. Best is trial 39 with value: 1924.6045217911662.\n",
      "[I 2025-06-07 15:17:35,210] Trial 78 finished with value: 2041.5493039920334 and parameters: {'regressor__n_estimators': 61, 'regressor__criterion': 'absolute_error', 'encoder__onehot__min_frequency': 3, 'regressor__max_depth': 4}. Best is trial 39 with value: 1924.6045217911662.\n",
      "[I 2025-06-07 15:17:37,487] Trial 80 finished with value: 2213.958949847317 and parameters: {'regressor__n_estimators': 58, 'regressor__criterion': 'absolute_error', 'encoder__onehot__min_frequency': 3, 'regressor__max_depth': 4}. Best is trial 39 with value: 1924.6045217911662.\n",
      "[I 2025-06-07 15:17:37,534] Trial 83 finished with value: 2337.413639497439 and parameters: {'regressor__n_estimators': 54, 'regressor__criterion': 'absolute_error', 'encoder__onehot__min_frequency': 4, 'regressor__max_depth': 3}. Best is trial 39 with value: 1924.6045217911662.\n",
      "[I 2025-06-07 15:17:37,550] Trial 81 finished with value: 2215.2355350105327 and parameters: {'regressor__n_estimators': 63, 'regressor__criterion': 'absolute_error', 'encoder__onehot__min_frequency': 3, 'regressor__max_depth': 4}. Best is trial 39 with value: 1924.6045217911662.\n",
      "[I 2025-06-07 15:17:37,635] Trial 79 finished with value: 2214.290863913739 and parameters: {'regressor__n_estimators': 61, 'regressor__criterion': 'absolute_error', 'encoder__onehot__min_frequency': 3, 'regressor__max_depth': 4}. Best is trial 39 with value: 1924.6045217911662.\n",
      "[I 2025-06-07 15:17:38,141] Trial 82 finished with value: 2260.6404262667365 and parameters: {'regressor__n_estimators': 49, 'regressor__criterion': 'absolute_error', 'encoder__onehot__min_frequency': 5, 'regressor__max_depth': 3}. Best is trial 39 with value: 1924.6045217911662.\n",
      "[I 2025-06-07 15:17:41,426] Trial 86 finished with value: 2392.2897131406435 and parameters: {'regressor__n_estimators': 46, 'regressor__criterion': 'absolute_error', 'encoder__onehot__min_frequency': 4, 'regressor__max_depth': 6}. Best is trial 39 with value: 1924.6045217911662.\n",
      "[I 2025-06-07 15:17:41,435] Trial 85 finished with value: 2333.8008577665423 and parameters: {'regressor__n_estimators': 49, 'regressor__criterion': 'absolute_error', 'encoder__onehot__min_frequency': 4, 'regressor__max_depth': 6}. Best is trial 39 with value: 1924.6045217911662.\n",
      "[I 2025-06-07 15:17:41,754] Trial 84 finished with value: 2464.9717462632557 and parameters: {'regressor__n_estimators': 46, 'regressor__criterion': 'absolute_error', 'encoder__onehot__min_frequency': 4, 'regressor__max_depth': 9}. Best is trial 39 with value: 1924.6045217911662.\n",
      "[I 2025-06-07 15:17:42,265] Trial 87 finished with value: 2492.6476295286216 and parameters: {'regressor__n_estimators': 50, 'regressor__criterion': 'absolute_error', 'encoder__onehot__min_frequency': 4, 'regressor__max_depth': 6}. Best is trial 39 with value: 1924.6045217911662.\n",
      "[I 2025-06-07 15:17:43,563] Trial 89 finished with value: 2436.8213531536107 and parameters: {'regressor__n_estimators': 48, 'regressor__criterion': 'absolute_error', 'encoder__onehot__min_frequency': 4, 'regressor__max_depth': 9}. Best is trial 39 with value: 1924.6045217911662.\n",
      "[I 2025-06-07 15:17:43,810] Trial 88 finished with value: 2463.48348038308 and parameters: {'regressor__n_estimators': 48, 'regressor__criterion': 'absolute_error', 'encoder__onehot__min_frequency': 4, 'regressor__max_depth': 10}. Best is trial 39 with value: 1924.6045217911662.\n",
      "[I 2025-06-07 15:17:43,848] Trial 90 finished with value: 2393.2139342942273 and parameters: {'regressor__n_estimators': 52, 'regressor__criterion': 'absolute_error', 'encoder__onehot__min_frequency': 4, 'regressor__max_depth': 6}. Best is trial 39 with value: 1924.6045217911662.\n",
      "[I 2025-06-07 15:17:46,886] Trial 94 finished with value: 2475.759385322005 and parameters: {'regressor__n_estimators': 66, 'regressor__criterion': 'absolute_error', 'encoder__onehot__min_frequency': 4, 'regressor__max_depth': 10}. Best is trial 39 with value: 1924.6045217911662.\n",
      "[I 2025-06-07 15:17:47,224] Trial 92 finished with value: 2523.55153308482 and parameters: {'regressor__n_estimators': 66, 'regressor__criterion': 'absolute_error', 'encoder__onehot__min_frequency': 4, 'regressor__max_depth': 10}. Best is trial 39 with value: 1924.6045217911662.\n",
      "[I 2025-06-07 15:17:47,232] Trial 91 finished with value: 2509.8650953559895 and parameters: {'regressor__n_estimators': 66, 'regressor__criterion': 'absolute_error', 'encoder__onehot__min_frequency': 4, 'regressor__max_depth': 6}. Best is trial 39 with value: 1924.6045217911662.\n",
      "[I 2025-06-07 15:17:47,354] Trial 93 finished with value: 2453.2604120021033 and parameters: {'regressor__n_estimators': 65, 'regressor__criterion': 'absolute_error', 'encoder__onehot__min_frequency': 4, 'regressor__max_depth': 6}. Best is trial 39 with value: 1924.6045217911662.\n",
      "[I 2025-06-07 15:17:47,450] Trial 95 finished with value: 2523.55153308482 and parameters: {'regressor__n_estimators': 66, 'regressor__criterion': 'absolute_error', 'encoder__onehot__min_frequency': 4, 'regressor__max_depth': 10}. Best is trial 39 with value: 1924.6045217911662.\n",
      "[I 2025-06-07 15:17:49,711] Trial 97 finished with value: 2336.410950333358 and parameters: {'regressor__n_estimators': 66, 'regressor__criterion': 'absolute_error', 'encoder__onehot__min_frequency': 5, 'regressor__max_depth': 3}. Best is trial 39 with value: 1924.6045217911662.\n",
      "[I 2025-06-07 15:17:49,718] Trial 96 finished with value: 2336.4109503333584 and parameters: {'regressor__n_estimators': 66, 'regressor__criterion': 'absolute_error', 'encoder__onehot__min_frequency': 5, 'regressor__max_depth': 3}. Best is trial 39 with value: 1924.6045217911662.\n",
      "[I 2025-06-07 15:17:50,079] Trial 99 finished with value: 2336.064469386158 and parameters: {'regressor__n_estimators': 65, 'regressor__criterion': 'absolute_error', 'encoder__onehot__min_frequency': 5, 'regressor__max_depth': 3}. Best is trial 39 with value: 1924.6045217911662.\n",
      "[I 2025-06-07 15:17:50,605] Trial 98 finished with value: 2334.688752863479 and parameters: {'regressor__n_estimators': 83, 'regressor__criterion': 'absolute_error', 'encoder__onehot__min_frequency': 5, 'regressor__max_depth': 3}. Best is trial 39 with value: 1924.6045217911662.\n",
      "[I 2025-06-07 15:17:50,680] Trial 101 finished with value: 2334.287786218265 and parameters: {'regressor__n_estimators': 65, 'regressor__criterion': 'absolute_error', 'encoder__onehot__min_frequency': 5, 'regressor__max_depth': 3}. Best is trial 39 with value: 1924.6045217911662.\n",
      "[I 2025-06-07 15:17:51,259] Trial 100 finished with value: 2334.0753252115755 and parameters: {'regressor__n_estimators': 65, 'regressor__criterion': 'absolute_error', 'encoder__onehot__min_frequency': 5, 'regressor__max_depth': 3}. Best is trial 39 with value: 1924.6045217911662.\n",
      "[I 2025-06-07 15:17:51,817] Trial 102 finished with value: 2400.5030662802465 and parameters: {'regressor__n_estimators': 64, 'regressor__criterion': 'absolute_error', 'encoder__onehot__min_frequency': 5, 'regressor__max_depth': 3}. Best is trial 39 with value: 1924.6045217911662.\n",
      "[I 2025-06-07 15:17:53,245] Trial 103 finished with value: 2654.157017291708 and parameters: {'regressor__n_estimators': 92, 'regressor__criterion': 'squared_error', 'encoder__onehot__min_frequency': 5, 'regressor__max_depth': 3}. Best is trial 39 with value: 1924.6045217911662.\n",
      "[I 2025-06-07 15:17:54,304] Trial 105 finished with value: 2571.007958339888 and parameters: {'regressor__n_estimators': 92, 'regressor__criterion': 'squared_error', 'encoder__onehot__min_frequency': 6, 'regressor__max_depth': 5}. Best is trial 39 with value: 1924.6045217911662.\n",
      "[I 2025-06-07 15:17:54,563] Trial 104 finished with value: 2579.6351390982973 and parameters: {'regressor__n_estimators': 93, 'regressor__criterion': 'squared_error', 'encoder__onehot__min_frequency': 6, 'regressor__max_depth': 4}. Best is trial 39 with value: 1924.6045217911662.\n",
      "[I 2025-06-07 15:17:55,175] Trial 107 finished with value: 2578.9183590948037 and parameters: {'regressor__n_estimators': 92, 'regressor__criterion': 'squared_error', 'encoder__onehot__min_frequency': 6, 'regressor__max_depth': 4}. Best is trial 39 with value: 1924.6045217911662.\n",
      "[I 2025-06-07 15:17:55,287] Trial 106 finished with value: 2578.4818303351412 and parameters: {'regressor__n_estimators': 91, 'regressor__criterion': 'squared_error', 'encoder__onehot__min_frequency': 3, 'regressor__max_depth': 4}. Best is trial 39 with value: 1924.6045217911662.\n",
      "[I 2025-06-07 15:17:56,963] Trial 108 finished with value: 2366.5153057046264 and parameters: {'regressor__n_estimators': 93, 'regressor__criterion': 'squared_error', 'encoder__onehot__min_frequency': 6, 'regressor__max_depth': 4}. Best is trial 39 with value: 1924.6045217911662.\n",
      "[I 2025-06-07 15:17:58,427] Trial 110 finished with value: 2015.5338514156533 and parameters: {'regressor__n_estimators': 57, 'regressor__criterion': 'absolute_error', 'encoder__onehot__min_frequency': 6, 'regressor__max_depth': 4}. Best is trial 39 with value: 1924.6045217911662.\n",
      "[I 2025-06-07 15:17:59,073] Trial 111 finished with value: 1998.9235105371633 and parameters: {'regressor__n_estimators': 55, 'regressor__criterion': 'absolute_error', 'encoder__onehot__min_frequency': 6, 'regressor__max_depth': 4}. Best is trial 39 with value: 1924.6045217911662.\n",
      "[I 2025-06-07 15:17:59,160] Trial 109 finished with value: 2013.6671502255763 and parameters: {'regressor__n_estimators': 74, 'regressor__criterion': 'absolute_error', 'encoder__onehot__min_frequency': 9, 'regressor__max_depth': 4}. Best is trial 39 with value: 1924.6045217911662.\n",
      "[I 2025-06-07 15:17:59,356] Trial 112 finished with value: 1999.0815959596111 and parameters: {'regressor__n_estimators': 56, 'regressor__criterion': 'absolute_error', 'encoder__onehot__min_frequency': 9, 'regressor__max_depth': 4}. Best is trial 39 with value: 1924.6045217911662.\n",
      "[I 2025-06-07 15:18:00,438] Trial 113 finished with value: 1976.7450542579759 and parameters: {'regressor__n_estimators': 55, 'regressor__criterion': 'absolute_error', 'encoder__onehot__min_frequency': 8, 'regressor__max_depth': 4}. Best is trial 39 with value: 1924.6045217911662.\n",
      "[I 2025-06-07 15:18:01,282] Trial 114 finished with value: 1952.8257014004969 and parameters: {'regressor__n_estimators': 55, 'regressor__criterion': 'absolute_error', 'encoder__onehot__min_frequency': 9, 'regressor__max_depth': 4}. Best is trial 39 with value: 1924.6045217911662.\n",
      "[I 2025-06-07 15:18:01,440] Trial 115 finished with value: 1925.721285342054 and parameters: {'regressor__n_estimators': 56, 'regressor__criterion': 'absolute_error', 'encoder__onehot__min_frequency': 3, 'regressor__max_depth': 5}. Best is trial 39 with value: 1924.6045217911662.\n",
      "[I 2025-06-07 15:18:02,334] Trial 117 finished with value: 1927.033895987899 and parameters: {'regressor__n_estimators': 74, 'regressor__criterion': 'absolute_error', 'encoder__onehot__min_frequency': 9, 'regressor__max_depth': 5}. Best is trial 39 with value: 1924.6045217911662.\n",
      "[I 2025-06-07 15:18:02,803] Trial 116 finished with value: 1925.5176992547144 and parameters: {'regressor__n_estimators': 57, 'regressor__criterion': 'absolute_error', 'encoder__onehot__min_frequency': 8, 'regressor__max_depth': 5}. Best is trial 39 with value: 1924.6045217911662.\n",
      "[I 2025-06-07 15:18:02,854] Trial 119 finished with value: 1926.0186966575584 and parameters: {'regressor__n_estimators': 55, 'regressor__criterion': 'absolute_error', 'encoder__onehot__min_frequency': 9, 'regressor__max_depth': 5}. Best is trial 39 with value: 1924.6045217911662.\n",
      "[I 2025-06-07 15:18:02,918] Trial 118 finished with value: 1925.8530948120126 and parameters: {'regressor__n_estimators': 56, 'regressor__criterion': 'absolute_error', 'encoder__onehot__min_frequency': 8, 'regressor__max_depth': 5}. Best is trial 39 with value: 1924.6045217911662.\n",
      "[I 2025-06-07 15:18:02,981] Trial 120 finished with value: 1926.0645599489028 and parameters: {'regressor__n_estimators': 56, 'regressor__criterion': 'absolute_error', 'encoder__onehot__min_frequency': 9, 'regressor__max_depth': 5}. Best is trial 39 with value: 1924.6045217911662.\n",
      "[I 2025-06-07 15:18:05,049] Trial 121 finished with value: 1925.2077445931404 and parameters: {'regressor__n_estimators': 55, 'regressor__criterion': 'absolute_error', 'encoder__onehot__min_frequency': 8, 'regressor__max_depth': 5}. Best is trial 39 with value: 1924.6045217911662.\n",
      "[I 2025-06-07 15:18:06,368] Trial 122 finished with value: 1925.7134876208474 and parameters: {'regressor__n_estimators': 54, 'regressor__criterion': 'absolute_error', 'encoder__onehot__min_frequency': 9, 'regressor__max_depth': 5}. Best is trial 39 with value: 1924.6045217911662.\n",
      "[I 2025-06-07 15:18:06,553] Trial 123 finished with value: 1926.244799089284 and parameters: {'regressor__n_estimators': 56, 'regressor__criterion': 'absolute_error', 'encoder__onehot__min_frequency': 9, 'regressor__max_depth': 5}. Best is trial 39 with value: 1924.6045217911662.\n",
      "[I 2025-06-07 15:18:06,748] Trial 124 finished with value: 1926.0645599489028 and parameters: {'regressor__n_estimators': 56, 'regressor__criterion': 'absolute_error', 'encoder__onehot__min_frequency': 9, 'regressor__max_depth': 5}. Best is trial 39 with value: 1924.6045217911662.\n",
      "[I 2025-06-07 15:18:07,000] Trial 125 finished with value: 1926.270772579134 and parameters: {'regressor__n_estimators': 56, 'regressor__criterion': 'absolute_error', 'encoder__onehot__min_frequency': 8, 'regressor__max_depth': 5}. Best is trial 39 with value: 1924.6045217911662.\n",
      "[I 2025-06-07 15:18:08,042] Trial 127 finished with value: 1926.4249473508964 and parameters: {'regressor__n_estimators': 55, 'regressor__criterion': 'absolute_error', 'encoder__onehot__min_frequency': 8, 'regressor__max_depth': 5}. Best is trial 39 with value: 1924.6045217911662.\n",
      "[I 2025-06-07 15:18:09,200] Trial 126 finished with value: 1924.21571946836 and parameters: {'regressor__n_estimators': 55, 'regressor__criterion': 'absolute_error', 'encoder__onehot__min_frequency': 8, 'regressor__max_depth': 5}. Best is trial 126 with value: 1924.21571946836.\n",
      "[I 2025-06-07 15:18:10,116] Trial 128 finished with value: 1923.7244729739482 and parameters: {'regressor__n_estimators': 55, 'regressor__criterion': 'absolute_error', 'encoder__onehot__min_frequency': 8, 'regressor__max_depth': 5}. Best is trial 128 with value: 1923.7244729739482.\n",
      "[I 2025-06-07 15:18:10,383] Trial 129 finished with value: 1924.3929099194083 and parameters: {'regressor__n_estimators': 55, 'regressor__criterion': 'absolute_error', 'encoder__onehot__min_frequency': 8, 'regressor__max_depth': 5}. Best is trial 128 with value: 1923.7244729739482.\n",
      "[I 2025-06-07 15:18:10,693] Trial 130 finished with value: 1925.488482147496 and parameters: {'regressor__n_estimators': 53, 'regressor__criterion': 'absolute_error', 'encoder__onehot__min_frequency': 8, 'regressor__max_depth': 5}. Best is trial 128 with value: 1923.7244729739482.\n",
      "[I 2025-06-07 15:18:10,764] Trial 131 finished with value: 1926.7372555255504 and parameters: {'regressor__n_estimators': 53, 'regressor__criterion': 'absolute_error', 'encoder__onehot__min_frequency': 8, 'regressor__max_depth': 5}. Best is trial 128 with value: 1923.7244729739482.\n",
      "[I 2025-06-07 15:18:11,089] Trial 132 finished with value: 1924.8224575343443 and parameters: {'regressor__n_estimators': 54, 'regressor__criterion': 'absolute_error', 'encoder__onehot__min_frequency': 8, 'regressor__max_depth': 5}. Best is trial 128 with value: 1923.7244729739482.\n",
      "[I 2025-06-07 15:18:11,155] Trial 133 finished with value: 1924.8200452020362 and parameters: {'regressor__n_estimators': 53, 'regressor__criterion': 'absolute_error', 'encoder__onehot__min_frequency': 8, 'regressor__max_depth': 5}. Best is trial 128 with value: 1923.7244729739482.\n",
      "[I 2025-06-07 15:18:12,630] Trial 135 finished with value: 1922.6060239187882 and parameters: {'regressor__n_estimators': 51, 'regressor__criterion': 'absolute_error', 'encoder__onehot__min_frequency': 8, 'regressor__max_depth': 5}. Best is trial 135 with value: 1922.6060239187882.\n",
      "[I 2025-06-07 15:18:12,722] Trial 134 finished with value: 1922.9865924727433 and parameters: {'regressor__n_estimators': 53, 'regressor__criterion': 'absolute_error', 'encoder__onehot__min_frequency': 8, 'regressor__max_depth': 5}. Best is trial 135 with value: 1922.6060239187882.\n",
      "[I 2025-06-07 15:18:13,897] Trial 137 finished with value: 1927.1832229634942 and parameters: {'regressor__n_estimators': 52, 'regressor__criterion': 'absolute_error', 'encoder__onehot__min_frequency': 8, 'regressor__max_depth': 5}. Best is trial 135 with value: 1922.6060239187882.\n",
      "[I 2025-06-07 15:18:13,903] Trial 136 finished with value: 1927.1832229634947 and parameters: {'regressor__n_estimators': 52, 'regressor__criterion': 'absolute_error', 'encoder__onehot__min_frequency': 8, 'regressor__max_depth': 5}. Best is trial 135 with value: 1922.6060239187882.\n",
      "[I 2025-06-07 15:18:14,996] Trial 139 finished with value: 1993.9991905527145 and parameters: {'regressor__n_estimators': 51, 'regressor__criterion': 'absolute_error', 'encoder__onehot__min_frequency': 8, 'regressor__max_depth': 6}. Best is trial 135 with value: 1922.6060239187882.\n",
      "[I 2025-06-07 15:18:15,081] Trial 138 finished with value: 1977.8305037418038 and parameters: {'regressor__n_estimators': 53, 'regressor__criterion': 'absolute_error', 'encoder__onehot__min_frequency': 8, 'regressor__max_depth': 5}. Best is trial 135 with value: 1922.6060239187882.\n",
      "[I 2025-06-07 15:18:16,197] Trial 140 finished with value: 1996.6878197076596 and parameters: {'regressor__n_estimators': 52, 'regressor__criterion': 'absolute_error', 'encoder__onehot__min_frequency': 8, 'regressor__max_depth': 6}. Best is trial 135 with value: 1922.6060239187882.\n",
      "[I 2025-06-07 15:18:16,533] Trial 141 finished with value: 1990.1044154120186 and parameters: {'regressor__n_estimators': 52, 'regressor__criterion': 'absolute_error', 'encoder__onehot__min_frequency': 8, 'regressor__max_depth': 6}. Best is trial 135 with value: 1922.6060239187882.\n",
      "[I 2025-06-07 15:18:16,612] Trial 142 finished with value: 1990.5219435191448 and parameters: {'regressor__n_estimators': 51, 'regressor__criterion': 'absolute_error', 'encoder__onehot__min_frequency': 8, 'regressor__max_depth': 6}. Best is trial 135 with value: 1922.6060239187882.\n",
      "[I 2025-06-07 15:18:16,886] Trial 143 finished with value: 1996.6178268506428 and parameters: {'regressor__n_estimators': 51, 'regressor__criterion': 'absolute_error', 'encoder__onehot__min_frequency': 8, 'regressor__max_depth': 6}. Best is trial 135 with value: 1922.6060239187882.\n",
      "[I 2025-06-07 15:18:17,846] Trial 144 finished with value: 1993.7766350567927 and parameters: {'regressor__n_estimators': 41, 'regressor__criterion': 'absolute_error', 'encoder__onehot__min_frequency': 8, 'regressor__max_depth': 6}. Best is trial 135 with value: 1922.6060239187882.\n",
      "[I 2025-06-07 15:18:17,867] Trial 145 finished with value: 1994.9614240671613 and parameters: {'regressor__n_estimators': 44, 'regressor__criterion': 'absolute_error', 'encoder__onehot__min_frequency': 7, 'regressor__max_depth': 6}. Best is trial 135 with value: 1922.6060239187882.\n",
      "[I 2025-06-07 15:18:19,792] Trial 147 finished with value: 2162.7513104098857 and parameters: {'regressor__n_estimators': 43, 'regressor__criterion': 'absolute_error', 'encoder__onehot__min_frequency': 7, 'regressor__max_depth': 6}. Best is trial 135 with value: 1922.6060239187882.\n",
      "[I 2025-06-07 15:18:19,814] Trial 146 finished with value: 2162.728441241604 and parameters: {'regressor__n_estimators': 44, 'regressor__criterion': 'absolute_error', 'encoder__onehot__min_frequency': 7, 'regressor__max_depth': 6}. Best is trial 135 with value: 1922.6060239187882.\n",
      "[I 2025-06-07 15:18:19,942] Trial 149 finished with value: 1949.5874201681036 and parameters: {'regressor__n_estimators': 42, 'regressor__criterion': 'absolute_error', 'encoder__onehot__min_frequency': 7, 'regressor__max_depth': 6}. Best is trial 135 with value: 1922.6060239187882.\n",
      "[I 2025-06-07 15:18:20,900] Trial 148 finished with value: 1948.9229240191787 and parameters: {'regressor__n_estimators': 43, 'regressor__criterion': 'absolute_error', 'encoder__onehot__min_frequency': 7, 'regressor__max_depth': 6}. Best is trial 135 with value: 1922.6060239187882.\n",
      "[I 2025-06-07 15:18:21,754] Trial 150 finished with value: 2009.340183250429 and parameters: {'regressor__n_estimators': 44, 'regressor__criterion': 'absolute_error', 'encoder__onehot__min_frequency': 7, 'regressor__max_depth': 12}. Best is trial 135 with value: 1922.6060239187882.\n",
      "[I 2025-06-07 15:18:21,894] Trial 151 finished with value: 1922.6239427137384 and parameters: {'regressor__n_estimators': 42, 'regressor__criterion': 'absolute_error', 'encoder__onehot__min_frequency': 7, 'regressor__max_depth': 5}. Best is trial 135 with value: 1922.6060239187882.\n",
      "[I 2025-06-07 15:18:22,609] Trial 152 finished with value: 1922.0897777890448 and parameters: {'regressor__n_estimators': 59, 'regressor__criterion': 'absolute_error', 'encoder__onehot__min_frequency': 7, 'regressor__max_depth': 5}. Best is trial 152 with value: 1922.0897777890448.\n",
      "[I 2025-06-07 15:18:24,469] Trial 154 finished with value: 1922.8964667705527 and parameters: {'regressor__n_estimators': 59, 'regressor__criterion': 'absolute_error', 'encoder__onehot__min_frequency': 7, 'regressor__max_depth': 5}. Best is trial 152 with value: 1922.0897777890448.\n",
      "[I 2025-06-07 15:18:24,507] Trial 153 finished with value: 1922.5268169523756 and parameters: {'regressor__n_estimators': 46, 'regressor__criterion': 'absolute_error', 'encoder__onehot__min_frequency': 7, 'regressor__max_depth': 5}. Best is trial 152 with value: 1922.0897777890448.\n",
      "[I 2025-06-07 15:18:24,517] Trial 155 finished with value: 1922.8964667705525 and parameters: {'regressor__n_estimators': 59, 'regressor__criterion': 'absolute_error', 'encoder__onehot__min_frequency': 7, 'regressor__max_depth': 5}. Best is trial 152 with value: 1922.0897777890448.\n",
      "[I 2025-06-07 15:18:24,837] Trial 156 finished with value: 1922.8964667705527 and parameters: {'regressor__n_estimators': 59, 'regressor__criterion': 'absolute_error', 'encoder__onehot__min_frequency': 7, 'regressor__max_depth': 5}. Best is trial 152 with value: 1922.0897777890448.\n",
      "[I 2025-06-07 15:18:24,859] Trial 157 finished with value: 1922.8964667705527 and parameters: {'regressor__n_estimators': 59, 'regressor__criterion': 'absolute_error', 'encoder__onehot__min_frequency': 8, 'regressor__max_depth': 5}. Best is trial 152 with value: 1922.0897777890448.\n",
      "[I 2025-06-07 15:18:26,584] Trial 158 finished with value: 1927.5615349320124 and parameters: {'regressor__n_estimators': 59, 'regressor__criterion': 'absolute_error', 'encoder__onehot__min_frequency': 8, 'regressor__max_depth': 5}. Best is trial 152 with value: 1922.0897777890448.\n",
      "[I 2025-06-07 15:18:26,597] Trial 159 finished with value: 1930.4620956121876 and parameters: {'regressor__n_estimators': 36, 'regressor__criterion': 'absolute_error', 'encoder__onehot__min_frequency': 8, 'regressor__max_depth': 5}. Best is trial 152 with value: 1922.0897777890448.\n",
      "[I 2025-06-07 15:18:26,794] Trial 160 finished with value: 1922.6308567256892 and parameters: {'regressor__n_estimators': 59, 'regressor__criterion': 'absolute_error', 'encoder__onehot__min_frequency': 8, 'regressor__max_depth': 5}. Best is trial 152 with value: 1922.0897777890448.\n",
      "[I 2025-06-07 15:18:26,867] Trial 161 finished with value: 1924.28713796271 and parameters: {'regressor__n_estimators': 35, 'regressor__criterion': 'absolute_error', 'encoder__onehot__min_frequency': 8, 'regressor__max_depth': 5}. Best is trial 152 with value: 1922.0897777890448.\n",
      "[I 2025-06-07 15:18:27,393] Trial 164 finished with value: 1924.3346362524958 and parameters: {'regressor__n_estimators': 60, 'regressor__criterion': 'absolute_error', 'encoder__onehot__min_frequency': 8, 'regressor__max_depth': 5}. Best is trial 152 with value: 1922.0897777890448.\n",
      "[I 2025-06-07 15:18:27,550] Trial 162 finished with value: 1926.4830951465265 and parameters: {'regressor__n_estimators': 29, 'regressor__criterion': 'absolute_error', 'encoder__onehot__min_frequency': 8, 'regressor__max_depth': 5}. Best is trial 152 with value: 1922.0897777890448.\n",
      "[I 2025-06-07 15:18:27,691] Trial 163 finished with value: 1926.2282107646338 and parameters: {'regressor__n_estimators': 38, 'regressor__criterion': 'absolute_error', 'encoder__onehot__min_frequency': 8, 'regressor__max_depth': 5}. Best is trial 152 with value: 1922.0897777890448.\n",
      "[I 2025-06-07 15:18:29,702] Trial 165 finished with value: 2266.583567098699 and parameters: {'regressor__n_estimators': 59, 'regressor__criterion': 'absolute_error', 'encoder__onehot__min_frequency': 7, 'regressor__max_depth': 5}. Best is trial 152 with value: 1922.0897777890448.\n",
      "[I 2025-06-07 15:18:30,230] Trial 166 finished with value: 2368.775012529556 and parameters: {'regressor__n_estimators': 59, 'regressor__criterion': 'absolute_error', 'encoder__onehot__min_frequency': 7, 'regressor__max_depth': 14}. Best is trial 152 with value: 1922.0897777890448.\n",
      "[I 2025-06-07 15:18:31,073] Trial 168 finished with value: 2513.5864722368888 and parameters: {'regressor__n_estimators': 37, 'regressor__criterion': 'absolute_error', 'encoder__onehot__min_frequency': 7, 'regressor__max_depth': 5}. Best is trial 152 with value: 1922.0897777890448.\n",
      "[I 2025-06-07 15:18:31,536] Trial 169 finished with value: 2652.1598783021827 and parameters: {'regressor__n_estimators': 33, 'regressor__criterion': 'absolute_error', 'encoder__onehot__min_frequency': 7, 'regressor__max_depth': 5}. Best is trial 152 with value: 1922.0897777890448.\n",
      "[I 2025-06-07 15:18:31,764] Trial 167 finished with value: 2598.5589327874354 and parameters: {'regressor__n_estimators': 32, 'regressor__criterion': 'absolute_error', 'encoder__onehot__min_frequency': 7, 'regressor__max_depth': 15}. Best is trial 152 with value: 1922.0897777890448.\n",
      "[I 2025-06-07 15:18:32,891] Trial 170 finished with value: 2527.8164360488017 and parameters: {'regressor__n_estimators': 33, 'regressor__criterion': 'absolute_error', 'encoder__onehot__min_frequency': 7, 'regressor__max_depth': 14}. Best is trial 152 with value: 1922.0897777890448.\n",
      "[I 2025-06-07 15:18:33,464] Trial 171 finished with value: 2631.206083351042 and parameters: {'regressor__n_estimators': 59, 'regressor__criterion': 'absolute_error', 'encoder__onehot__min_frequency': 7, 'regressor__max_depth': 18}. Best is trial 152 with value: 1922.0897777890448.\n",
      "[I 2025-06-07 15:18:33,592] Trial 173 finished with value: 2407.4489356654385 and parameters: {'regressor__n_estimators': 60, 'regressor__criterion': 'absolute_error', 'encoder__onehot__min_frequency': 7, 'regressor__max_depth': 19}. Best is trial 152 with value: 1922.0897777890448.\n",
      "[I 2025-06-07 15:18:33,631] Trial 174 finished with value: 2471.000796353741 and parameters: {'regressor__n_estimators': 33, 'regressor__criterion': 'absolute_error', 'encoder__onehot__min_frequency': 7, 'regressor__max_depth': 19}. Best is trial 152 with value: 1922.0897777890448.\n",
      "[I 2025-06-07 15:18:33,696] Trial 172 finished with value: 2531.962181381963 and parameters: {'regressor__n_estimators': 34, 'regressor__criterion': 'absolute_error', 'encoder__onehot__min_frequency': 7, 'regressor__max_depth': 6}. Best is trial 152 with value: 1922.0897777890448.\n",
      "[I 2025-06-07 15:18:34,086] Trial 175 finished with value: 2585.8881320340633 and parameters: {'regressor__n_estimators': 33, 'regressor__criterion': 'absolute_error', 'encoder__onehot__min_frequency': 7, 'regressor__max_depth': 6}. Best is trial 152 with value: 1922.0897777890448.\n",
      "[I 2025-06-07 15:18:34,493] Trial 176 finished with value: 2530.413944536335 and parameters: {'regressor__n_estimators': 25, 'regressor__criterion': 'absolute_error', 'encoder__onehot__min_frequency': 7, 'regressor__max_depth': 18}. Best is trial 152 with value: 1922.0897777890448.\n",
      "[I 2025-06-07 15:18:35,212] Trial 178 finished with value: 2270.7982525201714 and parameters: {'regressor__n_estimators': 23, 'regressor__criterion': 'absolute_error', 'encoder__onehot__min_frequency': 7, 'regressor__max_depth': 8}. Best is trial 152 with value: 1922.0897777890448.\n",
      "[I 2025-06-07 15:18:35,365] Trial 177 finished with value: 2303.8344550085453 and parameters: {'regressor__n_estimators': 33, 'regressor__criterion': 'absolute_error', 'encoder__onehot__min_frequency': 7, 'regressor__max_depth': 6}. Best is trial 152 with value: 1922.0897777890448.\n",
      "[I 2025-06-07 15:18:37,439] Trial 179 finished with value: 1976.6135118942238 and parameters: {'regressor__n_estimators': 60, 'regressor__criterion': 'absolute_error', 'encoder__onehot__min_frequency': 8, 'regressor__max_depth': 6}. Best is trial 152 with value: 1922.0897777890448.\n",
      "[I 2025-06-07 15:18:37,537] Trial 180 finished with value: 1944.1947435185182 and parameters: {'regressor__n_estimators': 58, 'regressor__criterion': 'absolute_error', 'encoder__onehot__min_frequency': 8, 'regressor__max_depth': 6}. Best is trial 182 with value: 1919.8742208590174.\n",
      "[I 2025-06-07 15:18:37,791] Trial 181 finished with value: 1943.8228650357955 and parameters: {'regressor__n_estimators': 47, 'regressor__criterion': 'absolute_error', 'encoder__onehot__min_frequency': 8, 'regressor__max_depth': 6}. Best is trial 182 with value: 1919.8742208590174.\n",
      "[I 2025-06-07 15:18:37,895] Trial 182 finished with value: 1919.8742208590174 and parameters: {'regressor__n_estimators': 47, 'regressor__criterion': 'absolute_error', 'encoder__onehot__min_frequency': 8, 'regressor__max_depth': 5}. Best is trial 182 with value: 1919.8742208590174.\n",
      "[I 2025-06-07 15:18:39,603] Trial 184 finished with value: 1919.8742208590174 and parameters: {'regressor__n_estimators': 47, 'regressor__criterion': 'absolute_error', 'encoder__onehot__min_frequency': 8, 'regressor__max_depth': 5}. Best is trial 182 with value: 1919.8742208590174.\n",
      "[I 2025-06-07 15:18:39,634] Trial 185 finished with value: 1919.8742208590174 and parameters: {'regressor__n_estimators': 47, 'regressor__criterion': 'absolute_error', 'encoder__onehot__min_frequency': 8, 'regressor__max_depth': 5}. Best is trial 182 with value: 1919.8742208590174.\n",
      "[I 2025-06-07 15:18:39,649] Trial 183 finished with value: 1919.8742208590174 and parameters: {'regressor__n_estimators': 47, 'regressor__criterion': 'absolute_error', 'encoder__onehot__min_frequency': 8, 'regressor__max_depth': 5}. Best is trial 182 with value: 1919.8742208590174.\n",
      "[I 2025-06-07 15:18:40,996] Trial 187 finished with value: 1920.436157518152 and parameters: {'regressor__n_estimators': 46, 'regressor__criterion': 'absolute_error', 'encoder__onehot__min_frequency': 8, 'regressor__max_depth': 5}. Best is trial 182 with value: 1919.8742208590174.\n",
      "[I 2025-06-07 15:18:41,077] Trial 189 finished with value: 1920.2345617413916 and parameters: {'regressor__n_estimators': 47, 'regressor__criterion': 'absolute_error', 'encoder__onehot__min_frequency': 8, 'regressor__max_depth': 5}. Best is trial 182 with value: 1919.8742208590174.\n",
      "[I 2025-06-07 15:18:41,245] Trial 186 finished with value: 1920.285358972901 and parameters: {'regressor__n_estimators': 47, 'regressor__criterion': 'absolute_error', 'encoder__onehot__min_frequency': 8, 'regressor__max_depth': 5}. Best is trial 182 with value: 1919.8742208590174.\n",
      "[I 2025-06-07 15:18:41,323] Trial 188 finished with value: 1920.285358972901 and parameters: {'regressor__n_estimators': 47, 'regressor__criterion': 'absolute_error', 'encoder__onehot__min_frequency': 8, 'regressor__max_depth': 5}. Best is trial 182 with value: 1919.8742208590174.\n",
      "[I 2025-06-07 15:18:42,078] Trial 190 finished with value: 1922.5290540524134 and parameters: {'regressor__n_estimators': 50, 'regressor__criterion': 'absolute_error', 'encoder__onehot__min_frequency': 8, 'regressor__max_depth': 5}. Best is trial 182 with value: 1919.8742208590174.\n",
      "[I 2025-06-07 15:18:42,795] Trial 192 finished with value: 1949.368399345185 and parameters: {'regressor__n_estimators': 46, 'regressor__criterion': 'absolute_error', 'encoder__onehot__min_frequency': 8, 'regressor__max_depth': 5}. Best is trial 182 with value: 1919.8742208590174.\n",
      "[I 2025-06-07 15:18:43,412] Trial 191 finished with value: 1941.050885954693 and parameters: {'regressor__n_estimators': 46, 'regressor__criterion': 'absolute_error', 'encoder__onehot__min_frequency': 8, 'regressor__max_depth': 5}. Best is trial 182 with value: 1919.8742208590174.\n",
      "[I 2025-06-07 15:18:43,516] Trial 194 finished with value: 1921.8912288516863 and parameters: {'regressor__n_estimators': 46, 'regressor__criterion': 'absolute_error', 'encoder__onehot__min_frequency': 8, 'regressor__max_depth': 5}. Best is trial 182 with value: 1919.8742208590174.\n",
      "[I 2025-06-07 15:18:44,117] Trial 193 finished with value: 1921.8912288516863 and parameters: {'regressor__n_estimators': 46, 'regressor__criterion': 'absolute_error', 'encoder__onehot__min_frequency': 8, 'regressor__max_depth': 5}. Best is trial 182 with value: 1919.8742208590174.\n",
      "[I 2025-06-07 15:18:44,679] Trial 197 finished with value: 1949.254820920623 and parameters: {'regressor__n_estimators': 46, 'regressor__criterion': 'absolute_error', 'encoder__onehot__min_frequency': 8, 'regressor__max_depth': 4}. Best is trial 182 with value: 1919.8742208590174.\n",
      "[I 2025-06-07 15:18:44,743] Trial 196 finished with value: 1921.8912288516863 and parameters: {'regressor__n_estimators': 46, 'regressor__criterion': 'absolute_error', 'encoder__onehot__min_frequency': 8, 'regressor__max_depth': 5}. Best is trial 182 with value: 1919.8742208590174.\n",
      "[I 2025-06-07 15:18:44,767] Trial 195 finished with value: 1921.8912288516863 and parameters: {'regressor__n_estimators': 46, 'regressor__criterion': 'absolute_error', 'encoder__onehot__min_frequency': 8, 'regressor__max_depth': 5}. Best is trial 182 with value: 1919.8742208590174.\n",
      "[I 2025-06-07 15:18:44,909] Trial 199 finished with value: 1921.7404303064354 and parameters: {'regressor__n_estimators': 47, 'regressor__criterion': 'absolute_error', 'encoder__onehot__min_frequency': 8, 'regressor__max_depth': 5}. Best is trial 182 with value: 1919.8742208590174.\n",
      "[I 2025-06-07 15:18:44,947] Trial 198 finished with value: 1921.8912288516863 and parameters: {'regressor__n_estimators': 46, 'regressor__criterion': 'absolute_error', 'encoder__onehot__min_frequency': 8, 'regressor__max_depth': 5}. Best is trial 182 with value: 1919.8742208590174.\n"
     ]
    }
   ],
   "source": [
    "study.optimize(objective_func, n_trials=100, n_jobs=-1)"
   ]
  },
  {
   "cell_type": "code",
   "execution_count": 38,
   "id": "ae878d38",
   "metadata": {},
   "outputs": [
    {
     "data": {
      "text/html": [
       "<style>#sk-container-id-2 {\n",
       "  /* Definition of color scheme common for light and dark mode */\n",
       "  --sklearn-color-text: #000;\n",
       "  --sklearn-color-text-muted: #666;\n",
       "  --sklearn-color-line: gray;\n",
       "  /* Definition of color scheme for unfitted estimators */\n",
       "  --sklearn-color-unfitted-level-0: #fff5e6;\n",
       "  --sklearn-color-unfitted-level-1: #f6e4d2;\n",
       "  --sklearn-color-unfitted-level-2: #ffe0b3;\n",
       "  --sklearn-color-unfitted-level-3: chocolate;\n",
       "  /* Definition of color scheme for fitted estimators */\n",
       "  --sklearn-color-fitted-level-0: #f0f8ff;\n",
       "  --sklearn-color-fitted-level-1: #d4ebff;\n",
       "  --sklearn-color-fitted-level-2: #b3dbfd;\n",
       "  --sklearn-color-fitted-level-3: cornflowerblue;\n",
       "\n",
       "  /* Specific color for light theme */\n",
       "  --sklearn-color-text-on-default-background: var(--sg-text-color, var(--theme-code-foreground, var(--jp-content-font-color1, black)));\n",
       "  --sklearn-color-background: var(--sg-background-color, var(--theme-background, var(--jp-layout-color0, white)));\n",
       "  --sklearn-color-border-box: var(--sg-text-color, var(--theme-code-foreground, var(--jp-content-font-color1, black)));\n",
       "  --sklearn-color-icon: #696969;\n",
       "\n",
       "  @media (prefers-color-scheme: dark) {\n",
       "    /* Redefinition of color scheme for dark theme */\n",
       "    --sklearn-color-text-on-default-background: var(--sg-text-color, var(--theme-code-foreground, var(--jp-content-font-color1, white)));\n",
       "    --sklearn-color-background: var(--sg-background-color, var(--theme-background, var(--jp-layout-color0, #111)));\n",
       "    --sklearn-color-border-box: var(--sg-text-color, var(--theme-code-foreground, var(--jp-content-font-color1, white)));\n",
       "    --sklearn-color-icon: #878787;\n",
       "  }\n",
       "}\n",
       "\n",
       "#sk-container-id-2 {\n",
       "  color: var(--sklearn-color-text);\n",
       "}\n",
       "\n",
       "#sk-container-id-2 pre {\n",
       "  padding: 0;\n",
       "}\n",
       "\n",
       "#sk-container-id-2 input.sk-hidden--visually {\n",
       "  border: 0;\n",
       "  clip: rect(1px 1px 1px 1px);\n",
       "  clip: rect(1px, 1px, 1px, 1px);\n",
       "  height: 1px;\n",
       "  margin: -1px;\n",
       "  overflow: hidden;\n",
       "  padding: 0;\n",
       "  position: absolute;\n",
       "  width: 1px;\n",
       "}\n",
       "\n",
       "#sk-container-id-2 div.sk-dashed-wrapped {\n",
       "  border: 1px dashed var(--sklearn-color-line);\n",
       "  margin: 0 0.4em 0.5em 0.4em;\n",
       "  box-sizing: border-box;\n",
       "  padding-bottom: 0.4em;\n",
       "  background-color: var(--sklearn-color-background);\n",
       "}\n",
       "\n",
       "#sk-container-id-2 div.sk-container {\n",
       "  /* jupyter's `normalize.less` sets `[hidden] { display: none; }`\n",
       "     but bootstrap.min.css set `[hidden] { display: none !important; }`\n",
       "     so we also need the `!important` here to be able to override the\n",
       "     default hidden behavior on the sphinx rendered scikit-learn.org.\n",
       "     See: https://github.com/scikit-learn/scikit-learn/issues/21755 */\n",
       "  display: inline-block !important;\n",
       "  position: relative;\n",
       "}\n",
       "\n",
       "#sk-container-id-2 div.sk-text-repr-fallback {\n",
       "  display: none;\n",
       "}\n",
       "\n",
       "div.sk-parallel-item,\n",
       "div.sk-serial,\n",
       "div.sk-item {\n",
       "  /* draw centered vertical line to link estimators */\n",
       "  background-image: linear-gradient(var(--sklearn-color-text-on-default-background), var(--sklearn-color-text-on-default-background));\n",
       "  background-size: 2px 100%;\n",
       "  background-repeat: no-repeat;\n",
       "  background-position: center center;\n",
       "}\n",
       "\n",
       "/* Parallel-specific style estimator block */\n",
       "\n",
       "#sk-container-id-2 div.sk-parallel-item::after {\n",
       "  content: \"\";\n",
       "  width: 100%;\n",
       "  border-bottom: 2px solid var(--sklearn-color-text-on-default-background);\n",
       "  flex-grow: 1;\n",
       "}\n",
       "\n",
       "#sk-container-id-2 div.sk-parallel {\n",
       "  display: flex;\n",
       "  align-items: stretch;\n",
       "  justify-content: center;\n",
       "  background-color: var(--sklearn-color-background);\n",
       "  position: relative;\n",
       "}\n",
       "\n",
       "#sk-container-id-2 div.sk-parallel-item {\n",
       "  display: flex;\n",
       "  flex-direction: column;\n",
       "}\n",
       "\n",
       "#sk-container-id-2 div.sk-parallel-item:first-child::after {\n",
       "  align-self: flex-end;\n",
       "  width: 50%;\n",
       "}\n",
       "\n",
       "#sk-container-id-2 div.sk-parallel-item:last-child::after {\n",
       "  align-self: flex-start;\n",
       "  width: 50%;\n",
       "}\n",
       "\n",
       "#sk-container-id-2 div.sk-parallel-item:only-child::after {\n",
       "  width: 0;\n",
       "}\n",
       "\n",
       "/* Serial-specific style estimator block */\n",
       "\n",
       "#sk-container-id-2 div.sk-serial {\n",
       "  display: flex;\n",
       "  flex-direction: column;\n",
       "  align-items: center;\n",
       "  background-color: var(--sklearn-color-background);\n",
       "  padding-right: 1em;\n",
       "  padding-left: 1em;\n",
       "}\n",
       "\n",
       "\n",
       "/* Toggleable style: style used for estimator/Pipeline/ColumnTransformer box that is\n",
       "clickable and can be expanded/collapsed.\n",
       "- Pipeline and ColumnTransformer use this feature and define the default style\n",
       "- Estimators will overwrite some part of the style using the `sk-estimator` class\n",
       "*/\n",
       "\n",
       "/* Pipeline and ColumnTransformer style (default) */\n",
       "\n",
       "#sk-container-id-2 div.sk-toggleable {\n",
       "  /* Default theme specific background. It is overwritten whether we have a\n",
       "  specific estimator or a Pipeline/ColumnTransformer */\n",
       "  background-color: var(--sklearn-color-background);\n",
       "}\n",
       "\n",
       "/* Toggleable label */\n",
       "#sk-container-id-2 label.sk-toggleable__label {\n",
       "  cursor: pointer;\n",
       "  display: flex;\n",
       "  width: 100%;\n",
       "  margin-bottom: 0;\n",
       "  padding: 0.5em;\n",
       "  box-sizing: border-box;\n",
       "  text-align: center;\n",
       "  align-items: start;\n",
       "  justify-content: space-between;\n",
       "  gap: 0.5em;\n",
       "}\n",
       "\n",
       "#sk-container-id-2 label.sk-toggleable__label .caption {\n",
       "  font-size: 0.6rem;\n",
       "  font-weight: lighter;\n",
       "  color: var(--sklearn-color-text-muted);\n",
       "}\n",
       "\n",
       "#sk-container-id-2 label.sk-toggleable__label-arrow:before {\n",
       "  /* Arrow on the left of the label */\n",
       "  content: \"▸\";\n",
       "  float: left;\n",
       "  margin-right: 0.25em;\n",
       "  color: var(--sklearn-color-icon);\n",
       "}\n",
       "\n",
       "#sk-container-id-2 label.sk-toggleable__label-arrow:hover:before {\n",
       "  color: var(--sklearn-color-text);\n",
       "}\n",
       "\n",
       "/* Toggleable content - dropdown */\n",
       "\n",
       "#sk-container-id-2 div.sk-toggleable__content {\n",
       "  max-height: 0;\n",
       "  max-width: 0;\n",
       "  overflow: hidden;\n",
       "  text-align: left;\n",
       "  /* unfitted */\n",
       "  background-color: var(--sklearn-color-unfitted-level-0);\n",
       "}\n",
       "\n",
       "#sk-container-id-2 div.sk-toggleable__content.fitted {\n",
       "  /* fitted */\n",
       "  background-color: var(--sklearn-color-fitted-level-0);\n",
       "}\n",
       "\n",
       "#sk-container-id-2 div.sk-toggleable__content pre {\n",
       "  margin: 0.2em;\n",
       "  border-radius: 0.25em;\n",
       "  color: var(--sklearn-color-text);\n",
       "  /* unfitted */\n",
       "  background-color: var(--sklearn-color-unfitted-level-0);\n",
       "}\n",
       "\n",
       "#sk-container-id-2 div.sk-toggleable__content.fitted pre {\n",
       "  /* unfitted */\n",
       "  background-color: var(--sklearn-color-fitted-level-0);\n",
       "}\n",
       "\n",
       "#sk-container-id-2 input.sk-toggleable__control:checked~div.sk-toggleable__content {\n",
       "  /* Expand drop-down */\n",
       "  max-height: 200px;\n",
       "  max-width: 100%;\n",
       "  overflow: auto;\n",
       "}\n",
       "\n",
       "#sk-container-id-2 input.sk-toggleable__control:checked~label.sk-toggleable__label-arrow:before {\n",
       "  content: \"▾\";\n",
       "}\n",
       "\n",
       "/* Pipeline/ColumnTransformer-specific style */\n",
       "\n",
       "#sk-container-id-2 div.sk-label input.sk-toggleable__control:checked~label.sk-toggleable__label {\n",
       "  color: var(--sklearn-color-text);\n",
       "  background-color: var(--sklearn-color-unfitted-level-2);\n",
       "}\n",
       "\n",
       "#sk-container-id-2 div.sk-label.fitted input.sk-toggleable__control:checked~label.sk-toggleable__label {\n",
       "  background-color: var(--sklearn-color-fitted-level-2);\n",
       "}\n",
       "\n",
       "/* Estimator-specific style */\n",
       "\n",
       "/* Colorize estimator box */\n",
       "#sk-container-id-2 div.sk-estimator input.sk-toggleable__control:checked~label.sk-toggleable__label {\n",
       "  /* unfitted */\n",
       "  background-color: var(--sklearn-color-unfitted-level-2);\n",
       "}\n",
       "\n",
       "#sk-container-id-2 div.sk-estimator.fitted input.sk-toggleable__control:checked~label.sk-toggleable__label {\n",
       "  /* fitted */\n",
       "  background-color: var(--sklearn-color-fitted-level-2);\n",
       "}\n",
       "\n",
       "#sk-container-id-2 div.sk-label label.sk-toggleable__label,\n",
       "#sk-container-id-2 div.sk-label label {\n",
       "  /* The background is the default theme color */\n",
       "  color: var(--sklearn-color-text-on-default-background);\n",
       "}\n",
       "\n",
       "/* On hover, darken the color of the background */\n",
       "#sk-container-id-2 div.sk-label:hover label.sk-toggleable__label {\n",
       "  color: var(--sklearn-color-text);\n",
       "  background-color: var(--sklearn-color-unfitted-level-2);\n",
       "}\n",
       "\n",
       "/* Label box, darken color on hover, fitted */\n",
       "#sk-container-id-2 div.sk-label.fitted:hover label.sk-toggleable__label.fitted {\n",
       "  color: var(--sklearn-color-text);\n",
       "  background-color: var(--sklearn-color-fitted-level-2);\n",
       "}\n",
       "\n",
       "/* Estimator label */\n",
       "\n",
       "#sk-container-id-2 div.sk-label label {\n",
       "  font-family: monospace;\n",
       "  font-weight: bold;\n",
       "  display: inline-block;\n",
       "  line-height: 1.2em;\n",
       "}\n",
       "\n",
       "#sk-container-id-2 div.sk-label-container {\n",
       "  text-align: center;\n",
       "}\n",
       "\n",
       "/* Estimator-specific */\n",
       "#sk-container-id-2 div.sk-estimator {\n",
       "  font-family: monospace;\n",
       "  border: 1px dotted var(--sklearn-color-border-box);\n",
       "  border-radius: 0.25em;\n",
       "  box-sizing: border-box;\n",
       "  margin-bottom: 0.5em;\n",
       "  /* unfitted */\n",
       "  background-color: var(--sklearn-color-unfitted-level-0);\n",
       "}\n",
       "\n",
       "#sk-container-id-2 div.sk-estimator.fitted {\n",
       "  /* fitted */\n",
       "  background-color: var(--sklearn-color-fitted-level-0);\n",
       "}\n",
       "\n",
       "/* on hover */\n",
       "#sk-container-id-2 div.sk-estimator:hover {\n",
       "  /* unfitted */\n",
       "  background-color: var(--sklearn-color-unfitted-level-2);\n",
       "}\n",
       "\n",
       "#sk-container-id-2 div.sk-estimator.fitted:hover {\n",
       "  /* fitted */\n",
       "  background-color: var(--sklearn-color-fitted-level-2);\n",
       "}\n",
       "\n",
       "/* Specification for estimator info (e.g. \"i\" and \"?\") */\n",
       "\n",
       "/* Common style for \"i\" and \"?\" */\n",
       "\n",
       ".sk-estimator-doc-link,\n",
       "a:link.sk-estimator-doc-link,\n",
       "a:visited.sk-estimator-doc-link {\n",
       "  float: right;\n",
       "  font-size: smaller;\n",
       "  line-height: 1em;\n",
       "  font-family: monospace;\n",
       "  background-color: var(--sklearn-color-background);\n",
       "  border-radius: 1em;\n",
       "  height: 1em;\n",
       "  width: 1em;\n",
       "  text-decoration: none !important;\n",
       "  margin-left: 0.5em;\n",
       "  text-align: center;\n",
       "  /* unfitted */\n",
       "  border: var(--sklearn-color-unfitted-level-1) 1pt solid;\n",
       "  color: var(--sklearn-color-unfitted-level-1);\n",
       "}\n",
       "\n",
       ".sk-estimator-doc-link.fitted,\n",
       "a:link.sk-estimator-doc-link.fitted,\n",
       "a:visited.sk-estimator-doc-link.fitted {\n",
       "  /* fitted */\n",
       "  border: var(--sklearn-color-fitted-level-1) 1pt solid;\n",
       "  color: var(--sklearn-color-fitted-level-1);\n",
       "}\n",
       "\n",
       "/* On hover */\n",
       "div.sk-estimator:hover .sk-estimator-doc-link:hover,\n",
       ".sk-estimator-doc-link:hover,\n",
       "div.sk-label-container:hover .sk-estimator-doc-link:hover,\n",
       ".sk-estimator-doc-link:hover {\n",
       "  /* unfitted */\n",
       "  background-color: var(--sklearn-color-unfitted-level-3);\n",
       "  color: var(--sklearn-color-background);\n",
       "  text-decoration: none;\n",
       "}\n",
       "\n",
       "div.sk-estimator.fitted:hover .sk-estimator-doc-link.fitted:hover,\n",
       ".sk-estimator-doc-link.fitted:hover,\n",
       "div.sk-label-container:hover .sk-estimator-doc-link.fitted:hover,\n",
       ".sk-estimator-doc-link.fitted:hover {\n",
       "  /* fitted */\n",
       "  background-color: var(--sklearn-color-fitted-level-3);\n",
       "  color: var(--sklearn-color-background);\n",
       "  text-decoration: none;\n",
       "}\n",
       "\n",
       "/* Span, style for the box shown on hovering the info icon */\n",
       ".sk-estimator-doc-link span {\n",
       "  display: none;\n",
       "  z-index: 9999;\n",
       "  position: relative;\n",
       "  font-weight: normal;\n",
       "  right: .2ex;\n",
       "  padding: .5ex;\n",
       "  margin: .5ex;\n",
       "  width: min-content;\n",
       "  min-width: 20ex;\n",
       "  max-width: 50ex;\n",
       "  color: var(--sklearn-color-text);\n",
       "  box-shadow: 2pt 2pt 4pt #999;\n",
       "  /* unfitted */\n",
       "  background: var(--sklearn-color-unfitted-level-0);\n",
       "  border: .5pt solid var(--sklearn-color-unfitted-level-3);\n",
       "}\n",
       "\n",
       ".sk-estimator-doc-link.fitted span {\n",
       "  /* fitted */\n",
       "  background: var(--sklearn-color-fitted-level-0);\n",
       "  border: var(--sklearn-color-fitted-level-3);\n",
       "}\n",
       "\n",
       ".sk-estimator-doc-link:hover span {\n",
       "  display: block;\n",
       "}\n",
       "\n",
       "/* \"?\"-specific style due to the `<a>` HTML tag */\n",
       "\n",
       "#sk-container-id-2 a.estimator_doc_link {\n",
       "  float: right;\n",
       "  font-size: 1rem;\n",
       "  line-height: 1em;\n",
       "  font-family: monospace;\n",
       "  background-color: var(--sklearn-color-background);\n",
       "  border-radius: 1rem;\n",
       "  height: 1rem;\n",
       "  width: 1rem;\n",
       "  text-decoration: none;\n",
       "  /* unfitted */\n",
       "  color: var(--sklearn-color-unfitted-level-1);\n",
       "  border: var(--sklearn-color-unfitted-level-1) 1pt solid;\n",
       "}\n",
       "\n",
       "#sk-container-id-2 a.estimator_doc_link.fitted {\n",
       "  /* fitted */\n",
       "  border: var(--sklearn-color-fitted-level-1) 1pt solid;\n",
       "  color: var(--sklearn-color-fitted-level-1);\n",
       "}\n",
       "\n",
       "/* On hover */\n",
       "#sk-container-id-2 a.estimator_doc_link:hover {\n",
       "  /* unfitted */\n",
       "  background-color: var(--sklearn-color-unfitted-level-3);\n",
       "  color: var(--sklearn-color-background);\n",
       "  text-decoration: none;\n",
       "}\n",
       "\n",
       "#sk-container-id-2 a.estimator_doc_link.fitted:hover {\n",
       "  /* fitted */\n",
       "  background-color: var(--sklearn-color-fitted-level-3);\n",
       "}\n",
       "</style><div id=\"sk-container-id-2\" class=\"sk-top-container\"><div class=\"sk-text-repr-fallback\"><pre>Pipeline(steps=[(&#x27;encoder&#x27;,\n",
       "                 ColumnTransformer(force_int_remainder_cols=False,\n",
       "                                   remainder=&#x27;passthrough&#x27;,\n",
       "                                   transformers=[(&#x27;onehot&#x27;,\n",
       "                                                  OneHotEncoder(handle_unknown=&#x27;infrequent_if_exist&#x27;,\n",
       "                                                                min_frequency=8,\n",
       "                                                                sparse_output=False),\n",
       "                                                  [&#x27;sex&#x27;, &#x27;smoker&#x27;, &#x27;region&#x27;])],\n",
       "                                   verbose_feature_names_out=False)),\n",
       "                (&#x27;standardization&#x27;, StandardScaler()),\n",
       "                (&#x27;regressor&#x27;,\n",
       "                 RandomForestRegressor(criterion=&#x27;absolute_error&#x27;, max_depth=5,\n",
       "                                       n_estimators=47, n_jobs=-1,\n",
       "                                       random_state=42))])</pre><b>In a Jupyter environment, please rerun this cell to show the HTML representation or trust the notebook. <br />On GitHub, the HTML representation is unable to render, please try loading this page with nbviewer.org.</b></div><div class=\"sk-container\" hidden><div class=\"sk-item sk-dashed-wrapped\"><div class=\"sk-label-container\"><div class=\"sk-label fitted sk-toggleable\"><input class=\"sk-toggleable__control sk-hidden--visually\" id=\"sk-estimator-id-9\" type=\"checkbox\" ><label for=\"sk-estimator-id-9\" class=\"sk-toggleable__label fitted sk-toggleable__label-arrow\"><div><div>Pipeline</div></div><div><a class=\"sk-estimator-doc-link fitted\" rel=\"noreferrer\" target=\"_blank\" href=\"https://scikit-learn.org/1.6/modules/generated/sklearn.pipeline.Pipeline.html\">?<span>Documentation for Pipeline</span></a><span class=\"sk-estimator-doc-link fitted\">i<span>Fitted</span></span></div></label><div class=\"sk-toggleable__content fitted\"><pre>Pipeline(steps=[(&#x27;encoder&#x27;,\n",
       "                 ColumnTransformer(force_int_remainder_cols=False,\n",
       "                                   remainder=&#x27;passthrough&#x27;,\n",
       "                                   transformers=[(&#x27;onehot&#x27;,\n",
       "                                                  OneHotEncoder(handle_unknown=&#x27;infrequent_if_exist&#x27;,\n",
       "                                                                min_frequency=8,\n",
       "                                                                sparse_output=False),\n",
       "                                                  [&#x27;sex&#x27;, &#x27;smoker&#x27;, &#x27;region&#x27;])],\n",
       "                                   verbose_feature_names_out=False)),\n",
       "                (&#x27;standardization&#x27;, StandardScaler()),\n",
       "                (&#x27;regressor&#x27;,\n",
       "                 RandomForestRegressor(criterion=&#x27;absolute_error&#x27;, max_depth=5,\n",
       "                                       n_estimators=47, n_jobs=-1,\n",
       "                                       random_state=42))])</pre></div> </div></div><div class=\"sk-serial\"><div class=\"sk-item sk-dashed-wrapped\"><div class=\"sk-label-container\"><div class=\"sk-label fitted sk-toggleable\"><input class=\"sk-toggleable__control sk-hidden--visually\" id=\"sk-estimator-id-10\" type=\"checkbox\" ><label for=\"sk-estimator-id-10\" class=\"sk-toggleable__label fitted sk-toggleable__label-arrow\"><div><div>encoder: ColumnTransformer</div></div><div><a class=\"sk-estimator-doc-link fitted\" rel=\"noreferrer\" target=\"_blank\" href=\"https://scikit-learn.org/1.6/modules/generated/sklearn.compose.ColumnTransformer.html\">?<span>Documentation for encoder: ColumnTransformer</span></a></div></label><div class=\"sk-toggleable__content fitted\"><pre>ColumnTransformer(force_int_remainder_cols=False, remainder=&#x27;passthrough&#x27;,\n",
       "                  transformers=[(&#x27;onehot&#x27;,\n",
       "                                 OneHotEncoder(handle_unknown=&#x27;infrequent_if_exist&#x27;,\n",
       "                                               min_frequency=8,\n",
       "                                               sparse_output=False),\n",
       "                                 [&#x27;sex&#x27;, &#x27;smoker&#x27;, &#x27;region&#x27;])],\n",
       "                  verbose_feature_names_out=False)</pre></div> </div></div><div class=\"sk-parallel\"><div class=\"sk-parallel-item\"><div class=\"sk-item\"><div class=\"sk-label-container\"><div class=\"sk-label fitted sk-toggleable\"><input class=\"sk-toggleable__control sk-hidden--visually\" id=\"sk-estimator-id-11\" type=\"checkbox\" ><label for=\"sk-estimator-id-11\" class=\"sk-toggleable__label fitted sk-toggleable__label-arrow\"><div><div>onehot</div></div></label><div class=\"sk-toggleable__content fitted\"><pre>[&#x27;sex&#x27;, &#x27;smoker&#x27;, &#x27;region&#x27;]</pre></div> </div></div><div class=\"sk-serial\"><div class=\"sk-item\"><div class=\"sk-estimator fitted sk-toggleable\"><input class=\"sk-toggleable__control sk-hidden--visually\" id=\"sk-estimator-id-12\" type=\"checkbox\" ><label for=\"sk-estimator-id-12\" class=\"sk-toggleable__label fitted sk-toggleable__label-arrow\"><div><div>OneHotEncoder</div></div><div><a class=\"sk-estimator-doc-link fitted\" rel=\"noreferrer\" target=\"_blank\" href=\"https://scikit-learn.org/1.6/modules/generated/sklearn.preprocessing.OneHotEncoder.html\">?<span>Documentation for OneHotEncoder</span></a></div></label><div class=\"sk-toggleable__content fitted\"><pre>OneHotEncoder(handle_unknown=&#x27;infrequent_if_exist&#x27;, min_frequency=8,\n",
       "              sparse_output=False)</pre></div> </div></div></div></div></div><div class=\"sk-parallel-item\"><div class=\"sk-item\"><div class=\"sk-label-container\"><div class=\"sk-label fitted sk-toggleable\"><input class=\"sk-toggleable__control sk-hidden--visually\" id=\"sk-estimator-id-13\" type=\"checkbox\" ><label for=\"sk-estimator-id-13\" class=\"sk-toggleable__label fitted sk-toggleable__label-arrow\"><div><div>remainder</div></div></label><div class=\"sk-toggleable__content fitted\"><pre>[&#x27;age&#x27;, &#x27;bmi&#x27;, &#x27;children&#x27;]</pre></div> </div></div><div class=\"sk-serial\"><div class=\"sk-item\"><div class=\"sk-estimator fitted sk-toggleable\"><input class=\"sk-toggleable__control sk-hidden--visually\" id=\"sk-estimator-id-14\" type=\"checkbox\" ><label for=\"sk-estimator-id-14\" class=\"sk-toggleable__label fitted sk-toggleable__label-arrow\"><div><div>passthrough</div></div></label><div class=\"sk-toggleable__content fitted\"><pre>passthrough</pre></div> </div></div></div></div></div></div></div><div class=\"sk-item\"><div class=\"sk-estimator fitted sk-toggleable\"><input class=\"sk-toggleable__control sk-hidden--visually\" id=\"sk-estimator-id-15\" type=\"checkbox\" ><label for=\"sk-estimator-id-15\" class=\"sk-toggleable__label fitted sk-toggleable__label-arrow\"><div><div>StandardScaler</div></div><div><a class=\"sk-estimator-doc-link fitted\" rel=\"noreferrer\" target=\"_blank\" href=\"https://scikit-learn.org/1.6/modules/generated/sklearn.preprocessing.StandardScaler.html\">?<span>Documentation for StandardScaler</span></a></div></label><div class=\"sk-toggleable__content fitted\"><pre>StandardScaler()</pre></div> </div></div><div class=\"sk-item\"><div class=\"sk-estimator fitted sk-toggleable\"><input class=\"sk-toggleable__control sk-hidden--visually\" id=\"sk-estimator-id-16\" type=\"checkbox\" ><label for=\"sk-estimator-id-16\" class=\"sk-toggleable__label fitted sk-toggleable__label-arrow\"><div><div>RandomForestRegressor</div></div><div><a class=\"sk-estimator-doc-link fitted\" rel=\"noreferrer\" target=\"_blank\" href=\"https://scikit-learn.org/1.6/modules/generated/sklearn.ensemble.RandomForestRegressor.html\">?<span>Documentation for RandomForestRegressor</span></a></div></label><div class=\"sk-toggleable__content fitted\"><pre>RandomForestRegressor(criterion=&#x27;absolute_error&#x27;, max_depth=5, n_estimators=47,\n",
       "                      n_jobs=-1, random_state=42)</pre></div> </div></div></div></div></div></div>"
      ],
      "text/plain": [
       "Pipeline(steps=[('encoder',\n",
       "                 ColumnTransformer(force_int_remainder_cols=False,\n",
       "                                   remainder='passthrough',\n",
       "                                   transformers=[('onehot',\n",
       "                                                  OneHotEncoder(handle_unknown='infrequent_if_exist',\n",
       "                                                                min_frequency=8,\n",
       "                                                                sparse_output=False),\n",
       "                                                  ['sex', 'smoker', 'region'])],\n",
       "                                   verbose_feature_names_out=False)),\n",
       "                ('standardization', StandardScaler()),\n",
       "                ('regressor',\n",
       "                 RandomForestRegressor(criterion='absolute_error', max_depth=5,\n",
       "                                       n_estimators=47, n_jobs=-1,\n",
       "                                       random_state=42))])"
      ]
     },
     "execution_count": 38,
     "metadata": {},
     "output_type": "execute_result"
    }
   ],
   "source": [
    "pipe.set_params(**study.best_params)"
   ]
  },
  {
   "cell_type": "code",
   "execution_count": 39,
   "id": "9cc2471c",
   "metadata": {},
   "outputs": [
    {
     "data": {
      "text/plain": [
       "{'regressor__n_estimators': 47,\n",
       " 'regressor__criterion': 'absolute_error',\n",
       " 'encoder__onehot__min_frequency': 8,\n",
       " 'regressor__max_depth': 5}"
      ]
     },
     "execution_count": 39,
     "metadata": {},
     "output_type": "execute_result"
    }
   ],
   "source": [
    "study.best_params"
   ]
  },
  {
   "cell_type": "code",
   "execution_count": 40,
   "id": "1896ef52",
   "metadata": {},
   "outputs": [
    {
     "data": {
      "text/html": [
       "<style>#sk-container-id-3 {\n",
       "  /* Definition of color scheme common for light and dark mode */\n",
       "  --sklearn-color-text: #000;\n",
       "  --sklearn-color-text-muted: #666;\n",
       "  --sklearn-color-line: gray;\n",
       "  /* Definition of color scheme for unfitted estimators */\n",
       "  --sklearn-color-unfitted-level-0: #fff5e6;\n",
       "  --sklearn-color-unfitted-level-1: #f6e4d2;\n",
       "  --sklearn-color-unfitted-level-2: #ffe0b3;\n",
       "  --sklearn-color-unfitted-level-3: chocolate;\n",
       "  /* Definition of color scheme for fitted estimators */\n",
       "  --sklearn-color-fitted-level-0: #f0f8ff;\n",
       "  --sklearn-color-fitted-level-1: #d4ebff;\n",
       "  --sklearn-color-fitted-level-2: #b3dbfd;\n",
       "  --sklearn-color-fitted-level-3: cornflowerblue;\n",
       "\n",
       "  /* Specific color for light theme */\n",
       "  --sklearn-color-text-on-default-background: var(--sg-text-color, var(--theme-code-foreground, var(--jp-content-font-color1, black)));\n",
       "  --sklearn-color-background: var(--sg-background-color, var(--theme-background, var(--jp-layout-color0, white)));\n",
       "  --sklearn-color-border-box: var(--sg-text-color, var(--theme-code-foreground, var(--jp-content-font-color1, black)));\n",
       "  --sklearn-color-icon: #696969;\n",
       "\n",
       "  @media (prefers-color-scheme: dark) {\n",
       "    /* Redefinition of color scheme for dark theme */\n",
       "    --sklearn-color-text-on-default-background: var(--sg-text-color, var(--theme-code-foreground, var(--jp-content-font-color1, white)));\n",
       "    --sklearn-color-background: var(--sg-background-color, var(--theme-background, var(--jp-layout-color0, #111)));\n",
       "    --sklearn-color-border-box: var(--sg-text-color, var(--theme-code-foreground, var(--jp-content-font-color1, white)));\n",
       "    --sklearn-color-icon: #878787;\n",
       "  }\n",
       "}\n",
       "\n",
       "#sk-container-id-3 {\n",
       "  color: var(--sklearn-color-text);\n",
       "}\n",
       "\n",
       "#sk-container-id-3 pre {\n",
       "  padding: 0;\n",
       "}\n",
       "\n",
       "#sk-container-id-3 input.sk-hidden--visually {\n",
       "  border: 0;\n",
       "  clip: rect(1px 1px 1px 1px);\n",
       "  clip: rect(1px, 1px, 1px, 1px);\n",
       "  height: 1px;\n",
       "  margin: -1px;\n",
       "  overflow: hidden;\n",
       "  padding: 0;\n",
       "  position: absolute;\n",
       "  width: 1px;\n",
       "}\n",
       "\n",
       "#sk-container-id-3 div.sk-dashed-wrapped {\n",
       "  border: 1px dashed var(--sklearn-color-line);\n",
       "  margin: 0 0.4em 0.5em 0.4em;\n",
       "  box-sizing: border-box;\n",
       "  padding-bottom: 0.4em;\n",
       "  background-color: var(--sklearn-color-background);\n",
       "}\n",
       "\n",
       "#sk-container-id-3 div.sk-container {\n",
       "  /* jupyter's `normalize.less` sets `[hidden] { display: none; }`\n",
       "     but bootstrap.min.css set `[hidden] { display: none !important; }`\n",
       "     so we also need the `!important` here to be able to override the\n",
       "     default hidden behavior on the sphinx rendered scikit-learn.org.\n",
       "     See: https://github.com/scikit-learn/scikit-learn/issues/21755 */\n",
       "  display: inline-block !important;\n",
       "  position: relative;\n",
       "}\n",
       "\n",
       "#sk-container-id-3 div.sk-text-repr-fallback {\n",
       "  display: none;\n",
       "}\n",
       "\n",
       "div.sk-parallel-item,\n",
       "div.sk-serial,\n",
       "div.sk-item {\n",
       "  /* draw centered vertical line to link estimators */\n",
       "  background-image: linear-gradient(var(--sklearn-color-text-on-default-background), var(--sklearn-color-text-on-default-background));\n",
       "  background-size: 2px 100%;\n",
       "  background-repeat: no-repeat;\n",
       "  background-position: center center;\n",
       "}\n",
       "\n",
       "/* Parallel-specific style estimator block */\n",
       "\n",
       "#sk-container-id-3 div.sk-parallel-item::after {\n",
       "  content: \"\";\n",
       "  width: 100%;\n",
       "  border-bottom: 2px solid var(--sklearn-color-text-on-default-background);\n",
       "  flex-grow: 1;\n",
       "}\n",
       "\n",
       "#sk-container-id-3 div.sk-parallel {\n",
       "  display: flex;\n",
       "  align-items: stretch;\n",
       "  justify-content: center;\n",
       "  background-color: var(--sklearn-color-background);\n",
       "  position: relative;\n",
       "}\n",
       "\n",
       "#sk-container-id-3 div.sk-parallel-item {\n",
       "  display: flex;\n",
       "  flex-direction: column;\n",
       "}\n",
       "\n",
       "#sk-container-id-3 div.sk-parallel-item:first-child::after {\n",
       "  align-self: flex-end;\n",
       "  width: 50%;\n",
       "}\n",
       "\n",
       "#sk-container-id-3 div.sk-parallel-item:last-child::after {\n",
       "  align-self: flex-start;\n",
       "  width: 50%;\n",
       "}\n",
       "\n",
       "#sk-container-id-3 div.sk-parallel-item:only-child::after {\n",
       "  width: 0;\n",
       "}\n",
       "\n",
       "/* Serial-specific style estimator block */\n",
       "\n",
       "#sk-container-id-3 div.sk-serial {\n",
       "  display: flex;\n",
       "  flex-direction: column;\n",
       "  align-items: center;\n",
       "  background-color: var(--sklearn-color-background);\n",
       "  padding-right: 1em;\n",
       "  padding-left: 1em;\n",
       "}\n",
       "\n",
       "\n",
       "/* Toggleable style: style used for estimator/Pipeline/ColumnTransformer box that is\n",
       "clickable and can be expanded/collapsed.\n",
       "- Pipeline and ColumnTransformer use this feature and define the default style\n",
       "- Estimators will overwrite some part of the style using the `sk-estimator` class\n",
       "*/\n",
       "\n",
       "/* Pipeline and ColumnTransformer style (default) */\n",
       "\n",
       "#sk-container-id-3 div.sk-toggleable {\n",
       "  /* Default theme specific background. It is overwritten whether we have a\n",
       "  specific estimator or a Pipeline/ColumnTransformer */\n",
       "  background-color: var(--sklearn-color-background);\n",
       "}\n",
       "\n",
       "/* Toggleable label */\n",
       "#sk-container-id-3 label.sk-toggleable__label {\n",
       "  cursor: pointer;\n",
       "  display: flex;\n",
       "  width: 100%;\n",
       "  margin-bottom: 0;\n",
       "  padding: 0.5em;\n",
       "  box-sizing: border-box;\n",
       "  text-align: center;\n",
       "  align-items: start;\n",
       "  justify-content: space-between;\n",
       "  gap: 0.5em;\n",
       "}\n",
       "\n",
       "#sk-container-id-3 label.sk-toggleable__label .caption {\n",
       "  font-size: 0.6rem;\n",
       "  font-weight: lighter;\n",
       "  color: var(--sklearn-color-text-muted);\n",
       "}\n",
       "\n",
       "#sk-container-id-3 label.sk-toggleable__label-arrow:before {\n",
       "  /* Arrow on the left of the label */\n",
       "  content: \"▸\";\n",
       "  float: left;\n",
       "  margin-right: 0.25em;\n",
       "  color: var(--sklearn-color-icon);\n",
       "}\n",
       "\n",
       "#sk-container-id-3 label.sk-toggleable__label-arrow:hover:before {\n",
       "  color: var(--sklearn-color-text);\n",
       "}\n",
       "\n",
       "/* Toggleable content - dropdown */\n",
       "\n",
       "#sk-container-id-3 div.sk-toggleable__content {\n",
       "  max-height: 0;\n",
       "  max-width: 0;\n",
       "  overflow: hidden;\n",
       "  text-align: left;\n",
       "  /* unfitted */\n",
       "  background-color: var(--sklearn-color-unfitted-level-0);\n",
       "}\n",
       "\n",
       "#sk-container-id-3 div.sk-toggleable__content.fitted {\n",
       "  /* fitted */\n",
       "  background-color: var(--sklearn-color-fitted-level-0);\n",
       "}\n",
       "\n",
       "#sk-container-id-3 div.sk-toggleable__content pre {\n",
       "  margin: 0.2em;\n",
       "  border-radius: 0.25em;\n",
       "  color: var(--sklearn-color-text);\n",
       "  /* unfitted */\n",
       "  background-color: var(--sklearn-color-unfitted-level-0);\n",
       "}\n",
       "\n",
       "#sk-container-id-3 div.sk-toggleable__content.fitted pre {\n",
       "  /* unfitted */\n",
       "  background-color: var(--sklearn-color-fitted-level-0);\n",
       "}\n",
       "\n",
       "#sk-container-id-3 input.sk-toggleable__control:checked~div.sk-toggleable__content {\n",
       "  /* Expand drop-down */\n",
       "  max-height: 200px;\n",
       "  max-width: 100%;\n",
       "  overflow: auto;\n",
       "}\n",
       "\n",
       "#sk-container-id-3 input.sk-toggleable__control:checked~label.sk-toggleable__label-arrow:before {\n",
       "  content: \"▾\";\n",
       "}\n",
       "\n",
       "/* Pipeline/ColumnTransformer-specific style */\n",
       "\n",
       "#sk-container-id-3 div.sk-label input.sk-toggleable__control:checked~label.sk-toggleable__label {\n",
       "  color: var(--sklearn-color-text);\n",
       "  background-color: var(--sklearn-color-unfitted-level-2);\n",
       "}\n",
       "\n",
       "#sk-container-id-3 div.sk-label.fitted input.sk-toggleable__control:checked~label.sk-toggleable__label {\n",
       "  background-color: var(--sklearn-color-fitted-level-2);\n",
       "}\n",
       "\n",
       "/* Estimator-specific style */\n",
       "\n",
       "/* Colorize estimator box */\n",
       "#sk-container-id-3 div.sk-estimator input.sk-toggleable__control:checked~label.sk-toggleable__label {\n",
       "  /* unfitted */\n",
       "  background-color: var(--sklearn-color-unfitted-level-2);\n",
       "}\n",
       "\n",
       "#sk-container-id-3 div.sk-estimator.fitted input.sk-toggleable__control:checked~label.sk-toggleable__label {\n",
       "  /* fitted */\n",
       "  background-color: var(--sklearn-color-fitted-level-2);\n",
       "}\n",
       "\n",
       "#sk-container-id-3 div.sk-label label.sk-toggleable__label,\n",
       "#sk-container-id-3 div.sk-label label {\n",
       "  /* The background is the default theme color */\n",
       "  color: var(--sklearn-color-text-on-default-background);\n",
       "}\n",
       "\n",
       "/* On hover, darken the color of the background */\n",
       "#sk-container-id-3 div.sk-label:hover label.sk-toggleable__label {\n",
       "  color: var(--sklearn-color-text);\n",
       "  background-color: var(--sklearn-color-unfitted-level-2);\n",
       "}\n",
       "\n",
       "/* Label box, darken color on hover, fitted */\n",
       "#sk-container-id-3 div.sk-label.fitted:hover label.sk-toggleable__label.fitted {\n",
       "  color: var(--sklearn-color-text);\n",
       "  background-color: var(--sklearn-color-fitted-level-2);\n",
       "}\n",
       "\n",
       "/* Estimator label */\n",
       "\n",
       "#sk-container-id-3 div.sk-label label {\n",
       "  font-family: monospace;\n",
       "  font-weight: bold;\n",
       "  display: inline-block;\n",
       "  line-height: 1.2em;\n",
       "}\n",
       "\n",
       "#sk-container-id-3 div.sk-label-container {\n",
       "  text-align: center;\n",
       "}\n",
       "\n",
       "/* Estimator-specific */\n",
       "#sk-container-id-3 div.sk-estimator {\n",
       "  font-family: monospace;\n",
       "  border: 1px dotted var(--sklearn-color-border-box);\n",
       "  border-radius: 0.25em;\n",
       "  box-sizing: border-box;\n",
       "  margin-bottom: 0.5em;\n",
       "  /* unfitted */\n",
       "  background-color: var(--sklearn-color-unfitted-level-0);\n",
       "}\n",
       "\n",
       "#sk-container-id-3 div.sk-estimator.fitted {\n",
       "  /* fitted */\n",
       "  background-color: var(--sklearn-color-fitted-level-0);\n",
       "}\n",
       "\n",
       "/* on hover */\n",
       "#sk-container-id-3 div.sk-estimator:hover {\n",
       "  /* unfitted */\n",
       "  background-color: var(--sklearn-color-unfitted-level-2);\n",
       "}\n",
       "\n",
       "#sk-container-id-3 div.sk-estimator.fitted:hover {\n",
       "  /* fitted */\n",
       "  background-color: var(--sklearn-color-fitted-level-2);\n",
       "}\n",
       "\n",
       "/* Specification for estimator info (e.g. \"i\" and \"?\") */\n",
       "\n",
       "/* Common style for \"i\" and \"?\" */\n",
       "\n",
       ".sk-estimator-doc-link,\n",
       "a:link.sk-estimator-doc-link,\n",
       "a:visited.sk-estimator-doc-link {\n",
       "  float: right;\n",
       "  font-size: smaller;\n",
       "  line-height: 1em;\n",
       "  font-family: monospace;\n",
       "  background-color: var(--sklearn-color-background);\n",
       "  border-radius: 1em;\n",
       "  height: 1em;\n",
       "  width: 1em;\n",
       "  text-decoration: none !important;\n",
       "  margin-left: 0.5em;\n",
       "  text-align: center;\n",
       "  /* unfitted */\n",
       "  border: var(--sklearn-color-unfitted-level-1) 1pt solid;\n",
       "  color: var(--sklearn-color-unfitted-level-1);\n",
       "}\n",
       "\n",
       ".sk-estimator-doc-link.fitted,\n",
       "a:link.sk-estimator-doc-link.fitted,\n",
       "a:visited.sk-estimator-doc-link.fitted {\n",
       "  /* fitted */\n",
       "  border: var(--sklearn-color-fitted-level-1) 1pt solid;\n",
       "  color: var(--sklearn-color-fitted-level-1);\n",
       "}\n",
       "\n",
       "/* On hover */\n",
       "div.sk-estimator:hover .sk-estimator-doc-link:hover,\n",
       ".sk-estimator-doc-link:hover,\n",
       "div.sk-label-container:hover .sk-estimator-doc-link:hover,\n",
       ".sk-estimator-doc-link:hover {\n",
       "  /* unfitted */\n",
       "  background-color: var(--sklearn-color-unfitted-level-3);\n",
       "  color: var(--sklearn-color-background);\n",
       "  text-decoration: none;\n",
       "}\n",
       "\n",
       "div.sk-estimator.fitted:hover .sk-estimator-doc-link.fitted:hover,\n",
       ".sk-estimator-doc-link.fitted:hover,\n",
       "div.sk-label-container:hover .sk-estimator-doc-link.fitted:hover,\n",
       ".sk-estimator-doc-link.fitted:hover {\n",
       "  /* fitted */\n",
       "  background-color: var(--sklearn-color-fitted-level-3);\n",
       "  color: var(--sklearn-color-background);\n",
       "  text-decoration: none;\n",
       "}\n",
       "\n",
       "/* Span, style for the box shown on hovering the info icon */\n",
       ".sk-estimator-doc-link span {\n",
       "  display: none;\n",
       "  z-index: 9999;\n",
       "  position: relative;\n",
       "  font-weight: normal;\n",
       "  right: .2ex;\n",
       "  padding: .5ex;\n",
       "  margin: .5ex;\n",
       "  width: min-content;\n",
       "  min-width: 20ex;\n",
       "  max-width: 50ex;\n",
       "  color: var(--sklearn-color-text);\n",
       "  box-shadow: 2pt 2pt 4pt #999;\n",
       "  /* unfitted */\n",
       "  background: var(--sklearn-color-unfitted-level-0);\n",
       "  border: .5pt solid var(--sklearn-color-unfitted-level-3);\n",
       "}\n",
       "\n",
       ".sk-estimator-doc-link.fitted span {\n",
       "  /* fitted */\n",
       "  background: var(--sklearn-color-fitted-level-0);\n",
       "  border: var(--sklearn-color-fitted-level-3);\n",
       "}\n",
       "\n",
       ".sk-estimator-doc-link:hover span {\n",
       "  display: block;\n",
       "}\n",
       "\n",
       "/* \"?\"-specific style due to the `<a>` HTML tag */\n",
       "\n",
       "#sk-container-id-3 a.estimator_doc_link {\n",
       "  float: right;\n",
       "  font-size: 1rem;\n",
       "  line-height: 1em;\n",
       "  font-family: monospace;\n",
       "  background-color: var(--sklearn-color-background);\n",
       "  border-radius: 1rem;\n",
       "  height: 1rem;\n",
       "  width: 1rem;\n",
       "  text-decoration: none;\n",
       "  /* unfitted */\n",
       "  color: var(--sklearn-color-unfitted-level-1);\n",
       "  border: var(--sklearn-color-unfitted-level-1) 1pt solid;\n",
       "}\n",
       "\n",
       "#sk-container-id-3 a.estimator_doc_link.fitted {\n",
       "  /* fitted */\n",
       "  border: var(--sklearn-color-fitted-level-1) 1pt solid;\n",
       "  color: var(--sklearn-color-fitted-level-1);\n",
       "}\n",
       "\n",
       "/* On hover */\n",
       "#sk-container-id-3 a.estimator_doc_link:hover {\n",
       "  /* unfitted */\n",
       "  background-color: var(--sklearn-color-unfitted-level-3);\n",
       "  color: var(--sklearn-color-background);\n",
       "  text-decoration: none;\n",
       "}\n",
       "\n",
       "#sk-container-id-3 a.estimator_doc_link.fitted:hover {\n",
       "  /* fitted */\n",
       "  background-color: var(--sklearn-color-fitted-level-3);\n",
       "}\n",
       "</style><div id=\"sk-container-id-3\" class=\"sk-top-container\"><div class=\"sk-text-repr-fallback\"><pre>Pipeline(steps=[(&#x27;encoder&#x27;,\n",
       "                 ColumnTransformer(force_int_remainder_cols=False,\n",
       "                                   remainder=&#x27;passthrough&#x27;,\n",
       "                                   transformers=[(&#x27;onehot&#x27;,\n",
       "                                                  OneHotEncoder(handle_unknown=&#x27;infrequent_if_exist&#x27;,\n",
       "                                                                min_frequency=8,\n",
       "                                                                sparse_output=False),\n",
       "                                                  [&#x27;sex&#x27;, &#x27;smoker&#x27;, &#x27;region&#x27;])],\n",
       "                                   verbose_feature_names_out=False)),\n",
       "                (&#x27;standardization&#x27;, StandardScaler()),\n",
       "                (&#x27;regressor&#x27;,\n",
       "                 RandomForestRegressor(criterion=&#x27;absolute_error&#x27;, max_depth=5,\n",
       "                                       n_estimators=47, n_jobs=-1,\n",
       "                                       random_state=42))])</pre><b>In a Jupyter environment, please rerun this cell to show the HTML representation or trust the notebook. <br />On GitHub, the HTML representation is unable to render, please try loading this page with nbviewer.org.</b></div><div class=\"sk-container\" hidden><div class=\"sk-item sk-dashed-wrapped\"><div class=\"sk-label-container\"><div class=\"sk-label fitted sk-toggleable\"><input class=\"sk-toggleable__control sk-hidden--visually\" id=\"sk-estimator-id-17\" type=\"checkbox\" ><label for=\"sk-estimator-id-17\" class=\"sk-toggleable__label fitted sk-toggleable__label-arrow\"><div><div>Pipeline</div></div><div><a class=\"sk-estimator-doc-link fitted\" rel=\"noreferrer\" target=\"_blank\" href=\"https://scikit-learn.org/1.6/modules/generated/sklearn.pipeline.Pipeline.html\">?<span>Documentation for Pipeline</span></a><span class=\"sk-estimator-doc-link fitted\">i<span>Fitted</span></span></div></label><div class=\"sk-toggleable__content fitted\"><pre>Pipeline(steps=[(&#x27;encoder&#x27;,\n",
       "                 ColumnTransformer(force_int_remainder_cols=False,\n",
       "                                   remainder=&#x27;passthrough&#x27;,\n",
       "                                   transformers=[(&#x27;onehot&#x27;,\n",
       "                                                  OneHotEncoder(handle_unknown=&#x27;infrequent_if_exist&#x27;,\n",
       "                                                                min_frequency=8,\n",
       "                                                                sparse_output=False),\n",
       "                                                  [&#x27;sex&#x27;, &#x27;smoker&#x27;, &#x27;region&#x27;])],\n",
       "                                   verbose_feature_names_out=False)),\n",
       "                (&#x27;standardization&#x27;, StandardScaler()),\n",
       "                (&#x27;regressor&#x27;,\n",
       "                 RandomForestRegressor(criterion=&#x27;absolute_error&#x27;, max_depth=5,\n",
       "                                       n_estimators=47, n_jobs=-1,\n",
       "                                       random_state=42))])</pre></div> </div></div><div class=\"sk-serial\"><div class=\"sk-item sk-dashed-wrapped\"><div class=\"sk-label-container\"><div class=\"sk-label fitted sk-toggleable\"><input class=\"sk-toggleable__control sk-hidden--visually\" id=\"sk-estimator-id-18\" type=\"checkbox\" ><label for=\"sk-estimator-id-18\" class=\"sk-toggleable__label fitted sk-toggleable__label-arrow\"><div><div>encoder: ColumnTransformer</div></div><div><a class=\"sk-estimator-doc-link fitted\" rel=\"noreferrer\" target=\"_blank\" href=\"https://scikit-learn.org/1.6/modules/generated/sklearn.compose.ColumnTransformer.html\">?<span>Documentation for encoder: ColumnTransformer</span></a></div></label><div class=\"sk-toggleable__content fitted\"><pre>ColumnTransformer(force_int_remainder_cols=False, remainder=&#x27;passthrough&#x27;,\n",
       "                  transformers=[(&#x27;onehot&#x27;,\n",
       "                                 OneHotEncoder(handle_unknown=&#x27;infrequent_if_exist&#x27;,\n",
       "                                               min_frequency=8,\n",
       "                                               sparse_output=False),\n",
       "                                 [&#x27;sex&#x27;, &#x27;smoker&#x27;, &#x27;region&#x27;])],\n",
       "                  verbose_feature_names_out=False)</pre></div> </div></div><div class=\"sk-parallel\"><div class=\"sk-parallel-item\"><div class=\"sk-item\"><div class=\"sk-label-container\"><div class=\"sk-label fitted sk-toggleable\"><input class=\"sk-toggleable__control sk-hidden--visually\" id=\"sk-estimator-id-19\" type=\"checkbox\" ><label for=\"sk-estimator-id-19\" class=\"sk-toggleable__label fitted sk-toggleable__label-arrow\"><div><div>onehot</div></div></label><div class=\"sk-toggleable__content fitted\"><pre>[&#x27;sex&#x27;, &#x27;smoker&#x27;, &#x27;region&#x27;]</pre></div> </div></div><div class=\"sk-serial\"><div class=\"sk-item\"><div class=\"sk-estimator fitted sk-toggleable\"><input class=\"sk-toggleable__control sk-hidden--visually\" id=\"sk-estimator-id-20\" type=\"checkbox\" ><label for=\"sk-estimator-id-20\" class=\"sk-toggleable__label fitted sk-toggleable__label-arrow\"><div><div>OneHotEncoder</div></div><div><a class=\"sk-estimator-doc-link fitted\" rel=\"noreferrer\" target=\"_blank\" href=\"https://scikit-learn.org/1.6/modules/generated/sklearn.preprocessing.OneHotEncoder.html\">?<span>Documentation for OneHotEncoder</span></a></div></label><div class=\"sk-toggleable__content fitted\"><pre>OneHotEncoder(handle_unknown=&#x27;infrequent_if_exist&#x27;, min_frequency=8,\n",
       "              sparse_output=False)</pre></div> </div></div></div></div></div><div class=\"sk-parallel-item\"><div class=\"sk-item\"><div class=\"sk-label-container\"><div class=\"sk-label fitted sk-toggleable\"><input class=\"sk-toggleable__control sk-hidden--visually\" id=\"sk-estimator-id-21\" type=\"checkbox\" ><label for=\"sk-estimator-id-21\" class=\"sk-toggleable__label fitted sk-toggleable__label-arrow\"><div><div>remainder</div></div></label><div class=\"sk-toggleable__content fitted\"><pre>[&#x27;age&#x27;, &#x27;bmi&#x27;, &#x27;children&#x27;]</pre></div> </div></div><div class=\"sk-serial\"><div class=\"sk-item\"><div class=\"sk-estimator fitted sk-toggleable\"><input class=\"sk-toggleable__control sk-hidden--visually\" id=\"sk-estimator-id-22\" type=\"checkbox\" ><label for=\"sk-estimator-id-22\" class=\"sk-toggleable__label fitted sk-toggleable__label-arrow\"><div><div>passthrough</div></div></label><div class=\"sk-toggleable__content fitted\"><pre>passthrough</pre></div> </div></div></div></div></div></div></div><div class=\"sk-item\"><div class=\"sk-estimator fitted sk-toggleable\"><input class=\"sk-toggleable__control sk-hidden--visually\" id=\"sk-estimator-id-23\" type=\"checkbox\" ><label for=\"sk-estimator-id-23\" class=\"sk-toggleable__label fitted sk-toggleable__label-arrow\"><div><div>StandardScaler</div></div><div><a class=\"sk-estimator-doc-link fitted\" rel=\"noreferrer\" target=\"_blank\" href=\"https://scikit-learn.org/1.6/modules/generated/sklearn.preprocessing.StandardScaler.html\">?<span>Documentation for StandardScaler</span></a></div></label><div class=\"sk-toggleable__content fitted\"><pre>StandardScaler()</pre></div> </div></div><div class=\"sk-item\"><div class=\"sk-estimator fitted sk-toggleable\"><input class=\"sk-toggleable__control sk-hidden--visually\" id=\"sk-estimator-id-24\" type=\"checkbox\" ><label for=\"sk-estimator-id-24\" class=\"sk-toggleable__label fitted sk-toggleable__label-arrow\"><div><div>RandomForestRegressor</div></div><div><a class=\"sk-estimator-doc-link fitted\" rel=\"noreferrer\" target=\"_blank\" href=\"https://scikit-learn.org/1.6/modules/generated/sklearn.ensemble.RandomForestRegressor.html\">?<span>Documentation for RandomForestRegressor</span></a></div></label><div class=\"sk-toggleable__content fitted\"><pre>RandomForestRegressor(criterion=&#x27;absolute_error&#x27;, max_depth=5, n_estimators=47,\n",
       "                      n_jobs=-1, random_state=42)</pre></div> </div></div></div></div></div></div>"
      ],
      "text/plain": [
       "Pipeline(steps=[('encoder',\n",
       "                 ColumnTransformer(force_int_remainder_cols=False,\n",
       "                                   remainder='passthrough',\n",
       "                                   transformers=[('onehot',\n",
       "                                                  OneHotEncoder(handle_unknown='infrequent_if_exist',\n",
       "                                                                min_frequency=8,\n",
       "                                                                sparse_output=False),\n",
       "                                                  ['sex', 'smoker', 'region'])],\n",
       "                                   verbose_feature_names_out=False)),\n",
       "                ('standardization', StandardScaler()),\n",
       "                ('regressor',\n",
       "                 RandomForestRegressor(criterion='absolute_error', max_depth=5,\n",
       "                                       n_estimators=47, n_jobs=-1,\n",
       "                                       random_state=42))])"
      ]
     },
     "execution_count": 40,
     "metadata": {},
     "output_type": "execute_result"
    }
   ],
   "source": [
    "pipe.fit(x_train, y_train)"
   ]
  },
  {
   "cell_type": "code",
   "execution_count": 41,
   "id": "c05c95f0",
   "metadata": {},
   "outputs": [],
   "source": [
    "preds = pipe.predict(x_test)        "
   ]
  },
  {
   "cell_type": "code",
   "execution_count": 42,
   "id": "5faacac4",
   "metadata": {},
   "outputs": [
    {
     "data": {
      "text/plain": [
       "1803.8793305408856"
      ]
     },
     "execution_count": 42,
     "metadata": {},
     "output_type": "execute_result"
    }
   ],
   "source": [
    "mean_absolute_error(y_test, preds)"
   ]
  },
  {
   "cell_type": "code",
   "execution_count": 43,
   "id": "ee4d3580",
   "metadata": {},
   "outputs": [
    {
     "data": {
      "text/plain": [
       "0.1334267523960632"
      ]
     },
     "execution_count": 43,
     "metadata": {},
     "output_type": "execute_result"
    }
   ],
   "source": [
    "mean_absolute_percentage_error(y_test, preds)"
   ]
  },
  {
   "cell_type": "markdown",
   "id": "aa89228b",
   "metadata": {},
   "source": [
    "# Aggiungere una colonna booleana per salutare o no"
   ]
  },
  {
   "cell_type": "code",
   "execution_count": 44,
   "id": "23c50906",
   "metadata": {},
   "outputs": [],
   "source": [
    "df[\"salutare\"] = df[\"bmi\"].between(18.5, 24.9)"
   ]
  },
  {
   "cell_type": "code",
   "execution_count": 45,
   "id": "b4033cba",
   "metadata": {},
   "outputs": [
    {
     "data": {
      "text/html": [
       "<div>\n",
       "<style scoped>\n",
       "    .dataframe tbody tr th:only-of-type {\n",
       "        vertical-align: middle;\n",
       "    }\n",
       "\n",
       "    .dataframe tbody tr th {\n",
       "        vertical-align: top;\n",
       "    }\n",
       "\n",
       "    .dataframe thead th {\n",
       "        text-align: right;\n",
       "    }\n",
       "</style>\n",
       "<table border=\"1\" class=\"dataframe\">\n",
       "  <thead>\n",
       "    <tr style=\"text-align: right;\">\n",
       "      <th></th>\n",
       "      <th>bmi</th>\n",
       "      <th>salutare</th>\n",
       "    </tr>\n",
       "  </thead>\n",
       "  <tbody>\n",
       "    <tr>\n",
       "      <th>0</th>\n",
       "      <td>27.900</td>\n",
       "      <td>False</td>\n",
       "    </tr>\n",
       "    <tr>\n",
       "      <th>1</th>\n",
       "      <td>33.770</td>\n",
       "      <td>False</td>\n",
       "    </tr>\n",
       "    <tr>\n",
       "      <th>2</th>\n",
       "      <td>33.000</td>\n",
       "      <td>False</td>\n",
       "    </tr>\n",
       "    <tr>\n",
       "      <th>3</th>\n",
       "      <td>22.705</td>\n",
       "      <td>True</td>\n",
       "    </tr>\n",
       "    <tr>\n",
       "      <th>4</th>\n",
       "      <td>28.880</td>\n",
       "      <td>False</td>\n",
       "    </tr>\n",
       "  </tbody>\n",
       "</table>\n",
       "</div>"
      ],
      "text/plain": [
       "      bmi  salutare\n",
       "0  27.900     False\n",
       "1  33.770     False\n",
       "2  33.000     False\n",
       "3  22.705      True\n",
       "4  28.880     False"
      ]
     },
     "execution_count": 45,
     "metadata": {},
     "output_type": "execute_result"
    }
   ],
   "source": [
    "df[[\"bmi\", \"salutare\"]].head()\n"
   ]
  },
  {
   "cell_type": "code",
   "execution_count": 46,
   "id": "d1d3097c",
   "metadata": {},
   "outputs": [
    {
     "data": {
      "text/html": [
       "<div>\n",
       "<style scoped>\n",
       "    .dataframe tbody tr th:only-of-type {\n",
       "        vertical-align: middle;\n",
       "    }\n",
       "\n",
       "    .dataframe tbody tr th {\n",
       "        vertical-align: top;\n",
       "    }\n",
       "\n",
       "    .dataframe thead th {\n",
       "        text-align: right;\n",
       "    }\n",
       "</style>\n",
       "<table border=\"1\" class=\"dataframe\">\n",
       "  <thead>\n",
       "    <tr style=\"text-align: right;\">\n",
       "      <th></th>\n",
       "      <th>age</th>\n",
       "      <th>sex</th>\n",
       "      <th>bmi</th>\n",
       "      <th>children</th>\n",
       "      <th>smoker</th>\n",
       "      <th>region</th>\n",
       "      <th>charges</th>\n",
       "      <th>salutare</th>\n",
       "    </tr>\n",
       "  </thead>\n",
       "  <tbody>\n",
       "    <tr>\n",
       "      <th>0</th>\n",
       "      <td>19</td>\n",
       "      <td>female</td>\n",
       "      <td>27.900</td>\n",
       "      <td>0</td>\n",
       "      <td>yes</td>\n",
       "      <td>southwest</td>\n",
       "      <td>16884.92400</td>\n",
       "      <td>False</td>\n",
       "    </tr>\n",
       "    <tr>\n",
       "      <th>1</th>\n",
       "      <td>18</td>\n",
       "      <td>male</td>\n",
       "      <td>33.770</td>\n",
       "      <td>1</td>\n",
       "      <td>no</td>\n",
       "      <td>southeast</td>\n",
       "      <td>1725.55230</td>\n",
       "      <td>False</td>\n",
       "    </tr>\n",
       "    <tr>\n",
       "      <th>2</th>\n",
       "      <td>28</td>\n",
       "      <td>male</td>\n",
       "      <td>33.000</td>\n",
       "      <td>3</td>\n",
       "      <td>no</td>\n",
       "      <td>southeast</td>\n",
       "      <td>4449.46200</td>\n",
       "      <td>False</td>\n",
       "    </tr>\n",
       "    <tr>\n",
       "      <th>3</th>\n",
       "      <td>33</td>\n",
       "      <td>male</td>\n",
       "      <td>22.705</td>\n",
       "      <td>0</td>\n",
       "      <td>no</td>\n",
       "      <td>northwest</td>\n",
       "      <td>21984.47061</td>\n",
       "      <td>True</td>\n",
       "    </tr>\n",
       "    <tr>\n",
       "      <th>4</th>\n",
       "      <td>32</td>\n",
       "      <td>male</td>\n",
       "      <td>28.880</td>\n",
       "      <td>0</td>\n",
       "      <td>no</td>\n",
       "      <td>northwest</td>\n",
       "      <td>3866.85520</td>\n",
       "      <td>False</td>\n",
       "    </tr>\n",
       "  </tbody>\n",
       "</table>\n",
       "</div>"
      ],
      "text/plain": [
       "   age     sex     bmi  children smoker     region      charges  salutare\n",
       "0   19  female  27.900         0    yes  southwest  16884.92400     False\n",
       "1   18    male  33.770         1     no  southeast   1725.55230     False\n",
       "2   28    male  33.000         3     no  southeast   4449.46200     False\n",
       "3   33    male  22.705         0     no  northwest  21984.47061      True\n",
       "4   32    male  28.880         0     no  northwest   3866.85520     False"
      ]
     },
     "execution_count": 46,
     "metadata": {},
     "output_type": "execute_result"
    }
   ],
   "source": [
    "df.head()"
   ]
  },
  {
   "cell_type": "code",
   "execution_count": 47,
   "id": "2fb91098",
   "metadata": {},
   "outputs": [
    {
     "data": {
      "text/plain": [
       "salutare\n",
       "False    1116\n",
       "True      222\n",
       "Name: count, dtype: int64"
      ]
     },
     "execution_count": 47,
     "metadata": {},
     "output_type": "execute_result"
    }
   ],
   "source": [
    "df[\"salutare\"].value_counts()"
   ]
  },
  {
   "cell_type": "code",
   "execution_count": 48,
   "id": "36a8bc53",
   "metadata": {},
   "outputs": [],
   "source": [
    "def categoria_bmi(bmi):\n",
    "    if bmi < 18.5:\n",
    "        return \"Sottopeso\"\n",
    "    elif bmi < 25:\n",
    "        return \"Normopeso\"\n",
    "    elif bmi < 30:\n",
    "        return \"Sovrappeso\"\n",
    "    else:\n",
    "        return \"Obeso\"\n",
    "\n",
    "df[\"categoria_bmi\"] = df[\"bmi\"].apply(categoria_bmi)\n"
   ]
  },
  {
   "cell_type": "code",
   "execution_count": 49,
   "id": "6d49e78f",
   "metadata": {},
   "outputs": [
    {
     "name": "stdout",
     "output_type": "stream",
     "text": [
      "      bmi categoria_bmi\n",
      "0  27.900    Sovrappeso\n",
      "1  33.770         Obeso\n",
      "2  33.000         Obeso\n",
      "3  22.705     Normopeso\n",
      "4  28.880    Sovrappeso\n",
      "categoria_bmi\n",
      "Obeso         707\n",
      "Sovrappeso    386\n",
      "Normopeso     225\n",
      "Sottopeso      20\n",
      "Name: count, dtype: int64\n"
     ]
    }
   ],
   "source": [
    "print(df[[\"bmi\", \"categoria_bmi\"]].head())\n",
    "print(df[\"categoria_bmi\"].value_counts())\n"
   ]
  },
  {
   "cell_type": "code",
   "execution_count": 50,
   "id": "e595fc45",
   "metadata": {},
   "outputs": [
    {
     "data": {
      "application/vnd.plotly.v1+json": {
       "config": {
        "plotlyServerURL": "https://plot.ly"
       },
       "data": [
        {
         "customdata": {
          "bdata": "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",
          "dtype": "f8",
          "shape": "386, 1"
         },
         "hovertemplate": "BMI Category=Sovrappeso<br>Age=%{x}<br>Insurance Charges=%{y}<br>bmi=%{customdata[0]}<extra></extra>",
         "legendgroup": "Sovrappeso",
         "marker": {
          "color": "#636efa",
          "symbol": "circle"
         },
         "mode": "markers",
         "name": "Sovrappeso",
         "showlegend": true,
         "type": "scattergl",
         "x": {
          "bdata": "EyAfJSU8GT4lOxITPxgwKCscEygfNSwdHzguNzsePSIUEx03PB0xFBoTOxMUFhYiHR4TMCgSMiogJS8mNi46LBokGTgtHDsjGCI1Gi87OxITNz8dNzoUMRIyGS8oHi4/NB0WGRMvMCQcMiwiGh00ODw+Lhg8IiQTMh4uLxUXMkA/JhIqHyMaODw4KCcUOBMePBM2PRgTPRIVFC0rJhg5JzIqMxI7Ji4xGSAfOhY7IToqOBMbHC84MTsdJBgnKicSNDkxKCQ1KhUiLzEkPDIpMBsfMiIlFR8vIRstKjUTNTIfIz4TGyoXGS8sJCQ4ORQ5JjMoGhcxKSUXGSA5QCQTGhoWOywrPT4uOywSNRkeIhgdIywVMhokNh8sLSYmJBgwHC8zJjsTHhYTIxwrQDEvNzA5JB0qNiAVIDc3NSUxMjAcKT83MiwwEikjEismFigfGDAXKxcTKB8SJSgyLTotIRgUKCI2KSstKyMaICcZLyQuOhIcIRMrGCAqIRInPh85FT0=",
          "dtype": "i1"
         },
         "xaxis": "x",
         "y": {
          "bdata": "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",
          "dtype": "f8"
         },
         "yaxis": "y"
        },
        {
         "customdata": {
          "bdata": "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",
          "dtype": "f8",
          "shape": "707, 1"
         },
         "hovertemplate": "BMI Category=Obeso<br>Age=%{x}<br>Insurance Charges=%{y}<br>bmi=%{customdata[0]}<extra></extra>",
         "legendgroup": "Obeso",
         "marker": {
          "color": "#EF553B",
          "symbol": "circle"
         },
         "mode": "markers",
         "name": "Obeso",
         "showlegend": true,
         "type": "scattergl",
         "x": {
          "bdata": "EhwuFzgbNDgePB4SIjcfFhw+IzwfJSY3EhwkEhUkOjoSIhk9KDo5FRYpLRYwJTkVI0AcNjcpEho/NiUVNDosLC80JjUTNhYaHS4zNSAsHhI2FCATPzEjGD8pEiwkHikdPRITJ0ATMBs/KBQoLSkiNSATNxw6KSofLBcoNjwYPzYbMjgmExM1LjstMik7Njc0LjscGR84HDkdHjopKzEbNDI2ICI5KC1AND09K0AyPj8xIS4hEi4XMCMxOCwSKhoUGEA+NzcjEzoYMBMwMS4rFRIvQDE0IBMrNEBAPSgZMBsTPDwWNB8hEjstIyA7Nzk4KDEqPjgbEi8ZFRc/MRIzMB8sNRM9Ph0TJRY4GxM6FC0jHyAzJhITLjk+JUAhLjUiFD82Nhw2Kz80GS4iIxM2GzISEyYpMTASHj45HzQTJyI9JhQpLiIrNBIzQDMeJhIULxM3HiUSITosNR0zQCM4IT0XKzA6MTUwLTsaGzAlIBIrKD4eHSksNzw4JygbLxQbGjUpOBcVMjUhMx8SKxQzOjM1PhMeEikYOzElFx01Mi8cQBgeEhYXOS9APSwpMygtIxIzPBUnJx46QBItKBMSLiEkFBchLRJAOCk/OiQqJDsVFzU8Mxc3JT0uMBklNxI5MishFjMkFjkvPj0SPDE8Gyw/EhgjPiYiMj4pGictIDISPjgqJSozLB82KzATPzQnExowLRsUKyIyJz8hGB09MBo2FTMWLy8VNjc9Fi0UNxYxLC0YIBg7MCc2JT8VLxw/ID45NC8XFjISMxY0GR06Nho2JjcZIRcuNRsXIyIbORwhEzIpJzI0PBQqEjorIxMUICsiHjkgJTgdFyoZFD4fOjATKS4WMzskOyQnNBsSHS4mISo4OjQaGTRAHBISICozNxwxNxgUGhkWMBI9FCwTLT4ZKSITEiMfPio9KjM0FzQyEhI=",
          "dtype": "i1"
         },
         "xaxis": "x",
         "y": {
          "bdata": "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",
          "dtype": "f8"
         },
         "yaxis": "y"
        },
        {
         "customdata": {
          "bdata": "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",
          "dtype": "f8",
          "shape": "225, 1"
         },
         "hovertemplate": "BMI Category=Normopeso<br>Age=%{x}<br>Insurance Charges=%{y}<br>bmi=%{customdata[0]}<extra></extra>",
         "legendgroup": "Normopeso",
         "marker": {
          "color": "#00cc96",
          "symbol": "circle"
         },
         "mode": "markers",
         "name": "Normopeso",
         "showlegend": true,
         "type": "scattergl",
         "x": {
          "bdata": "IRMXPxMaKTw1QBQcGy01OCYlEj0iIyowGxY8LhsYKicoIRMzNCgTFjMSNRMbORITFSo9OScsGi4zHyEvJiwZJC0dHhgcEjYfLDMVMz4cLhkgExUvFTsiMSgTKDlALTETNSEvGDIYMTwdIzUaLRM6JyYeHRY1HiEVNhwYPCccIzsbNTEZJD0ZKiwVNisTMSAhLSsTOScSEy4zIhYdIhgaGyceLxkwKxMSFy4SNhIrGRs/EiY4IS0XHhMnGjQ3JBcdNC0pHyUSHigUKRQ2Oj8lFhwTNCBAORIvJhUUGSodHhMX",
          "dtype": "i1"
         },
         "xaxis": "x",
         "y": {
          "bdata": "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",
          "dtype": "f8"
         },
         "yaxis": "y"
        },
        {
         "customdata": {
          "bdata": "w/UoXI9iMUCkcD0K18MxQOxRuB6F6y9AzczMzMwMMkDNzMzMzMwxQArXo3A9SjFAFK5H4Xr0MUB7FK5H4XoxQFK4HoXrMTFAcT0K16PQMEBmZmZmZmYxQOxRuB6FqzFA9ihcj8JVMkAK16NwPUoxQPYoXI/CVTJAzczMzMxMMkD2KFyPwlUyQFyPwvUo3DFAcT0K16PQMEAK16NwPUoxQA==",
          "dtype": "f8",
          "shape": "20, 1"
         },
         "hovertemplate": "BMI Category=Sottopeso<br>Age=%{x}<br>Insurance Charges=%{y}<br>bmi=%{customdata[0]}<extra></extra>",
         "legendgroup": "Sottopeso",
         "marker": {
          "color": "#ab63fa",
          "symbol": "circle"
         },
         "mode": "markers",
         "name": "Sottopeso",
         "showlegend": true,
         "type": "scattergl",
         "x": {
          "bdata": "FyASMxMSGxMaFRUaOSU8JzQjJhw=",
          "dtype": "i1"
         },
         "xaxis": "x",
         "y": {
          "bdata": "2ht8YWKupUDQ1Vbsi/ffQCNKe4Mve5pAH4XrUSDWwkBxPQrXI/+aQDSAt0C6DslA1edqK0pPzUBmiGNdXFWZQH/7OnDSO8xAw9MrZem+qEA/NV66iTKkQDBMpgrm8aRAbcX+sm+HxkDPZtXn+t26QA3gLZAkyslAPQrXo9CT0kBZF7fRhIPDQOviNhqA/LNAOiNKe4vwuUB2cRsNQCmtQA==",
          "dtype": "f8"
         },
         "yaxis": "y"
        }
       ],
       "layout": {
        "legend": {
         "title": {
          "text": "BMI Category"
         },
         "tracegroupgap": 0
        },
        "template": {
         "data": {
          "bar": [
           {
            "error_x": {
             "color": "#2a3f5f"
            },
            "error_y": {
             "color": "#2a3f5f"
            },
            "marker": {
             "line": {
              "color": "white",
              "width": 0.5
             },
             "pattern": {
              "fillmode": "overlay",
              "size": 10,
              "solidity": 0.2
             }
            },
            "type": "bar"
           }
          ],
          "barpolar": [
           {
            "marker": {
             "line": {
              "color": "white",
              "width": 0.5
             },
             "pattern": {
              "fillmode": "overlay",
              "size": 10,
              "solidity": 0.2
             }
            },
            "type": "barpolar"
           }
          ],
          "carpet": [
           {
            "aaxis": {
             "endlinecolor": "#2a3f5f",
             "gridcolor": "#C8D4E3",
             "linecolor": "#C8D4E3",
             "minorgridcolor": "#C8D4E3",
             "startlinecolor": "#2a3f5f"
            },
            "baxis": {
             "endlinecolor": "#2a3f5f",
             "gridcolor": "#C8D4E3",
             "linecolor": "#C8D4E3",
             "minorgridcolor": "#C8D4E3",
             "startlinecolor": "#2a3f5f"
            },
            "type": "carpet"
           }
          ],
          "choropleth": [
           {
            "colorbar": {
             "outlinewidth": 0,
             "ticks": ""
            },
            "type": "choropleth"
           }
          ],
          "contour": [
           {
            "colorbar": {
             "outlinewidth": 0,
             "ticks": ""
            },
            "colorscale": [
             [
              0,
              "#0d0887"
             ],
             [
              0.1111111111111111,
              "#46039f"
             ],
             [
              0.2222222222222222,
              "#7201a8"
             ],
             [
              0.3333333333333333,
              "#9c179e"
             ],
             [
              0.4444444444444444,
              "#bd3786"
             ],
             [
              0.5555555555555556,
              "#d8576b"
             ],
             [
              0.6666666666666666,
              "#ed7953"
             ],
             [
              0.7777777777777778,
              "#fb9f3a"
             ],
             [
              0.8888888888888888,
              "#fdca26"
             ],
             [
              1,
              "#f0f921"
             ]
            ],
            "type": "contour"
           }
          ],
          "contourcarpet": [
           {
            "colorbar": {
             "outlinewidth": 0,
             "ticks": ""
            },
            "type": "contourcarpet"
           }
          ],
          "heatmap": [
           {
            "colorbar": {
             "outlinewidth": 0,
             "ticks": ""
            },
            "colorscale": [
             [
              0,
              "#0d0887"
             ],
             [
              0.1111111111111111,
              "#46039f"
             ],
             [
              0.2222222222222222,
              "#7201a8"
             ],
             [
              0.3333333333333333,
              "#9c179e"
             ],
             [
              0.4444444444444444,
              "#bd3786"
             ],
             [
              0.5555555555555556,
              "#d8576b"
             ],
             [
              0.6666666666666666,
              "#ed7953"
             ],
             [
              0.7777777777777778,
              "#fb9f3a"
             ],
             [
              0.8888888888888888,
              "#fdca26"
             ],
             [
              1,
              "#f0f921"
             ]
            ],
            "type": "heatmap"
           }
          ],
          "histogram": [
           {
            "marker": {
             "pattern": {
              "fillmode": "overlay",
              "size": 10,
              "solidity": 0.2
             }
            },
            "type": "histogram"
           }
          ],
          "histogram2d": [
           {
            "colorbar": {
             "outlinewidth": 0,
             "ticks": ""
            },
            "colorscale": [
             [
              0,
              "#0d0887"
             ],
             [
              0.1111111111111111,
              "#46039f"
             ],
             [
              0.2222222222222222,
              "#7201a8"
             ],
             [
              0.3333333333333333,
              "#9c179e"
             ],
             [
              0.4444444444444444,
              "#bd3786"
             ],
             [
              0.5555555555555556,
              "#d8576b"
             ],
             [
              0.6666666666666666,
              "#ed7953"
             ],
             [
              0.7777777777777778,
              "#fb9f3a"
             ],
             [
              0.8888888888888888,
              "#fdca26"
             ],
             [
              1,
              "#f0f921"
             ]
            ],
            "type": "histogram2d"
           }
          ],
          "histogram2dcontour": [
           {
            "colorbar": {
             "outlinewidth": 0,
             "ticks": ""
            },
            "colorscale": [
             [
              0,
              "#0d0887"
             ],
             [
              0.1111111111111111,
              "#46039f"
             ],
             [
              0.2222222222222222,
              "#7201a8"
             ],
             [
              0.3333333333333333,
              "#9c179e"
             ],
             [
              0.4444444444444444,
              "#bd3786"
             ],
             [
              0.5555555555555556,
              "#d8576b"
             ],
             [
              0.6666666666666666,
              "#ed7953"
             ],
             [
              0.7777777777777778,
              "#fb9f3a"
             ],
             [
              0.8888888888888888,
              "#fdca26"
             ],
             [
              1,
              "#f0f921"
             ]
            ],
            "type": "histogram2dcontour"
           }
          ],
          "mesh3d": [
           {
            "colorbar": {
             "outlinewidth": 0,
             "ticks": ""
            },
            "type": "mesh3d"
           }
          ],
          "parcoords": [
           {
            "line": {
             "colorbar": {
              "outlinewidth": 0,
              "ticks": ""
             }
            },
            "type": "parcoords"
           }
          ],
          "pie": [
           {
            "automargin": true,
            "type": "pie"
           }
          ],
          "scatter": [
           {
            "fillpattern": {
             "fillmode": "overlay",
             "size": 10,
             "solidity": 0.2
            },
            "type": "scatter"
           }
          ],
          "scatter3d": [
           {
            "line": {
             "colorbar": {
              "outlinewidth": 0,
              "ticks": ""
             }
            },
            "marker": {
             "colorbar": {
              "outlinewidth": 0,
              "ticks": ""
             }
            },
            "type": "scatter3d"
           }
          ],
          "scattercarpet": [
           {
            "marker": {
             "colorbar": {
              "outlinewidth": 0,
              "ticks": ""
             }
            },
            "type": "scattercarpet"
           }
          ],
          "scattergeo": [
           {
            "marker": {
             "colorbar": {
              "outlinewidth": 0,
              "ticks": ""
             }
            },
            "type": "scattergeo"
           }
          ],
          "scattergl": [
           {
            "marker": {
             "colorbar": {
              "outlinewidth": 0,
              "ticks": ""
             }
            },
            "type": "scattergl"
           }
          ],
          "scattermap": [
           {
            "marker": {
             "colorbar": {
              "outlinewidth": 0,
              "ticks": ""
             }
            },
            "type": "scattermap"
           }
          ],
          "scattermapbox": [
           {
            "marker": {
             "colorbar": {
              "outlinewidth": 0,
              "ticks": ""
             }
            },
            "type": "scattermapbox"
           }
          ],
          "scatterpolar": [
           {
            "marker": {
             "colorbar": {
              "outlinewidth": 0,
              "ticks": ""
             }
            },
            "type": "scatterpolar"
           }
          ],
          "scatterpolargl": [
           {
            "marker": {
             "colorbar": {
              "outlinewidth": 0,
              "ticks": ""
             }
            },
            "type": "scatterpolargl"
           }
          ],
          "scatterternary": [
           {
            "marker": {
             "colorbar": {
              "outlinewidth": 0,
              "ticks": ""
             }
            },
            "type": "scatterternary"
           }
          ],
          "surface": [
           {
            "colorbar": {
             "outlinewidth": 0,
             "ticks": ""
            },
            "colorscale": [
             [
              0,
              "#0d0887"
             ],
             [
              0.1111111111111111,
              "#46039f"
             ],
             [
              0.2222222222222222,
              "#7201a8"
             ],
             [
              0.3333333333333333,
              "#9c179e"
             ],
             [
              0.4444444444444444,
              "#bd3786"
             ],
             [
              0.5555555555555556,
              "#d8576b"
             ],
             [
              0.6666666666666666,
              "#ed7953"
             ],
             [
              0.7777777777777778,
              "#fb9f3a"
             ],
             [
              0.8888888888888888,
              "#fdca26"
             ],
             [
              1,
              "#f0f921"
             ]
            ],
            "type": "surface"
           }
          ],
          "table": [
           {
            "cells": {
             "fill": {
              "color": "#EBF0F8"
             },
             "line": {
              "color": "white"
             }
            },
            "header": {
             "fill": {
              "color": "#C8D4E3"
             },
             "line": {
              "color": "white"
             }
            },
            "type": "table"
           }
          ]
         },
         "layout": {
          "annotationdefaults": {
           "arrowcolor": "#2a3f5f",
           "arrowhead": 0,
           "arrowwidth": 1
          },
          "autotypenumbers": "strict",
          "coloraxis": {
           "colorbar": {
            "outlinewidth": 0,
            "ticks": ""
           }
          },
          "colorscale": {
           "diverging": [
            [
             0,
             "#8e0152"
            ],
            [
             0.1,
             "#c51b7d"
            ],
            [
             0.2,
             "#de77ae"
            ],
            [
             0.3,
             "#f1b6da"
            ],
            [
             0.4,
             "#fde0ef"
            ],
            [
             0.5,
             "#f7f7f7"
            ],
            [
             0.6,
             "#e6f5d0"
            ],
            [
             0.7,
             "#b8e186"
            ],
            [
             0.8,
             "#7fbc41"
            ],
            [
             0.9,
             "#4d9221"
            ],
            [
             1,
             "#276419"
            ]
           ],
           "sequential": [
            [
             0,
             "#0d0887"
            ],
            [
             0.1111111111111111,
             "#46039f"
            ],
            [
             0.2222222222222222,
             "#7201a8"
            ],
            [
             0.3333333333333333,
             "#9c179e"
            ],
            [
             0.4444444444444444,
             "#bd3786"
            ],
            [
             0.5555555555555556,
             "#d8576b"
            ],
            [
             0.6666666666666666,
             "#ed7953"
            ],
            [
             0.7777777777777778,
             "#fb9f3a"
            ],
            [
             0.8888888888888888,
             "#fdca26"
            ],
            [
             1,
             "#f0f921"
            ]
           ],
           "sequentialminus": [
            [
             0,
             "#0d0887"
            ],
            [
             0.1111111111111111,
             "#46039f"
            ],
            [
             0.2222222222222222,
             "#7201a8"
            ],
            [
             0.3333333333333333,
             "#9c179e"
            ],
            [
             0.4444444444444444,
             "#bd3786"
            ],
            [
             0.5555555555555556,
             "#d8576b"
            ],
            [
             0.6666666666666666,
             "#ed7953"
            ],
            [
             0.7777777777777778,
             "#fb9f3a"
            ],
            [
             0.8888888888888888,
             "#fdca26"
            ],
            [
             1,
             "#f0f921"
            ]
           ]
          },
          "colorway": [
           "#636efa",
           "#EF553B",
           "#00cc96",
           "#ab63fa",
           "#FFA15A",
           "#19d3f3",
           "#FF6692",
           "#B6E880",
           "#FF97FF",
           "#FECB52"
          ],
          "font": {
           "color": "#2a3f5f"
          },
          "geo": {
           "bgcolor": "white",
           "lakecolor": "white",
           "landcolor": "white",
           "showlakes": true,
           "showland": true,
           "subunitcolor": "#C8D4E3"
          },
          "hoverlabel": {
           "align": "left"
          },
          "hovermode": "closest",
          "mapbox": {
           "style": "light"
          },
          "paper_bgcolor": "white",
          "plot_bgcolor": "white",
          "polar": {
           "angularaxis": {
            "gridcolor": "#EBF0F8",
            "linecolor": "#EBF0F8",
            "ticks": ""
           },
           "bgcolor": "white",
           "radialaxis": {
            "gridcolor": "#EBF0F8",
            "linecolor": "#EBF0F8",
            "ticks": ""
           }
          },
          "scene": {
           "xaxis": {
            "backgroundcolor": "white",
            "gridcolor": "#DFE8F3",
            "gridwidth": 2,
            "linecolor": "#EBF0F8",
            "showbackground": true,
            "ticks": "",
            "zerolinecolor": "#EBF0F8"
           },
           "yaxis": {
            "backgroundcolor": "white",
            "gridcolor": "#DFE8F3",
            "gridwidth": 2,
            "linecolor": "#EBF0F8",
            "showbackground": true,
            "ticks": "",
            "zerolinecolor": "#EBF0F8"
           },
           "zaxis": {
            "backgroundcolor": "white",
            "gridcolor": "#DFE8F3",
            "gridwidth": 2,
            "linecolor": "#EBF0F8",
            "showbackground": true,
            "ticks": "",
            "zerolinecolor": "#EBF0F8"
           }
          },
          "shapedefaults": {
           "line": {
            "color": "#2a3f5f"
           }
          },
          "ternary": {
           "aaxis": {
            "gridcolor": "#DFE8F3",
            "linecolor": "#A2B1C6",
            "ticks": ""
           },
           "baxis": {
            "gridcolor": "#DFE8F3",
            "linecolor": "#A2B1C6",
            "ticks": ""
           },
           "bgcolor": "white",
           "caxis": {
            "gridcolor": "#DFE8F3",
            "linecolor": "#A2B1C6",
            "ticks": ""
           }
          },
          "title": {
           "x": 0.05
          },
          "xaxis": {
           "automargin": true,
           "gridcolor": "#EBF0F8",
           "linecolor": "#EBF0F8",
           "ticks": "",
           "title": {
            "standoff": 15
           },
           "zerolinecolor": "#EBF0F8",
           "zerolinewidth": 2
          },
          "yaxis": {
           "automargin": true,
           "gridcolor": "#EBF0F8",
           "linecolor": "#EBF0F8",
           "ticks": "",
           "title": {
            "standoff": 15
           },
           "zerolinecolor": "#EBF0F8",
           "zerolinewidth": 2
          }
         }
        },
        "title": {
         "text": "Age vs Charges grouped by BMI Category"
        },
        "xaxis": {
         "anchor": "y",
         "domain": [
          0,
          1
         ],
         "title": {
          "text": "Age"
         }
        },
        "yaxis": {
         "anchor": "x",
         "domain": [
          0,
          1
         ],
         "title": {
          "text": "Insurance Charges"
         }
        }
       }
      }
     },
     "metadata": {},
     "output_type": "display_data"
    }
   ],
   "source": [
    "\n",
    "import plotly.express as px\n",
    "\n",
    "\n",
    "# Categorize BMI\n",
    "def categoria_bmi(bmi):\n",
    "    if bmi < 18.5:\n",
    "        return \"Sottopeso\"\n",
    "    elif bmi < 25:\n",
    "        return \"Normopeso\"\n",
    "    elif bmi < 30:\n",
    "        return \"Sovrappeso\"\n",
    "    else:\n",
    "        return \"Obeso\"\n",
    "\n",
    "df[\"categoria_bmi\"] = df[\"bmi\"].apply(categoria_bmi)\n",
    "\n",
    "# Create a scatter plot with Plotly\n",
    "fig = px.scatter(\n",
    "    df,\n",
    "    x=\"age\",\n",
    "    y=\"charges\",\n",
    "    color=\"categoria_bmi\",\n",
    "    title=\"Age vs Charges grouped by BMI Category\",\n",
    "    labels={\"age\": \"Age\", \"charges\": \"Insurance Charges\", \"categoria_bmi\": \"BMI Category\"},\n",
    "    hover_data=[\"bmi\"]\n",
    ")\n",
    "\n",
    "fig.update_layout(template=\"plotly_white\")\n",
    "fig.show()\n"
   ]
  },
  {
   "cell_type": "code",
   "execution_count": null,
   "id": "2d7d5cbf",
   "metadata": {},
   "outputs": [],
   "source": []
  }
 ],
 "metadata": {
  "kernelspec": {
   "display_name": "Python 3",
   "language": "python",
   "name": "python3"
  },
  "language_info": {
   "codemirror_mode": {
    "name": "ipython",
    "version": 3
   },
   "file_extension": ".py",
   "mimetype": "text/x-python",
   "name": "python",
   "nbconvert_exporter": "python",
   "pygments_lexer": "ipython3",
   "version": "3.13.1"
  }
 },
 "nbformat": 4,
 "nbformat_minor": 5
}
